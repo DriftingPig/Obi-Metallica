{
 "cells": [
  {
   "cell_type": "markdown",
   "metadata": {},
   "source": [
    "# Gallery for DR5\n",
    "\n",
    "The purpose of this notebook is to build the gallery for the fifth Legacy Survey data release, DR5.  The theme of this gallery is \"galaxy groups.\"\n",
    "\n",
    "The parent sample is a diameter-limited (*D25>5* arcsec) sample defined and documented as part of the [Legacy Survey Large Galaxy Atlas](https://github.com/moustakas/LSLGA).  Here, we use the group catalog constructed in [this notebook](https://github.com/legacysurvey/legacypipe/blob/master/doc/nb/legacysurvey-gallery-groups-dr5.ipynb)."
   ]
  },
  {
   "cell_type": "markdown",
   "metadata": {},
   "source": [
    "### Imports and paths"
   ]
  },
  {
   "cell_type": "code",
   "execution_count": 38,
   "metadata": {
    "collapsed": true
   },
   "outputs": [],
   "source": [
    "import os\n",
    "import numpy as np\n",
    "\n",
    "import fitsio\n",
    "import matplotlib.pyplot as plt\n",
    "from astropy.table import Table, Column, vstack\n",
    "from PIL import Image, ImageDraw, ImageFont\n",
    "\n",
    "from astrometry.util.util import Tan\n",
    "from astrometry.util.fits import merge_tables\n",
    "from legacypipe.survey import ccds_touching_wcs, LegacySurveyData"
   ]
  },
  {
   "cell_type": "code",
   "execution_count": 2,
   "metadata": {
    "collapsed": true
   },
   "outputs": [],
   "source": [
    "import multiprocessing\n",
    "nproc = multiprocessing.cpu_count() // 2\n",
    "nproc = 1 # hack because multiprocessing doesn't seem to be working in jupyter-dev"
   ]
  },
  {
   "cell_type": "code",
   "execution_count": 3,
   "metadata": {
    "collapsed": false
   },
   "outputs": [],
   "source": [
    "%matplotlib inline"
   ]
  },
  {
   "cell_type": "markdown",
   "metadata": {},
   "source": [
    "### Preliminaries\n",
    "\n",
    "Define the data release and specify the desired angular radius range (in arcmin) for the galaxies (and galaxy groups) that will end up in the gallery."
   ]
  },
  {
   "cell_type": "code",
   "execution_count": 4,
   "metadata": {
    "collapsed": false
   },
   "outputs": [],
   "source": [
    "dr = 'dr5'\n",
    "if dr == 'dr5':\n",
    "    PIXSCALE = 0.262\n",
    "else:\n",
    "    raise NotImplementedError"
   ]
  },
  {
   "cell_type": "code",
   "execution_count": 5,
   "metadata": {
    "collapsed": true
   },
   "outputs": [],
   "source": [
    "suffix = '0.05'"
   ]
  },
  {
   "cell_type": "code",
   "execution_count": 6,
   "metadata": {
    "collapsed": true
   },
   "outputs": [],
   "source": [
    "mindiameter, maxdiameter, d25min = 1.0, 10.0, 0.4 # [arcmin]\n",
    "minnmembers = 3"
   ]
  },
  {
   "cell_type": "code",
   "execution_count": 7,
   "metadata": {
    "collapsed": true
   },
   "outputs": [],
   "source": [
    "GALAXY_DIAMFACTOR = 2.0\n",
    "GROUP_DIAMFACTOR = 2.0"
   ]
  },
  {
   "cell_type": "code",
   "execution_count": 8,
   "metadata": {
    "collapsed": true
   },
   "outputs": [],
   "source": [
    "gallerydir = os.path.join( os.getenv('SCRATCH'), dr, 'gallery' )\n",
    "galleryfile = os.path.join(gallerydir, 'gallery-{}.fits'.format(dr))"
   ]
  },
  {
   "cell_type": "markdown",
   "metadata": {},
   "source": [
    "### Instantiate the LegacySurveyData class and read the full set of CCDs."
   ]
  },
  {
   "cell_type": "code",
   "execution_count": 9,
   "metadata": {
    "collapsed": true
   },
   "outputs": [],
   "source": [
    "survey = LegacySurveyData()"
   ]
  },
  {
   "cell_type": "code",
   "execution_count": 10,
   "metadata": {
    "collapsed": false
   },
   "outputs": [
    {
     "name": "stdout",
     "output_type": "stream",
     "text": [
      "Converted brickname from |S8 to <U8\n",
      "Reading annotated CCDs from /global/cscratch1/sd/desiproc/dr5/ccds-annotated-run19.fits.gz\n",
      "Converted object from |S37 to <U37\n",
      "Converted filter from |S1 to <U1\n",
      "Converted date_obs from |S10 to <U10\n",
      "Converted ut from |S15 to <U15\n",
      "Converted ha from |S13 to <U13\n",
      "Converted propid from |S10 to <U10\n",
      "Converted ccdname from |S3 to <U3\n",
      "Converted camera from |S5 to <U5\n",
      "Converted expid from |S12 to <U12\n",
      "Converted image_filename from |S51 to <U51\n",
      "Converted plver from |S6 to <U6\n",
      "Got 73860 CCDs\n",
      "Reading annotated CCDs from /global/cscratch1/sd/desiproc/dr5/ccds-annotated-decals.fits.gz\n",
      "Converted object from |S37 to <U37\n",
      "Converted filter from |S1 to <U1\n",
      "Converted date_obs from |S10 to <U10\n",
      "Converted ut from |S15 to <U15\n",
      "Converted ha from |S13 to <U13\n",
      "Converted propid from |S10 to <U10\n",
      "Converted ccdname from |S3 to <U3\n",
      "Converted camera from |S5 to <U5\n",
      "Converted expid from |S12 to <U12\n",
      "Converted image_filename from |S61 to <U61\n",
      "Converted plver from |S6 to <U6\n",
      "Got 493440 CCDs\n",
      "Reading annotated CCDs from /global/cscratch1/sd/desiproc/dr5/ccds-annotated-run28.fits.gz\n",
      "Converted object from |S37 to <U37\n",
      "Converted filter from |S1 to <U1\n",
      "Converted date_obs from |S10 to <U10\n",
      "Converted ut from |S15 to <U15\n",
      "Converted ha from |S13 to <U13\n",
      "Converted propid from |S10 to <U10\n",
      "Converted ccdname from |S3 to <U3\n",
      "Converted camera from |S5 to <U5\n",
      "Converted expid from |S12 to <U12\n",
      "Converted image_filename from |S51 to <U51\n",
      "Converted plver from |S6 to <U6\n",
      "Got 86986 CCDs\n",
      "Reading annotated CCDs from /global/cscratch1/sd/desiproc/dr5/ccds-annotated-extra.fits.gz\n",
      "Converted object from |S37 to <U37\n",
      "Converted filter from |S1 to <U1\n",
      "Converted date_obs from |S10 to <U10\n",
      "Converted ut from |S15 to <U15\n",
      "Converted ha from |S13 to <U13\n",
      "Converted propid from |S10 to <U10\n",
      "Converted ccdname from |S3 to <U3\n",
      "Converted camera from |S5 to <U5\n",
      "Converted expid from |S12 to <U12\n",
      "Converted image_filename from |S61 to <U61\n",
      "Converted plver from |S6 to <U6\n",
      "Got 487556 CCDs\n",
      "Reading annotated CCDs from /global/cscratch1/sd/desiproc/dr5/ccds-annotated-nondecals.fits.gz\n",
      "Converted object from |S37 to <U37\n",
      "Converted filter from |S1 to <U1\n",
      "Converted date_obs from |S10 to <U10\n",
      "Converted ut from |S15 to <U15\n",
      "Converted ha from |S13 to <U13\n",
      "Converted propid from |S10 to <U10\n",
      "Converted ccdname from |S3 to <U3\n",
      "Converted camera from |S5 to <U5\n",
      "Converted expid from |S12 to <U12\n",
      "Converted image_filename from |S61 to <U61\n",
      "Converted plver from |S6 to <U6\n",
      "Got 670810 CCDs\n",
      "Reading annotated CCDs from /global/cscratch1/sd/desiproc/dr5/ccds-annotated-run21.fits.gz\n",
      "Converted object from |S37 to <U37\n",
      "Converted filter from |S1 to <U1\n",
      "Converted date_obs from |S10 to <U10\n",
      "Converted ut from |S15 to <U15\n",
      "Converted ha from |S13 to <U13\n",
      "Converted propid from |S10 to <U10\n",
      "Converted ccdname from |S3 to <U3\n",
      "Converted camera from |S5 to <U5\n",
      "Converted expid from |S12 to <U12\n",
      "Converted image_filename from |S51 to <U51\n",
      "Converted plver from |S6 to <U6\n",
      "Got 39720 CCDs\n",
      "Reading annotated CCDs from /global/cscratch1/sd/desiproc/dr5/ccds-annotated-run27.fits.gz\n",
      "Converted object from |S37 to <U37\n",
      "Converted filter from |S1 to <U1\n",
      "Converted date_obs from |S10 to <U10\n",
      "Converted ut from |S15 to <U15\n",
      "Converted ha from |S13 to <U13\n",
      "Converted propid from |S10 to <U10\n",
      "Converted ccdname from |S3 to <U3\n",
      "Converted camera from |S5 to <U5\n",
      "Converted expid from |S12 to <U12\n",
      "Converted image_filename from |S51 to <U51\n",
      "Converted plver from |S6 to <U6\n",
      "Got 91866 CCDs\n",
      "Reading annotated CCDs from /global/cscratch1/sd/desiproc/dr5/ccds-annotated-nondecals-dr5.fits.gz\n",
      "Converted object from |S37 to <U37\n",
      "Converted filter from |S1 to <U1\n",
      "Converted date_obs from |S10 to <U10\n",
      "Converted ut from |S15 to <U15\n",
      "Converted ha from |S13 to <U13\n",
      "Converted propid from |S10 to <U10\n",
      "Converted ccdname from |S3 to <U3\n",
      "Converted temp from |S32 to <U32\n",
      "Converted camera from |S5 to <U5\n",
      "Converted expid from |S12 to <U12\n",
      "Converted image_filename from |S65 to <U65\n",
      "Converted plver from |S6 to <U6\n",
      "Got 551580 CCDs\n",
      "Reading annotated CCDs from /global/cscratch1/sd/desiproc/dr5/ccds-annotated-run14.fits.gz\n",
      "Converted object from |S37 to <U37\n",
      "Converted filter from |S1 to <U1\n",
      "Converted date_obs from |S10 to <U10\n",
      "Converted ut from |S15 to <U15\n",
      "Converted ha from |S13 to <U13\n",
      "Converted propid from |S10 to <U10\n",
      "Converted ccdname from |S3 to <U3\n",
      "Converted camera from |S5 to <U5\n",
      "Converted expid from |S12 to <U12\n",
      "Converted image_filename from |S51 to <U51\n",
      "Converted plver from |S6 to <U6\n",
      "Got 85020 CCDs\n",
      "Reading annotated CCDs from /global/cscratch1/sd/desiproc/dr5/ccds-annotated-run16.fits.gz\n",
      "Converted object from |S37 to <U37\n",
      "Converted filter from |S1 to <U1\n",
      "Converted date_obs from |S10 to <U10\n",
      "Converted ut from |S15 to <U15\n",
      "Converted ha from |S13 to <U13\n",
      "Converted propid from |S10 to <U10\n",
      "Converted ccdname from |S3 to <U3\n",
      "Converted camera from |S5 to <U5\n",
      "Converted expid from |S12 to <U12\n",
      "Converted image_filename from |S51 to <U51\n",
      "Converted plver from |S6 to <U6\n",
      "Got 40200 CCDs\n",
      "Reading annotated CCDs from /global/cscratch1/sd/desiproc/dr5/ccds-annotated-run25.fits.gz\n",
      "Converted object from |S37 to <U37\n",
      "Converted filter from |S1 to <U1\n",
      "Converted date_obs from |S10 to <U10\n",
      "Converted ut from |S15 to <U15\n",
      "Converted ha from |S13 to <U13\n",
      "Converted propid from |S10 to <U10\n",
      "Converted ccdname from |S3 to <U3\n",
      "Converted camera from |S5 to <U5\n",
      "Converted expid from |S12 to <U12\n",
      "Converted image_filename from |S51 to <U51\n",
      "Converted plver from |S6 to <U6\n",
      "Got 121085 CCDs\n",
      "Total of 2742123 CCDs\n",
      "Finding photometric CCDs.  Cameras: ['decam']\n",
      "Checking 2742123 images from camera decam\n",
      "Flagged 8007 more non-photometric using criterion: exptime < 30 s\n",
      "Flagged 91271 more non-photometric using criterion: ccdnmatch < 20\n",
      "Flagged 15502 more non-photometric using criterion: abs(zpt - ccdzpt) > 0.1\n",
      "Flagged 114979 more non-photometric using criterion: zpt < 0.5 mag of nominal\n",
      "Flagged 0 more non-photometric using criterion: zpt > 0.25 mag of nominal\n",
      "Keeping 2512364 photometric CCDs from camera decam\n",
      "Computing CCD cuts.  Cameras: ['decam']\n",
      "Checking 2512364 images from camera decam\n",
      "Read 2512364 CCDs.\n"
     ]
    }
   ],
   "source": [
    "bricks = survey.get_bricks()\n",
    "allccds = survey.get_annotated_ccds()\n",
    "cut = survey.photometric_ccds(allccds)\n",
    "if cut is not None:\n",
    "    allccds.cut(cut)\n",
    "cut = survey.ccd_cuts(allccds)\n",
    "allccds.cut(cut == 0)\n",
    "print('Read {} CCDs.'.format(len(allccds)))"
   ]
  },
  {
   "cell_type": "markdown",
   "metadata": {},
   "source": [
    "### Define the parent sample based on cuts to D(25)."
   ]
  },
  {
   "cell_type": "code",
   "execution_count": 11,
   "metadata": {
    "collapsed": true
   },
   "outputs": [],
   "source": [
    "def read_groupcat(gallerydir='.', mindiameter=0.0, maxdiameter=1000.0, d25min=0.5,\n",
    "                  decmin=-90.0, decmax=+90.0, ramin=0.0, ramax=360.0, \n",
    "                  minnmembers=1):\n",
    "    \"\"\"Read the LEDA group catalog.  Look for individual galaxies or groups with \n",
    "    diameters between [mindiameter, maxdiameter] (arcminutes) but also require the\n",
    "    smallest member of each group to have D(25)>d25min (arcminute).  These cuts\n",
    "    ensure that we don't build up mosaics of lots of small separated galaxies -- \n",
    "    we require at least one \"big\" galaxy in each mosaic.\n",
    "    \n",
    "    In addition, there are optional cuts on (ra,dec) which are useful for testing.\n",
    "    \n",
    "    minnmembers is the minimum number of members in each group.\n",
    "    \n",
    "    \"\"\"\n",
    "    groupfile = os.path.join(gallerydir, 'leda-logd25-{}-groupcat.fits'.format(suffix))\n",
    "    print('Reading {}'.format(groupfile))\n",
    "    cat = Table.read(groupfile)\n",
    "\n",
    "    these = np.where((cat['DIAMETER'] / 60.0 <= maxdiameter) *\n",
    "                     (cat['DIAMETER'] / 60.0 >= mindiameter) *\n",
    "                     (cat['D25MIN'] / 60.0 >= d25min) *\n",
    "                     (cat['NMEMBERS'] >= minnmembers) *\n",
    "                     (cat['DEC'] <= decmax) *\n",
    "                     (cat['DEC'] >= decmin) *\n",
    "                     (cat['RA'] <= ramax) *\n",
    "                     (cat['RA'] >= ramin)\n",
    "                     )[0]\n",
    "    outcat = cat[these] \n",
    "    outcat.add_column(Column(name='BRICKNAME', dtype='S17', shape=(6,), length=len(outcat)))\n",
    "\n",
    "    print('Found {}/{} groups with N>{} members, each with D(25)>{}, and in the diameter range={}-{} arcmin.'.format(\n",
    "            len(outcat), len(cat), minnmembers, d25min, mindiameter, maxdiameter))\n",
    "\n",
    "    return outcat"
   ]
  },
  {
   "cell_type": "code",
   "execution_count": 12,
   "metadata": {
    "collapsed": false
   },
   "outputs": [
    {
     "name": "stdout",
     "output_type": "stream",
     "text": [
      "Reading /global/cscratch1/sd/ioannis/dr5/gallery/leda-logd25-0.05-groupcat.fits\n",
      "Found 1300/713903 groups with N>3 members, each with D(25)>0.4, and in the diameter range=1.0-10.0 arcmin.\n"
     ]
    },
    {
     "data": {
      "text/html": [
       "&lt;Table length=1300&gt;\n",
       "<table id=\"table47991024620152\" class=\"table-striped table-bordered table-condensed\">\n",
       "<thead><tr><th>GROUPID</th><th>GALAXY</th><th>NMEMBERS</th><th>RA</th><th>DEC</th><th>DIAMETER</th><th>D25MAX</th><th>D25MIN</th><th>BRICKNAME [6]</th></tr></thead>\n",
       "<thead><tr><th>int32</th><th>str1000</th><th>int32</th><th>float64</th><th>float64</th><th>float32</th><th>float32</th><th>float32</th><th>bytes17</th></tr></thead>\n",
       "<tr><td>611510</td><td>NGC7805,NGC7806,PGC000111</td><td>3</td><td>0.377</td><td>31.4395333333</td><td>109.654</td><td>84.7523</td><td>32.9725</td><td>..</td></tr>\n",
       "<tr><td>611520</td><td>PGC000113,PGC671782,PGC671745</td><td>3</td><td>0.4157</td><td>-33.76655</td><td>185.913</td><td>31.4885</td><td>28.0641</td><td>..</td></tr>\n",
       "<tr><td>611701</td><td>PGC2452515,PGC2453273,PGC2453243</td><td>3</td><td>0.8103</td><td>53.8627</td><td>164.573</td><td>65.7887</td><td>25.5948</td><td>..</td></tr>\n",
       "<tr><td>611744</td><td>PGC472503,PGC129167,PGC073219</td><td>3</td><td>0.9184</td><td>-49.8610366667</td><td>246.576</td><td>39.6416</td><td>28.7178</td><td>..</td></tr>\n",
       "<tr><td>611800</td><td>PGC087701,PGC737465,PGC737031,PGC736578,PGC737450</td><td>5</td><td>0.98631</td><td>-28.806118</td><td>370.239</td><td>30.0712</td><td>25.0122</td><td>..</td></tr>\n",
       "<tr><td>611872</td><td>PGC427313,PGC143280,PGC143288</td><td>3</td><td>1.18915</td><td>-53.6730533333</td><td>239.536</td><td>26.801</td><td>25.5948</td><td>..</td></tr>\n",
       "<tr><td>611909</td><td>PGC595015,PGC595115,PGC595097</td><td>3</td><td>1.23565</td><td>-39.7075533333</td><td>151.034</td><td>47.6597</td><td>26.801</td><td>..</td></tr>\n",
       "<tr><td>611921</td><td>PGC000346,PGC073229,ESO193-017</td><td>3</td><td>1.2675</td><td>-50.8264566667</td><td>90.7272</td><td>60.0</td><td>27.4253</td><td>..</td></tr>\n",
       "<tr><td>611934</td><td>PGC773329,PGC198124,PGC773825</td><td>3</td><td>1.2831</td><td>-25.9208633333</td><td>185.915</td><td>36.9957</td><td>26.1909</td><td>..</td></tr>\n",
       "<tr><td>611960</td><td>PGC000369,PGC000368,PGC2019681</td><td>3</td><td>1.3288</td><td>32.97962</td><td>62.8834</td><td>42.4767</td><td>33.7405</td><td>..</td></tr>\n",
       "<tr><td>...</td><td>...</td><td>...</td><td>...</td><td>...</td><td>...</td><td>...</td><td>...</td><td>...</td></tr>\n",
       "<tr><td>713079</td><td>PGC229251,PGC229255,ESO012-009</td><td>3</td><td>358.3678</td><td>-79.8156566667</td><td>175.529</td><td>49.9058</td><td>39.6416</td><td>..</td></tr>\n",
       "<tr><td>713130</td><td>PGC072755,NGC7764A,NGC7764E</td><td>3</td><td>358.3474</td><td>-40.8090133333</td><td>84.8074</td><td>57.2996</td><td>40.565</td><td>..</td></tr>\n",
       "<tr><td>713181</td><td>PGC095007,PGC095008,PGC421602</td><td>3</td><td>358.46235</td><td>-54.2050533333</td><td>183.51</td><td>37.8574</td><td>24.4428</td><td>..</td></tr>\n",
       "<tr><td>713306</td><td>ESO538-004,PGC877190,PGC877789</td><td>3</td><td>358.7116</td><td>-17.7879166667</td><td>215.22</td><td>48.7698</td><td>25.5948</td><td>..</td></tr>\n",
       "<tr><td>713340</td><td>PGC522664,PGC130021,PGC092822</td><td>3</td><td>358.7826</td><td>-45.7799666667</td><td>189.422</td><td>38.7393</td><td>30.0712</td><td>..</td></tr>\n",
       "<tr><td>713447</td><td>UGC12850,PGC072938,PGC072939</td><td>3</td><td>359.05405</td><td>29.3917766667</td><td>208.674</td><td>57.2996</td><td>35.3306</td><td>..</td></tr>\n",
       "<tr><td>713583</td><td>ESO078-010,PGC320062,PGC095363</td><td>3</td><td>359.3218</td><td>-64.69111</td><td>103.845</td><td>51.0683</td><td>26.1909</td><td>..</td></tr>\n",
       "<tr><td>713616</td><td>PGC280463,PGC280390,PGC280408</td><td>3</td><td>359.41175</td><td>-69.2368966667</td><td>150.508</td><td>31.4885</td><td>26.1909</td><td>..</td></tr>\n",
       "<tr><td>713681</td><td>PGC703203,PGC703226,PGC702977</td><td>3</td><td>359.49505</td><td>-31.61732</td><td>193.894</td><td>30.7717</td><td>25.0122</td><td>..</td></tr>\n",
       "<tr><td>713768</td><td>PGC215015,UGC12874,PGC215016</td><td>3</td><td>359.67455</td><td>27.15513</td><td>166.489</td><td>36.9957</td><td>28.7178</td><td>..</td></tr>\n",
       "</table>"
      ],
      "text/plain": [
       "<Table length=1300>\n",
       "GROUPID                       GALAXY                      ... BRICKNAME [6]\n",
       " int32                       str1000                      ...    bytes17   \n",
       "------- ------------------------------------------------- ... -------------\n",
       " 611510                         NGC7805,NGC7806,PGC000111 ...           .. \n",
       " 611520                     PGC000113,PGC671782,PGC671745 ...           .. \n",
       " 611701                  PGC2452515,PGC2453273,PGC2453243 ...           .. \n",
       " 611744                     PGC472503,PGC129167,PGC073219 ...           .. \n",
       " 611800 PGC087701,PGC737465,PGC737031,PGC736578,PGC737450 ...           .. \n",
       " 611872                     PGC427313,PGC143280,PGC143288 ...           .. \n",
       " 611909                     PGC595015,PGC595115,PGC595097 ...           .. \n",
       " 611921                    PGC000346,PGC073229,ESO193-017 ...           .. \n",
       " 611934                     PGC773329,PGC198124,PGC773825 ...           .. \n",
       " 611960                    PGC000369,PGC000368,PGC2019681 ...           .. \n",
       "    ...                                               ... ...           ...\n",
       " 713079                    PGC229251,PGC229255,ESO012-009 ...           .. \n",
       " 713130                       PGC072755,NGC7764A,NGC7764E ...           .. \n",
       " 713181                     PGC095007,PGC095008,PGC421602 ...           .. \n",
       " 713306                    ESO538-004,PGC877190,PGC877789 ...           .. \n",
       " 713340                     PGC522664,PGC130021,PGC092822 ...           .. \n",
       " 713447                      UGC12850,PGC072938,PGC072939 ...           .. \n",
       " 713583                    ESO078-010,PGC320062,PGC095363 ...           .. \n",
       " 713616                     PGC280463,PGC280390,PGC280408 ...           .. \n",
       " 713681                     PGC703203,PGC703226,PGC702977 ...           .. \n",
       " 713768                      PGC215015,UGC12874,PGC215016 ...           .. "
      ]
     },
     "execution_count": 12,
     "metadata": {},
     "output_type": "execute_result"
    }
   ],
   "source": [
    "parent = read_groupcat(gallerydir=gallerydir, mindiameter=mindiameter, \n",
    "                       maxdiameter=maxdiameter, d25min=d25min, \n",
    "                       minnmembers=minnmembers)\n",
    "parent"
   ]
  },
  {
   "cell_type": "code",
   "execution_count": 13,
   "metadata": {
    "collapsed": false
   },
   "outputs": [],
   "source": [
    "if False:\n",
    "    these = (parent['RA'] > 200) * (parent['RA'] < 210) * (parent['DEC'] > 5) * (parent['DEC'] < 10.0)\n",
    "    parent = parent[these]\n",
    "    print(np.sum(these))"
   ]
  },
  {
   "cell_type": "markdown",
   "metadata": {},
   "source": [
    "### Build the parent sample of galaxies in the DR5 footprint."
   ]
  },
  {
   "cell_type": "code",
   "execution_count": 14,
   "metadata": {
    "collapsed": true
   },
   "outputs": [],
   "source": [
    "def _uniqccds(ccds):\n",
    "    '''Get the unique set of CCD files.'''\n",
    "    ccdfile = []\n",
    "    [ccdfile.append('{}-{}'.format(expnum, ccdname)) for expnum,\n",
    "     ccdname in zip(ccds.expnum, ccds.ccdname)]\n",
    "    _, indx = np.unique(ccdfile, return_index=True)\n",
    "    return ccds[indx]"
   ]
  },
  {
   "cell_type": "code",
   "execution_count": 15,
   "metadata": {
    "collapsed": false
   },
   "outputs": [],
   "source": [
    "def _galwcs(gal, factor=2.0):\n",
    "    '''Build a simple WCS object for a single galaxy.\n",
    "    \n",
    "    '''\n",
    "    diam = factor*np.ceil(gal['DIAMETER']/PIXSCALE).astype('int16') # [pixels]\n",
    "    galwcs = Tan(gal['RA'], gal['DEC'], diam/2+0.5, diam/2+0.5,\n",
    "                 -PIXSCALE/3600.0, 0.0, 0.0, PIXSCALE/3600.0, \n",
    "                 float(diam), float(diam))\n",
    "    return galwcs"
   ]
  },
  {
   "cell_type": "code",
   "execution_count": 16,
   "metadata": {
    "collapsed": true
   },
   "outputs": [],
   "source": [
    "def _build_sample_onegalaxy(args):\n",
    "    \"\"\"Filler function for the multiprocessing.\"\"\"\n",
    "    return build_sample_onegalaxy(*args)"
   ]
  },
  {
   "cell_type": "code",
   "execution_count": 17,
   "metadata": {
    "collapsed": true
   },
   "outputs": [],
   "source": [
    "def build_sample_onegalaxy(gal, verbose=False):\n",
    "    \"\"\"Wrapper function to find overlapping CCDs for a given galaxy.\n",
    "\n",
    "    First generously find the nearest set of CCDs that are near the galaxy and\n",
    "    then demand that there's 3-band coverage in a much smaller region centered\n",
    "    on the galaxy.\n",
    "\n",
    "    \"\"\"\n",
    "    #print('Working on {}...'.format(gal['GALAXY'].strip()))\n",
    "    if gal['NMEMBERS'] == 1:\n",
    "        galwcs = _galwcs(gal, factor=GALAXY_DIAMFACTOR)\n",
    "    else:\n",
    "        galwcs = _galwcs(gal, factor=GROUP_DIAMFACTOR)\n",
    "    these = ccds_touching_wcs(galwcs, allccds)\n",
    "\n",
    "    if len(these) > 0:\n",
    "        ccds1 = _uniqccds( allccds[these] )\n",
    "\n",
    "        # Is there 3-band coverage?\n",
    "        galwcs_small = _galwcs(gal, factor=1.0)\n",
    "        these_small = ccds_touching_wcs(galwcs_small, ccds1)\n",
    "        ccds1_small = _uniqccds( ccds1[these_small] )\n",
    "\n",
    "        if 'g' in ccds1_small.filter and 'r' in ccds1_small.filter and 'z' in ccds1_small.filter:\n",
    "            if verbose:\n",
    "                print('For {} found {} CCDs, RA = {:.5f}, Dec = {:.5f}, Diameter={:.4f} arcsec'.format(\n",
    "                        gal['GALAXY'].strip(), len(ccds1), gal['RA'], gal['DEC'], gal['DIAMETER']))\n",
    "            \n",
    "            # Also get the set of bricks touching this footprint.\n",
    "            rad = gal['DIAMETER'] / 3600 # [degree]\n",
    "            brickindx = survey.bricks_touching_radec_box(bricks,\n",
    "                                                         gal['RA']-rad, gal['RA']+rad,\n",
    "                                                         gal['DEC']-rad, gal['DEC']+rad)\n",
    "            if len(brickindx) == 0 or len(brickindx) > len(gal['BRICKNAME']):\n",
    "                print('This should not happen!')\n",
    "                import pdb ; pdb.set_trace()\n",
    "            gal['BRICKNAME'][:len(brickindx)] = bricks.brickname[brickindx]\n",
    "\n",
    "            return [gal, ccds1]\n",
    "\n",
    "    return None"
   ]
  },
  {
   "cell_type": "code",
   "execution_count": 18,
   "metadata": {
    "collapsed": false
   },
   "outputs": [],
   "source": [
    "def build_sample():\n",
    "    \"\"\"Build the sample for all galaxies with the option of multiprocessing\n",
    "    (although it doesn't work on jupyter-dev).\"\"\"\n",
    "    sampleargs = list()\n",
    "    for cc in parent:\n",
    "        sampleargs.append( (cc, False) ) # the False refers to verbose=False\n",
    "\n",
    "    if nproc > 1:\n",
    "        p = multiprocessing.Pool(nproc)\n",
    "        result = p.map(_build_sample_onegalaxy, sampleargs)\n",
    "        p.close()\n",
    "    else:\n",
    "        result = list()\n",
    "        for args in sampleargs:\n",
    "            result.append(_build_sample_onegalaxy(args))\n",
    "\n",
    "    # Remove non-matching galaxies and write out the sample\n",
    "    result = list(filter(None, result))\n",
    "    result = list(zip(*result))\n",
    "\n",
    "    outcat = vstack(result[0])\n",
    "    outccds = merge_tables(result[1])\n",
    "    print('Found {}/{} galaxies and groups in the DR5 footprint.'.format(len(outcat), len(parent)))\n",
    "    \n",
    "    # Add a fracmasked column.\n",
    "    outcat.add_column(Column(name='FRACMASKED', shape=(3,), length=len(outcat), dtype='f2'))\n",
    "    \n",
    "    return outcat"
   ]
  },
  {
   "cell_type": "code",
   "execution_count": 19,
   "metadata": {
    "collapsed": false
   },
   "outputs": [
    {
     "name": "stdout",
     "output_type": "stream",
     "text": [
      "Found 271/1300 galaxies and groups in the DR5 footprint.\n",
      "CPU times: user 28.7 s, sys: 164 ms, total: 28.9 s\n",
      "Wall time: 28.9 s\n"
     ]
    },
    {
     "data": {
      "text/html": [
       "&lt;Table length=271&gt;\n",
       "<table id=\"table47990738975432\" class=\"table-striped table-bordered table-condensed\">\n",
       "<thead><tr><th>GROUPID</th><th>GALAXY</th><th>NMEMBERS</th><th>RA</th><th>DEC</th><th>DIAMETER</th><th>D25MAX</th><th>D25MIN</th><th>BRICKNAME [6]</th><th>FRACMASKED [3]</th></tr></thead>\n",
       "<thead><tr><th>int32</th><th>str1000</th><th>int32</th><th>float64</th><th>float64</th><th>float32</th><th>float32</th><th>float32</th><th>bytes20</th><th>float16</th></tr></thead>\n",
       "<tr><td>614652</td><td>NGC0127,NGC0128,NGC0130</td><td>3</td><td>7.3139</td><td>2.86903333333</td><td>189.737</td><td>189.737</td><td>42.4767</td><td>0073p027 ..</td><td>0.0 .. 0.0</td></tr>\n",
       "<tr><td>615005</td><td>PGC1036047,PGC1036361,PGC1036593</td><td>3</td><td>8.2232</td><td>-6.13836333333</td><td>201.951</td><td>53.4751</td><td>28.0641</td><td>0081m062 ..</td><td>0.0 .. 0.0</td></tr>\n",
       "<tr><td>615052</td><td>PGC1028413,PGC143577,PGC143579</td><td>3</td><td>8.3796</td><td>-6.82209333333</td><td>151.885</td><td>27.4253</td><td>24.4428</td><td>0084m067 ..</td><td>0.0 .. 0.0</td></tr>\n",
       "<tr><td>615465</td><td>PGC1101085,PGC1100823,PGC1100450</td><td>3</td><td>9.30705</td><td>-2.13501666667</td><td>141.452</td><td>37.8574</td><td>25.0122</td><td>0093m022 ..</td><td>0.0 .. 0.0</td></tr>\n",
       "<tr><td>615699</td><td>NGC0192,NGC0196,NGC0197</td><td>3</td><td>9.8195</td><td>0.889566666667</td><td>212.301</td><td>122.504</td><td>55.9953</td><td>0098p007 ..</td><td>0.0 .. 0.0</td></tr>\n",
       "<tr><td>616634</td><td>PGC842319,NGC0247B,ESO540-024,ESO540-025,PGC002798</td><td>5</td><td>11.89698</td><td>-20.456582</td><td>480.295</td><td>62.8277</td><td>31.4885</td><td>0118m205 ..</td><td>0.0 .. 0.0</td></tr>\n",
       "<tr><td>616934</td><td>PGC090503,PGC1244573,PGC1244244</td><td>3</td><td>12.65625</td><td>3.07869666667</td><td>151.249</td><td>39.6416</td><td>28.0641</td><td>0126p030 ..</td><td>0.0 .. 0.0</td></tr>\n",
       "<tr><td>617056</td><td>IC0055,PGC1328252,PGC1328284</td><td>3</td><td>12.95565</td><td>7.69844333333</td><td>258.555</td><td>47.6597</td><td>26.1909</td><td>0129p077 ..</td><td>0.0 .. 0.0</td></tr>\n",
       "<tr><td>617185</td><td>PGC173062,PGC173063,PGC173070</td><td>3</td><td>13.28545</td><td>-3.63262</td><td>196.097</td><td>47.6597</td><td>30.7717</td><td>0131m037 ..</td><td>0.0 .. 0.0</td></tr>\n",
       "<tr><td>618099</td><td>PGC003597,PGC914550,PGC173260</td><td>3</td><td>15.12245</td><td>-15.18764</td><td>219.216</td><td>48.7698</td><td>25.0122</td><td>0151m152 ..</td><td>0.0 .. 0.0</td></tr>\n",
       "<tr><td>...</td><td>...</td><td>...</td><td>...</td><td>...</td><td>...</td><td>...</td><td>...</td><td>...</td><td>...</td></tr>\n",
       "<tr><td>702612</td><td>PGC1016425,PGC1016359,PGC1016757,PGC3103716</td><td>4</td><td>328.2866625</td><td>-7.585455</td><td>188.898</td><td>52.2578</td><td>25.5948</td><td>3281m077 ..</td><td>0.0 .. 0.0</td></tr>\n",
       "<tr><td>702871</td><td>PGC214792,UGC11853,PGC1125125</td><td>3</td><td>329.0723</td><td>-1.16768</td><td>113.978</td><td>55.9953</td><td>25.0122</td><td>3291m012 ..</td><td>0.0 .. 0.0</td></tr>\n",
       "<tr><td>704272</td><td>PGC1137098,PGC1137118,PGC1137040</td><td>3</td><td>333.18625</td><td>-0.691466666667</td><td>186.901</td><td>28.7178</td><td>24.4428</td><td>3331m007 ..</td><td>0.0 .. 0.0</td></tr>\n",
       "<tr><td>706306</td><td>PGC193192,PGC193199,PGC193201</td><td>3</td><td>339.0573</td><td>1.40753666667</td><td>82.9296</td><td>43.4662</td><td>25.5948</td><td>3391p015 ..</td><td>0.0 .. 0.0</td></tr>\n",
       "<tr><td>706866</td><td>PGC1188417,PGC1187491,PGC1187416</td><td>3</td><td>340.6067</td><td>1.20671333333</td><td>157.135</td><td>32.2219</td><td>25.5948</td><td>3406p012 ..</td><td>0.0 .. 0.0</td></tr>\n",
       "<tr><td>708496</td><td>NGC7463,NGC7464,NGC7465</td><td>3</td><td>345.48155</td><td>15.9734866667</td><td>170.702</td><td>95.0936</td><td>30.7717</td><td>3453p160 ..</td><td>0.0 .. 0.0</td></tr>\n",
       "<tr><td>709687</td><td>NGC7562,PGC197664,NGC7562A</td><td>3</td><td>348.99735</td><td>6.6563</td><td>235.432</td><td>131.266</td><td>25.0122</td><td>3488p065 ..</td><td>0.0 .. 0.0</td></tr>\n",
       "<tr><td>710495</td><td>PGC1479636,PGC1476973,UGC12590,PGC165923,PGC1478384</td><td>5</td><td>351.3018</td><td>15.215332</td><td>402.32</td><td>52.2578</td><td>24.4428</td><td>3510p150 ..</td><td>0.0 .. 0.0</td></tr>\n",
       "<tr><td>712332</td><td>PGC196423,PGC1087348,PGC1087779</td><td>3</td><td>356.436</td><td>-2.61394333333</td><td>233.658</td><td>44.4786</td><td>26.1909</td><td>3563m027 ..</td><td>0.0 .. 0.0</td></tr>\n",
       "<tr><td>712466</td><td>IC5351,PGC072405,IC5357</td><td>3</td><td>356.83595</td><td>-2.29861333333</td><td>131.781</td><td>101.895</td><td>26.801</td><td>3568m022 ..</td><td>0.0 .. 0.0</td></tr>\n",
       "</table>"
      ],
      "text/plain": [
       "<Table length=271>\n",
       "GROUPID                        GALAXY                       ... FRACMASKED [3]\n",
       " int32                        str1000                       ...    float16    \n",
       "------- --------------------------------------------------- ... --------------\n",
       " 614652                             NGC0127,NGC0128,NGC0130 ...     0.0 .. 0.0\n",
       " 615005                    PGC1036047,PGC1036361,PGC1036593 ...     0.0 .. 0.0\n",
       " 615052                      PGC1028413,PGC143577,PGC143579 ...     0.0 .. 0.0\n",
       " 615465                    PGC1101085,PGC1100823,PGC1100450 ...     0.0 .. 0.0\n",
       " 615699                             NGC0192,NGC0196,NGC0197 ...     0.0 .. 0.0\n",
       " 616634  PGC842319,NGC0247B,ESO540-024,ESO540-025,PGC002798 ...     0.0 .. 0.0\n",
       " 616934                     PGC090503,PGC1244573,PGC1244244 ...     0.0 .. 0.0\n",
       " 617056                        IC0055,PGC1328252,PGC1328284 ...     0.0 .. 0.0\n",
       " 617185                       PGC173062,PGC173063,PGC173070 ...     0.0 .. 0.0\n",
       " 618099                       PGC003597,PGC914550,PGC173260 ...     0.0 .. 0.0\n",
       "    ...                                                 ... ...            ...\n",
       " 702612         PGC1016425,PGC1016359,PGC1016757,PGC3103716 ...     0.0 .. 0.0\n",
       " 702871                       PGC214792,UGC11853,PGC1125125 ...     0.0 .. 0.0\n",
       " 704272                    PGC1137098,PGC1137118,PGC1137040 ...     0.0 .. 0.0\n",
       " 706306                       PGC193192,PGC193199,PGC193201 ...     0.0 .. 0.0\n",
       " 706866                    PGC1188417,PGC1187491,PGC1187416 ...     0.0 .. 0.0\n",
       " 708496                             NGC7463,NGC7464,NGC7465 ...     0.0 .. 0.0\n",
       " 709687                          NGC7562,PGC197664,NGC7562A ...     0.0 .. 0.0\n",
       " 710495 PGC1479636,PGC1476973,UGC12590,PGC165923,PGC1478384 ...     0.0 .. 0.0\n",
       " 712332                     PGC196423,PGC1087348,PGC1087779 ...     0.0 .. 0.0\n",
       " 712466                             IC5351,PGC072405,IC5357 ...     0.0 .. 0.0"
      ]
     },
     "execution_count": 19,
     "metadata": {},
     "output_type": "execute_result"
    }
   ],
   "source": [
    "%time sample = build_sample()\n",
    "sample"
   ]
  },
  {
   "cell_type": "markdown",
   "metadata": {},
   "source": [
    "### Retrieve FITS cutouts of each galaxy in each band.\n",
    "\n",
    "We also compute the fraction of masked pixels in each band (so we can do some quality cuts, below) and then write out the final sample."
   ]
  },
  {
   "cell_type": "code",
   "execution_count": 20,
   "metadata": {
    "collapsed": false
   },
   "outputs": [],
   "source": [
    "fitsdir = os.path.join(gallerydir, 'fits')\n",
    "if not os.path.isdir(fitsdir):\n",
    "    os.mkdir(fitsdir)"
   ]
  },
  {
   "cell_type": "code",
   "execution_count": 21,
   "metadata": {
    "collapsed": true
   },
   "outputs": [],
   "source": [
    "def galaxyname(gal, html=False):\n",
    "    \"\"\"We want to prevent the output FITS/png filenames from arbitrarily long\n",
    "    so we use the following convention:\n",
    "    \n",
    "    1 member - use the galaxy name\n",
    "    2-3 members - join the individual galaxy names with a hyphen\n",
    "    >3 members - use the groupid with format :08d\n",
    "    \n",
    "    \"\"\"\n",
    "    if gal['NMEMBERS'] > 500:\n",
    "        galaxy = 'group{:08d}'.format(gal['GROUPID'])\n",
    "    else:\n",
    "        if html:\n",
    "            galaxy = gal['GALAXY'].strip().lower().replace(',', ' ')\n",
    "        else:\n",
    "            galaxy = gal['GALAXY'].strip().lower().replace(',', '-')\n",
    "    \n",
    "    return galaxy"
   ]
  },
  {
   "cell_type": "code",
   "execution_count": 22,
   "metadata": {
    "collapsed": true
   },
   "outputs": [],
   "source": [
    "def fits_cutouts(verbose=False):\n",
    "    \"\"\"Grab cutouts of every galaxy and also quickly compute the fraction of \n",
    "    pixels that are masked in each image (in fracmasked).\n",
    "    \n",
    "    \"\"\"\n",
    "    for jj, gal in enumerate(sample):\n",
    "        galaxy = galaxyname(gal)\n",
    "        if gal['NMEMBERS'] == 1:\n",
    "            size = np.ceil(GALAXY_DIAMFACTOR*gal['DIAMETER']/PIXSCALE).astype('int16') # [pixels]\n",
    "        else:\n",
    "            size = np.ceil(GROUP_DIAMFACTOR*gal['DIAMETER']/PIXSCALE).astype('int16') # [pixels]\n",
    "\n",
    "        # Get a FITS cutout and then split the file into three individual bands.\n",
    "        baseurl = 'http://legacysurvey.org/viewer-dev/fits-cutout/'\n",
    "        fitsurl = '{}?ra={:.6f}&dec={:.6f}&pixscale={:.3f}&size={:g}&layer=decals-{}'.format(\n",
    "            baseurl, gal['RA'], gal['DEC'], PIXSCALE, size, dr)\n",
    "        fitsfile = os.path.join(fitsdir, '{}.fits'.format(galaxy))\n",
    "        cmd = 'wget --continue -O {:s} \"{:s}\"' .format(fitsfile, fitsurl)\n",
    "        if os.path.isfile(os.path.join(fitsdir, '{}-{}.fits'.format(galaxy, 'g'))):\n",
    "            if verbose:\n",
    "                print('Skipping galaxy {}'.format(galaxy))\n",
    "        else:\n",
    "            if verbose:\n",
    "                print(cmd)\n",
    "            os.system(cmd)\n",
    "\n",
    "            img, hdr = fitsio.read(fitsfile, ext=0, header=True)\n",
    "            for ii, band in enumerate(['g', 'r', 'z']):\n",
    "                bandfile = os.path.join(fitsdir, '{}-{}.fits'.format(galaxy, band))\n",
    "                #print('  Writing {}'.format(bandfile))\n",
    "                sample['FRACMASKED'][jj][ii] = np.sum(img[ii, :, :] == 0) / img[ii, :, :].size\n",
    "                fitsio.write(bandfile, img[ii, :, :], clobber=True, header=hdr)        \n",
    "            #print('  Removing {}'.format(fitsfile))\n",
    "            os.remove(fitsfile)"
   ]
  },
  {
   "cell_type": "code",
   "execution_count": 23,
   "metadata": {
    "collapsed": false
   },
   "outputs": [
    {
     "name": "stdout",
     "output_type": "stream",
     "text": [
      "CPU times: user 8.88 s, sys: 17.6 s, total: 26.5 s\n",
      "Wall time: 19min 23s\n"
     ]
    }
   ],
   "source": [
    "%time fits_cutouts(verbose=False)"
   ]
  },
  {
   "cell_type": "code",
   "execution_count": 24,
   "metadata": {
    "collapsed": false
   },
   "outputs": [
    {
     "name": "stdout",
     "output_type": "stream",
     "text": [
      "Writing /global/cscratch1/sd/ioannis/dr5/gallery/gallery-dr5.fits\n"
     ]
    }
   ],
   "source": [
    "if os.path.isfile(galleryfile):\n",
    "    os.remove(galleryfile)\n",
    "    \n",
    "print('Writing {}'.format(galleryfile))\n",
    "sample.write(galleryfile)"
   ]
  },
  {
   "cell_type": "markdown",
   "metadata": {},
   "source": [
    "### Build a color image using trilogy.py\n",
    "\n",
    "Here we require no more than 2% of the pixels in *all* the FITS images to be masked (i.e., to have values of zero) before generating a PNG file.  Then, after the PNG image has been generated, we read it back in and add a scale bar and a galaxy label."
   ]
  },
  {
   "cell_type": "code",
   "execution_count": 25,
   "metadata": {
    "collapsed": true
   },
   "outputs": [],
   "source": [
    "fraccut = 0.02 # [fraction]"
   ]
  },
  {
   "cell_type": "code",
   "execution_count": 26,
   "metadata": {
    "collapsed": false
   },
   "outputs": [],
   "source": [
    "pngdir = os.path.join(gallerydir, 'png')\n",
    "if not os.path.isdir(pngdir):\n",
    "    os.mkdir(pngdir)"
   ]
  },
  {
   "cell_type": "code",
   "execution_count": 27,
   "metadata": {
    "collapsed": false
   },
   "outputs": [],
   "source": [
    "barlen30 = np.round(30.0 / PIXSCALE).astype('int')\n",
    "fonttype = os.path.join(gallerydir, 'Georgia.ttf')"
   ]
  },
  {
   "cell_type": "code",
   "execution_count": 28,
   "metadata": {
    "collapsed": true
   },
   "outputs": [],
   "source": [
    "def make_png(pngsample, verbose=False):\n",
    "    \"\"\"Build a png file for each galaxy / group using Trilogy. \n",
    "    \n",
    "    \"\"\"\n",
    "    for gal in pngsample:\n",
    "        galaxy = galaxyname(gal)\n",
    "        \n",
    "        pngfile = os.path.join(pngdir, '{}.png'.format(galaxy))\n",
    "        thumbfile = os.path.join(pngdir, 'thumb-{}.png'.format(galaxy))\n",
    "\n",
    "        paramfile = os.path.join(pngdir, '{}.in'.format(galaxy))\n",
    "        with open(paramfile, 'w') as param:\n",
    "            param.write('B\\n')\n",
    "            param.write(os.path.join(fitsdir, '{}-g.fits\\n'.format(galaxy)))\n",
    "            param.write('\\n')\n",
    "            param.write('G\\n')\n",
    "            param.write(os.path.join(fitsdir, '{}-r.fits\\n'.format(galaxy)))\n",
    "            param.write('\\n')        \n",
    "            param.write('R\\n')\n",
    "            param.write(os.path.join(fitsdir, '{}-z.fits\\n'.format(galaxy)))\n",
    "            param.write('\\n')\n",
    "            param.write('indir {}\\n'.format(fitsdir))\n",
    "            param.write('outname {}\\n'.format(pngfile))\n",
    "            param.write('noiselum 0.3\\n')\n",
    "            param.write('satpercent 0.001\\n')\n",
    "            param.write('samplesize 1000\\n')\n",
    "            param.write('stampsize 5000\\n')\n",
    "            #param.write('scaling {}\\n'.format(os.path.join(gallerydir, 'levels.txt')))\n",
    "            param.write('colorsatfac 0.95\\n')\n",
    "            param.write('deletetests 1\\n')\n",
    "            param.write('showstamps 0\\n')\n",
    "            param.write('show 0\\n')\n",
    "            param.write('legend 0\\n')\n",
    "            param.write('testfirst 0\\n')\n",
    "        param.close()\n",
    "        \n",
    "        trilogy = os.path.join(os.getenv('LEGACYPIPE_DIR'), 'py', 'legacyanalysis', 'trilogy.py')\n",
    "        cmd = 'python {} {}'.format(trilogy, paramfile)\n",
    "        #print(cmd)\n",
    "        os.system(cmd)\n",
    "        for txt in ('levels.txt', 'trilogyfilterlog.txt'):\n",
    "            thisfile = os.path.join(os.getenv('LEGACYPIPE_DIR'), 'doc', 'nb', txt)\n",
    "            os.remove(thisfile)\n",
    "        os.remove(os.path.join(pngdir, '{}_filters.txt'.format(galaxy)))\n",
    "        os.remove(os.path.join(pngdir, '{}.in'.format(galaxy)))\n",
    "    \n",
    "        im = Image.open(pngfile)\n",
    "        sz = im.size\n",
    "        fntsize = np.round(sz[0]/28).astype('int')\n",
    "        width = np.round(sz[0]/175).astype('int')\n",
    "        font = ImageFont.truetype(fonttype, size=fntsize)\n",
    "        draw = ImageDraw.Draw(im)\n",
    "        # Label the galaxy name--\n",
    "        draw.text((0+fntsize*2, 0+fntsize*2), galaxy.upper(), font=font)\n",
    "        #draw.text((sz[0]-fntsize*6, sz[1]-fntsize*3), galaxy.upper(), font=font)\n",
    "        # Add a 30 arcsec scale bar--\n",
    "        x0, x1, yy = sz[1]-fntsize*2-barlen30, sz[1]-fntsize*2, sz[0]-fntsize*2\n",
    "        draw.line((x0, yy, x1, yy), fill='white', width=width)\n",
    "        im.save(pngfile)    \n",
    "        \n",
    "        # Generate a thumbnail\n",
    "        cmd = '/usr/bin/convert -thumbnail 300x300 {} {}'.format(pngfile, thumbfile)\n",
    "        os.system(cmd)\n",
    "        \n",
    "        if verbose:\n",
    "            print('Wrote {}'.format(pngfile))    "
   ]
  },
  {
   "cell_type": "code",
   "execution_count": 29,
   "metadata": {
    "collapsed": false
   },
   "outputs": [
    {
     "name": "stdout",
     "output_type": "stream",
     "text": [
      "Identified 174 groups with <2% pixels masked in grz.\n"
     ]
    }
   ],
   "source": [
    "indx = np.sum(sample['FRACMASKED'] < fraccut, axis=1) == 3\n",
    "pngsample = sample[indx]\n",
    "print('Identified {} groups with <2% pixels masked in grz.'.format(len(pngsample)))"
   ]
  },
  {
   "cell_type": "code",
   "execution_count": 30,
   "metadata": {
    "collapsed": false
   },
   "outputs": [
    {
     "data": {
      "text/html": [
       "&lt;Table length=174&gt;\n",
       "<table id=\"table47991437899312\" class=\"table-striped table-bordered table-condensed\">\n",
       "<thead><tr><th>GROUPID</th><th>GALAXY</th><th>NMEMBERS</th><th>RA</th><th>DEC</th><th>DIAMETER</th><th>D25MAX</th><th>D25MIN</th><th>BRICKNAME [6]</th><th>FRACMASKED [3]</th></tr></thead>\n",
       "<thead><tr><th>int32</th><th>str1000</th><th>int32</th><th>float64</th><th>float64</th><th>float32</th><th>float32</th><th>float32</th><th>bytes20</th><th>float16</th></tr></thead>\n",
       "<tr><td>614652</td><td>NGC0127,NGC0128,NGC0130</td><td>3</td><td>7.3139</td><td>2.86903333333</td><td>189.737</td><td>189.737</td><td>42.4767</td><td>0073p027 ..</td><td>4.7684e-07 .. 7.1526e-06</td></tr>\n",
       "<tr><td>615005</td><td>PGC1036047,PGC1036361,PGC1036593</td><td>3</td><td>8.2232</td><td>-6.13836333333</td><td>201.951</td><td>53.4751</td><td>28.0641</td><td>0081m062 ..</td><td>5.3823e-05 .. 7.7784e-05</td></tr>\n",
       "<tr><td>615052</td><td>PGC1028413,PGC143577,PGC143579</td><td>3</td><td>8.3796</td><td>-6.82209333333</td><td>151.885</td><td>27.4253</td><td>24.4428</td><td>0084m067 ..</td><td>0.0 .. 0.0</td></tr>\n",
       "<tr><td>615465</td><td>PGC1101085,PGC1100823,PGC1100450</td><td>3</td><td>9.30705</td><td>-2.13501666667</td><td>141.452</td><td>37.8574</td><td>25.0122</td><td>0093m022 ..</td><td>1.2875e-05 .. 9.4175e-06</td></tr>\n",
       "<tr><td>616934</td><td>PGC090503,PGC1244573,PGC1244244</td><td>3</td><td>12.65625</td><td>3.07869666667</td><td>151.249</td><td>39.6416</td><td>28.0641</td><td>0126p030 ..</td><td>0.0 .. 0.0</td></tr>\n",
       "<tr><td>617185</td><td>PGC173062,PGC173063,PGC173070</td><td>3</td><td>13.28545</td><td>-3.63262</td><td>196.097</td><td>47.6597</td><td>30.7717</td><td>0131m037 ..</td><td>9.6858e-05 .. 0.0</td></tr>\n",
       "<tr><td>618099</td><td>PGC003597,PGC914550,PGC173260</td><td>3</td><td>15.12245</td><td>-15.18764</td><td>219.216</td><td>48.7698</td><td>25.0122</td><td>0151m152 ..</td><td>0.00061321 .. 0.0</td></tr>\n",
       "<tr><td>619319</td><td>PGC929534,PGC929768,PGC004283</td><td>3</td><td>17.8845</td><td>-14.0488366667</td><td>185.516</td><td>45.5147</td><td>26.1909</td><td>0178m140 ..</td><td>0.0010471 .. 6.1274e-05</td></tr>\n",
       "<tr><td>619432</td><td>PGC1036232,PGC1036166,PGC144001,PGC1036077</td><td>4</td><td>18.1082625</td><td>-6.1616275</td><td>288.214</td><td>54.7206</td><td>24.4428</td><td>0179m062 ..</td><td>0.0 .. 1.7881e-07</td></tr>\n",
       "<tr><td>619720</td><td>PGC875134,PGC134705,PGC874824</td><td>3</td><td>18.7087</td><td>-17.9446033333</td><td>132.906</td><td>36.9957</td><td>32.9725</td><td>0187m180 ..</td><td>0.0 .. 9.5367e-07</td></tr>\n",
       "<tr><td>...</td><td>...</td><td>...</td><td>...</td><td>...</td><td>...</td><td>...</td><td>...</td><td>...</td><td>...</td></tr>\n",
       "<tr><td>690576</td><td>PGC057765,PGC200337,PGC200336,PGC057770</td><td>4</td><td>244.5272625</td><td>21.561835</td><td>89.0901</td><td>77.295</td><td>26.801</td><td>2445p215 ..</td><td>0.0 .. 0.0</td></tr>\n",
       "<tr><td>690589</td><td>PGC057773,PGC057774,PGC057777,PGC057779</td><td>4</td><td>244.55955</td><td>12.7952275</td><td>60.7545</td><td>31.4885</td><td>26.801</td><td>2446p127 ..</td><td>0.00067329 .. 0.0</td></tr>\n",
       "<tr><td>690608</td><td>PGC1878557,PGC057794,PGC057793</td><td>3</td><td>244.64065</td><td>29.8097933333</td><td>162.743</td><td>40.565</td><td>25.0122</td><td>2445p297 ..</td><td>0.0012741 .. 0.0011616</td></tr>\n",
       "<tr><td>692756</td><td>PGC1667789,PGC1667493,PGC1666803,PGC1666735</td><td>4</td><td>256.35195</td><td>22.29306</td><td>268.278</td><td>47.6597</td><td>26.1909</td><td>2562p222 ..</td><td>0.011276 .. 0.0</td></tr>\n",
       "<tr><td>693255</td><td>PGC1843188,PGC1843607,PGC1843894</td><td>3</td><td>260.18045</td><td>28.7068066667</td><td>166.838</td><td>38.7393</td><td>30.0712</td><td>2601p287 ..</td><td>0.00020266 .. 0.00010228</td></tr>\n",
       "<tr><td>702442</td><td>PGC1638034,PGC1637505,PGC1636718</td><td>3</td><td>327.84065</td><td>20.8574966667</td><td>272.391</td><td>30.7717</td><td>25.0122</td><td>3278p207 ..</td><td>0.00069332 .. 0.0</td></tr>\n",
       "<tr><td>702871</td><td>PGC214792,UGC11853,PGC1125125</td><td>3</td><td>329.0723</td><td>-1.16768</td><td>113.978</td><td>55.9953</td><td>25.0122</td><td>3291m012 ..</td><td>0.0 .. 0.0</td></tr>\n",
       "<tr><td>704272</td><td>PGC1137098,PGC1137118,PGC1137040</td><td>3</td><td>333.18625</td><td>-0.691466666667</td><td>186.901</td><td>28.7178</td><td>24.4428</td><td>3331m007 ..</td><td>2.6047e-05 .. 9.5367e-07</td></tr>\n",
       "<tr><td>706306</td><td>PGC193192,PGC193199,PGC193201</td><td>3</td><td>339.0573</td><td>1.40753666667</td><td>82.9296</td><td>43.4662</td><td>25.5948</td><td>3391p015 ..</td><td>0.0 .. 0.0</td></tr>\n",
       "<tr><td>706866</td><td>PGC1188417,PGC1187491,PGC1187416</td><td>3</td><td>340.6067</td><td>1.20671333333</td><td>157.135</td><td>32.2219</td><td>25.5948</td><td>3406p012 ..</td><td>0.00012779 .. 0.00039315</td></tr>\n",
       "</table>"
      ],
      "text/plain": [
       "<Table length=174>\n",
       "GROUPID                    GALAXY                   ...      FRACMASKED [3]     \n",
       " int32                    str1000                   ...         float16         \n",
       "------- ------------------------------------------- ... ------------------------\n",
       " 614652                     NGC0127,NGC0128,NGC0130 ... 4.7684e-07 .. 7.1526e-06\n",
       " 615005            PGC1036047,PGC1036361,PGC1036593 ... 5.3823e-05 .. 7.7784e-05\n",
       " 615052              PGC1028413,PGC143577,PGC143579 ...               0.0 .. 0.0\n",
       " 615465            PGC1101085,PGC1100823,PGC1100450 ... 1.2875e-05 .. 9.4175e-06\n",
       " 616934             PGC090503,PGC1244573,PGC1244244 ...               0.0 .. 0.0\n",
       " 617185               PGC173062,PGC173063,PGC173070 ...        9.6858e-05 .. 0.0\n",
       " 618099               PGC003597,PGC914550,PGC173260 ...        0.00061321 .. 0.0\n",
       " 619319               PGC929534,PGC929768,PGC004283 ...  0.0010471 .. 6.1274e-05\n",
       " 619432  PGC1036232,PGC1036166,PGC144001,PGC1036077 ...        0.0 .. 1.7881e-07\n",
       " 619720               PGC875134,PGC134705,PGC874824 ...        0.0 .. 9.5367e-07\n",
       "    ...                                         ... ...                      ...\n",
       " 690576     PGC057765,PGC200337,PGC200336,PGC057770 ...               0.0 .. 0.0\n",
       " 690589     PGC057773,PGC057774,PGC057777,PGC057779 ...        0.00067329 .. 0.0\n",
       " 690608              PGC1878557,PGC057794,PGC057793 ...   0.0012741 .. 0.0011616\n",
       " 692756 PGC1667789,PGC1667493,PGC1666803,PGC1666735 ...          0.011276 .. 0.0\n",
       " 693255            PGC1843188,PGC1843607,PGC1843894 ... 0.00020266 .. 0.00010228\n",
       " 702442            PGC1638034,PGC1637505,PGC1636718 ...        0.00069332 .. 0.0\n",
       " 702871               PGC214792,UGC11853,PGC1125125 ...               0.0 .. 0.0\n",
       " 704272            PGC1137098,PGC1137118,PGC1137040 ... 2.6047e-05 .. 9.5367e-07\n",
       " 706306               PGC193192,PGC193199,PGC193201 ...               0.0 .. 0.0\n",
       " 706866            PGC1188417,PGC1187491,PGC1187416 ... 0.00012779 .. 0.00039315"
      ]
     },
     "execution_count": 30,
     "metadata": {},
     "output_type": "execute_result"
    }
   ],
   "source": [
    "pngsample"
   ]
  },
  {
   "cell_type": "code",
   "execution_count": 31,
   "metadata": {
    "collapsed": false
   },
   "outputs": [
    {
     "name": "stdout",
     "output_type": "stream",
     "text": [
      "CPU times: user 2min 15s, sys: 10 s, total: 2min 25s\n",
      "Wall time: 12min 42s\n"
     ]
    }
   ],
   "source": [
    "%time make_png(pngsample, verbose=False)"
   ]
  },
  {
   "cell_type": "markdown",
   "metadata": {
    "collapsed": true
   },
   "source": [
    "### Finally, assemble the webpage of good and rejected gallery images.\n",
    "\n",
    "To test the webpage before release, do\n",
    "  * rsync -auvP /global/cscratch1/sd/ioannis/dr5/gallery/png /global/project/projectdirs/cosmo/www/temp/ioannis/dr5/gallery/\n",
    "  * rsync -auvP /global/cscratch1/sd/ioannis/dr5/gallery/index.html /global/project/projectdirs/cosmo/www/temp/ioannis/dr5/gallery/"
   ]
  },
  {
   "cell_type": "code",
   "execution_count": 58,
   "metadata": {
    "collapsed": false
   },
   "outputs": [
    {
     "name": "stdout",
     "output_type": "stream",
     "text": [
      "Rejecting 4 groups.\n"
     ]
    }
   ],
   "source": [
    "reject = ['pgc1667789-pgc1667493-pgc1666803-pgc1666735',\n",
    "          'pgc156324-pgc156326-pgc1151284',\n",
    "          'pgc200252-pgc1591421-ngc3040',\n",
    "          'pgc008096-ugc01617-ugc01618-pgc008116-ugc01620'\n",
    "         ]\n",
    "toss = np.zeros(len(pngsample), dtype=bool)\n",
    "for ii, gg in enumerate(pngsample['GALAXY']):\n",
    "    for rej in np.atleast_1d(reject):\n",
    "        toss[ii] = rej in gg.lower().replace(',', '-')\n",
    "        if toss[ii]:\n",
    "            break\n",
    "print('Rejecting {} groups.'.format(np.sum(toss)))\n",
    "pngkeep = pngsample[~toss]\n",
    "if np.sum(toss) > 0:\n",
    "    pngrej = pngsample[toss]\n",
    "else:\n",
    "    pngrej = []"
   ]
  },
  {
   "cell_type": "code",
   "execution_count": 62,
   "metadata": {
    "collapsed": false
   },
   "outputs": [
    {
     "name": "stdout",
     "output_type": "stream",
     "text": [
      "Splitting the sample into 34 rows with 5 mosaics per row.\n"
     ]
    }
   ],
   "source": [
    "nperrow = 5\n",
    "nrow = np.ceil(len(pngkeep) / nperrow).astype('int')\n",
    "pngsplit = np.array_split(pngkeep, nrow)\n",
    "print('Splitting the sample into {} rows with {} mosaics per row.'.format(nrow, nperrow))"
   ]
  },
  {
   "cell_type": "code",
   "execution_count": 63,
   "metadata": {
    "collapsed": true
   },
   "outputs": [],
   "source": [
    "htmlfile = os.path.join(gallerydir, 'index.html')\n",
    "baseurl = 'http://legacysurvey.org/viewer-dev'"
   ]
  },
  {
   "cell_type": "code",
   "execution_count": 66,
   "metadata": {
    "collapsed": false
   },
   "outputs": [],
   "source": [
    "with open(htmlfile, 'w') as html:\n",
    "    html.write('<html><head>\\n')\n",
    "    html.write('<style type=\"text/css\">\\n')\n",
    "    html.write('img.ls-gallery {display: block;}\\n')\n",
    "    html.write('td.ls-gallery {width: 20%; word-wrap: break-word;}\\n')\n",
    "    html.write('</style>\\n')\n",
    "    html.write('</head><body>\\n')\n",
    "    html.write('<h1>Image Gallery of Galaxy Groups</h1>\\n')\n",
    "    html.write(\"\"\"<p>This gallery highlights some of the galaxy groups in the DR5 footprint.  The\n",
    "    groups were identified using an input catalog of galaxies with an apparent angular diameter greater than 24 arcsec\n",
    "    and a friends-of-friends algorithm with a linking length of 2.5 arcminute.  The color mosaics\n",
    "    were generated using <a class=\"reference external\" href=\"http://www.stsci.edu/~dcoe/trilogy\">trilogy.py</a>.  \n",
    "    Each thumbnail links to a larger image while the galaxy names below the thumbnails link to the\n",
    "    <a href=\"http://legacysurvey.org/viewer\">Sky Viewer</a>.  For reference, the horizontal white bar in \n",
    "    each image represents 30 arcsec.</p>\\n\"\"\")\n",
    "    html.write(\"\"\"<p><a href=\"http://portal.nersc.gov/project/cosmo/data/legacysurvey/dr4/gallery/\">\n",
    "    Visit the DR4 Gallery.</a></p>\\n\"\"\")\n",
    "    html.write('<table><tbody>\\n')\n",
    "    for pngrow in pngsplit:\n",
    "        html.write('<tr>\\n')\n",
    "        for gal in pngrow:\n",
    "            galaxy = galaxyname(gal)\n",
    "            pngfile = os.path.join('png', '{}.png'.format(galaxy))\n",
    "            thumbfile = os.path.join('png', 'thumb-{}.png'.format(galaxy))\n",
    "            img = 'class=\"ls-gallery\" src=\"{}\" alt=\"{}\"'.format(thumbfile, galaxy.upper())\n",
    "            html.write('<td class=\"ls-gallery\"><a href=\"{}\"><img {} /></a></td>\\n'.format(pngfile, img))\n",
    "        html.write('</tr><tr>\\n')\n",
    "        for gal in pngrow:\n",
    "            galaxy = galaxyname(gal, html=True)\n",
    "            href = '{}/?layer=decals-{}&ra={:.8f}&dec={:.8f}&zoom=13'.format(baseurl, dr, gal['RA'], gal['DEC'])\n",
    "            html.write('<td class=\"ls-gallery\"><a href=\"{}\">{}</a></td>\\n'.format(href, galaxy.upper()))\n",
    "        html.write('</tr>\\n')\n",
    "    html.write('</table></tbody>')\n",
    "    html.write('</body></html>\\n')"
   ]
  },
  {
   "cell_type": "code",
   "execution_count": 60,
   "metadata": {
    "collapsed": true
   },
   "outputs": [],
   "source": [
    "htmlfile_reject = os.path.join(gallerydir, 'index-reject.html')"
   ]
  },
  {
   "cell_type": "code",
   "execution_count": 61,
   "metadata": {
    "collapsed": false
   },
   "outputs": [],
   "source": [
    "if len(pngrej) > 0:\n",
    "    with open(htmlfile_reject, 'w') as html:\n",
    "        html.write('<html><body>\\n')\n",
    "        for gal in pngrej:\n",
    "            galaxy = galaxyname(gal)\n",
    "            pngfile = os.path.join('png', '{}.png'.format(galaxy))\n",
    "            img = 'class=\"ls-gallery\" src=\"{}\" alt=\"{}\"'.format(pngfile, galaxy.upper())\n",
    "            html.write('<a href=\"{}/?ra={:.8f}&dec={:.8f}&layer=decals-{}\"><img {}></a>\\n'.format(\n",
    "                    baseurl, gal['RA'], gal['DEC'], dr, img))\n",
    "        html.write('</body></html>\\n')"
   ]
  },
  {
   "cell_type": "code",
   "execution_count": null,
   "metadata": {
    "collapsed": true
   },
   "outputs": [],
   "source": []
  }
 ],
 "metadata": {
  "anaconda-cloud": {},
  "kernelspec": {
   "display_name": "legacypipe master",
   "language": "python",
   "name": "legacypipe-master"
  },
  "language_info": {
   "codemirror_mode": {
    "name": "ipython",
    "version": 3
   },
   "file_extension": ".py",
   "mimetype": "text/x-python",
   "name": "python",
   "nbconvert_exporter": "python",
   "pygments_lexer": "ipython3",
   "version": "3.5.3"
  }
 },
 "nbformat": 4,
 "nbformat_minor": 2
}
