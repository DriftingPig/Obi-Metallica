{
 "cells": [
  {
   "cell_type": "markdown",
   "metadata": {},
   "source": [
    "# Gallery for DR6\n",
    "\n",
    "The purpose of this notebook is to build the gallery for the sixth Legacy Survey data release, DR6.  The theme of this gallery is...the NGC catalog!\n",
    "\n",
    "For future reference: The notebook must be run from https://jupyter-dev.nersc.gov with the following (approximate) activation script:\n",
    "```bash\n",
    "#!/bin/bash                                                                                                           \n",
    "version=$1                                                                                                            \n",
    "connection_file=$2                                                                                                    \n",
    "                                                                                                                      \n",
    "desiconda_version=20170818-1.1.12-img                                                                                 \n",
    "module use /global/common/${NERSC_HOST}/contrib/desi/desiconda/$desiconda_version/modulefiles                         \n",
    "module load desiconda                                                                                                 \n",
    "                                                                                                                      \n",
    "export LEGACY_SURVEY_DIR=/global/cscratch1/sd/dstn/dr6plus                                                            \n",
    "export LEGACYPIPE_DIR=$SCRATCH/repos/legacypipe                                                                       \n",
    "                                                                                                                      \n",
    "export PATH=$LEGACYPIPE_DIR/bin:${PATH}                                                                               \n",
    "export PATH=$SCRATCH//repos/build/bin:$PATH                                                                           \n",
    "export PYTHONPATH=$LEGACYPIPE_DIR/py:${PYTHONPATH}                                                                    \n",
    "export PYTHONPATH=$SCRATCH/repos/build/lib/python3.5/site-packages:$PYTHONPATH                                        \n",
    "                                                                                                                      \n",
    "module use $LEGACYPIPE_DIR/bin/modulefiles/cori                                                                       \n",
    "module load dust                                                                                                      \n",
    "                                                                                                                      \n",
    "exec python -m ipykernel -f $connection_file                                                                          \n",
    "```"
   ]
  },
  {
   "cell_type": "markdown",
   "metadata": {},
   "source": [
    "### Imports and paths"
   ]
  },
  {
   "cell_type": "code",
   "execution_count": 1,
   "metadata": {},
   "outputs": [],
   "source": [
    "import os, sys\n",
    "import shutil, time, warnings\n",
    "from contextlib import redirect_stdout\n",
    "import numpy as np\n",
    "import numpy.ma as ma\n",
    "import matplotlib.pyplot as plt"
   ]
  },
  {
   "cell_type": "code",
   "execution_count": 2,
   "metadata": {},
   "outputs": [],
   "source": [
    "import astropy.units as u\n",
    "from astropy.coordinates import SkyCoord\n",
    "from astropy.table import Table, Column, vstack\n",
    "from astropy.io import ascii\n",
    "from PIL import Image, ImageDraw, ImageFont\n",
    "#from astrometry.util.starutil_numpy import hmsstring2ra"
   ]
  },
  {
   "cell_type": "code",
   "execution_count": 3,
   "metadata": {},
   "outputs": [],
   "source": [
    "from astrometry.util.util import Tan\n",
    "from astrometry.util.fits import merge_tables\n",
    "from legacypipe.survey import LegacySurveyData\n",
    "from legacypipe.runbrick import run_brick"
   ]
  },
  {
   "cell_type": "code",
   "execution_count": 4,
   "metadata": {},
   "outputs": [],
   "source": [
    "import multiprocessing\n",
    "nproc = multiprocessing.cpu_count() // 2"
   ]
  },
  {
   "cell_type": "code",
   "execution_count": 5,
   "metadata": {},
   "outputs": [],
   "source": [
    "%matplotlib inline"
   ]
  },
  {
   "cell_type": "markdown",
   "metadata": {},
   "source": [
    "### Preliminaries\n",
    "\n",
    "Define the data release and the various output directories."
   ]
  },
  {
   "cell_type": "code",
   "execution_count": 6,
   "metadata": {},
   "outputs": [],
   "source": [
    "dr = 'dr6'\n",
    "PIXSCALE = 0.262"
   ]
  },
  {
   "cell_type": "code",
   "execution_count": 7,
   "metadata": {},
   "outputs": [],
   "source": [
    "gallerydir = os.path.join( os.getenv('SCRATCH'), dr, 'gallery' )\n",
    "galleryfile = os.path.join(gallerydir, 'gallery-{}.fits'.format(dr))"
   ]
  },
  {
   "cell_type": "code",
   "execution_count": 8,
   "metadata": {},
   "outputs": [],
   "source": [
    "jpgdir = os.path.join(gallerydir, 'jpg')\n",
    "if not os.path.isdir(jpgdir):\n",
    "    os.mkdir(jpgdir)"
   ]
  },
  {
   "cell_type": "code",
   "execution_count": 9,
   "metadata": {},
   "outputs": [],
   "source": [
    "pngdir = os.path.join(gallerydir, 'png')\n",
    "if not os.path.isdir(pngdir):\n",
    "    os.mkdir(pngdir)"
   ]
  },
  {
   "cell_type": "markdown",
   "metadata": {},
   "source": [
    "#### Read the Open NGC catalog created by Mattia Verga:\n",
    "https://github.com/mattiaverga/OpenNGC\n",
    "\n",
    "```bash\n",
    "wget https://raw.githubusercontent.com/mattiaverga/OpenNGC/master/NGC.csv\n",
    "```\n",
    "\n",
    "- Name: Object name composed by catalog + number\n",
    "    NGC: New General Catalogue\n",
    "    IC: Index Catalogue\n",
    "    \n",
    "- Type: Object type\n",
    "  - *: Star\n",
    "  - **: Double star\n",
    "  - *Ass: Association of stars\n",
    "  - OCl: Open Cluster\n",
    "  - GCl: Globular Cluster\n",
    "  - Cl+N: Star cluster + Nebula\n",
    "  - G: Galaxy\n",
    "  - GPair: Galaxy Pair\n",
    "  - GTrpl: Galaxy Triplet\n",
    "  - GGroup: Group of galaxies\n",
    "  - PN: Planetary Nebula\n",
    "  - HII: HII Ionized region\n",
    "  - DrkN: Dark Nebula\n",
    "  - EmN: Emission Nebula\n",
    "  - Neb: Nebula\n",
    "  - RfN: Reflection Nebula\n",
    "  - SNR: Supernova remnant\n",
    "  - Nova: Nova star\n",
    "  - NonEx: Nonexistent object\n",
    "    \n",
    "- RA: Right Ascension in J2000 Epoch (HH:MM:SS.SS)\n",
    "\n",
    "- Dec: Declination in J2000 Epoch (+/-DD:MM:SS.SS)\n",
    "\n",
    "- Const: Constellation where the object is located\n",
    "\n",
    "- MajAx: Major axis, expressed in arcmin\n",
    "\n",
    "- MinAx: Minor axis, expressed in arcmin\n",
    "\n",
    "- PosAng: Major axis position angle (North Eastwards)\n",
    "\n",
    "- B-Mag: Apparent total magnitude in B filter\n",
    "\n",
    "- V-Mag: Apparent total magnitude in V filter\n",
    "\n",
    "- J-Mag: Apparent total magnitude in J filter\n",
    "\n",
    "- H-Mag: Apparent total magnitude in H filter\n",
    "\n",
    "- K-Mag: Apparent total magnitude in K filter\n",
    "\n",
    "- SurfBr (only Galaxies): Mean surface brigthness within 25 mag isophot (B-band), expressed in mag/arcsec2\n",
    "\n",
    "- Hubble (only Galaxies): Morphological type (for galaxies)\n",
    "\n",
    "- Cstar U-Mag (only Planetary Nebulae): Apparent magnitude of central star in U filter\n",
    "\n",
    "- Cstar B-Mag (only Planetary Nebulae): Apparent magnitude of central star in B filter\n",
    "\n",
    "- Cstar V-Mag (only Planetary Nebulae): Apparent magnitude of central star in V filter\n",
    "\n",
    "- M: cross reference Messier number\n",
    "\n",
    "- NGC: other NGC identification, if the object is listed twice in the catalog\n",
    "\n",
    "- IC: cross reference IC number, if the object is also listed with that identification\n",
    "\n",
    "- Cstar Names (only Planetary Nebulae): central star identifications\n",
    "\n",
    "- Identifiers: cross reference with other catalogs\n",
    "\n",
    "- Common names: Common names of the object if any\n",
    "\n",
    "- NED Notes: notes about object exported from NED\n",
    "\n",
    "- OpenNGC Notes: notes about the object data from OpenNGC catalog\n"
   ]
  },
  {
   "cell_type": "code",
   "execution_count": 10,
   "metadata": {},
   "outputs": [],
   "source": [
    "names = ('name', 'type', 'ra_hms', 'dec_dms', 'const', 'majax', 'minax', \n",
    "         'pa', 'bmag', 'vmag', 'jmag', 'hmag', 'kmag', 'sbrightn', 'hubble', \n",
    "         'cstarumag', 'cstarbmag', 'cstarvmag', 'messier', 'ngc', 'ic', \n",
    "         'cstarnames', 'identifiers', 'commonnames', 'nednotes', 'ongcnotes')"
   ]
  },
  {
   "cell_type": "code",
   "execution_count": 11,
   "metadata": {},
   "outputs": [
    {
     "data": {
      "text/html": [
       "&lt;Table masked=True length=13953&gt;\n",
       "<table id=\"table47573697853032\" class=\"table-striped table-bordered table-condensed\">\n",
       "<thead><tr><th>name</th><th>type</th><th>ra_hms</th><th>dec_dms</th><th>const</th><th>majax</th><th>minax</th><th>pa</th><th>bmag</th><th>vmag</th><th>jmag</th><th>hmag</th><th>kmag</th><th>sbrightn</th><th>hubble</th><th>cstarumag</th><th>cstarbmag</th><th>cstarvmag</th><th>messier</th><th>ngc</th><th>ic</th><th>cstarnames</th><th>identifiers</th><th>commonnames</th><th>nednotes</th><th>ongcnotes</th></tr></thead>\n",
       "<thead><tr><th>str13</th><th>str6</th><th>str11</th><th>str11</th><th>str3</th><th>float64</th><th>float64</th><th>int64</th><th>float64</th><th>float64</th><th>float64</th><th>float64</th><th>float64</th><th>float64</th><th>str4</th><th>float64</th><th>float64</th><th>float64</th><th>int64</th><th>str10</th><th>str14</th><th>str51</th><th>str211</th><th>str56</th><th>str80</th><th>str97</th></tr></thead>\n",
       "<tr><td>IC0002</td><td>G</td><td>00:11:00.88</td><td>-12:49:22.3</td><td>Cet</td><td>0.98</td><td>0.32</td><td>142</td><td>15.46</td><td>--</td><td>12.26</td><td>11.48</td><td>11.17</td><td>23.45</td><td>Sb</td><td>--</td><td>--</td><td>--</td><td>--</td><td>--</td><td>--</td><td>--</td><td>2MASX J00110081-1249206,IRAS 00084-1306,MCG -02-01-031,PGC 000778</td><td>--</td><td>--</td><td>B-Mag taken from LEDA.</td></tr>\n",
       "<tr><td>IC0003</td><td>G</td><td>00:12:06.09</td><td>-00:24:54.8</td><td>Psc</td><td>0.93</td><td>0.67</td><td>53</td><td>15.1</td><td>--</td><td>11.53</td><td>10.79</td><td>10.54</td><td>23.5</td><td>E</td><td>--</td><td>--</td><td>--</td><td>--</td><td>--</td><td>--</td><td>--</td><td>2MASX J00120604-0024543,MCG +00-01-038,PGC 000836,SDSS J001206.08-002454.7,SDSS J001206.09-002454.7,SDSS J001206.09-002454.8,SDSS J001206.10-002454.8</td><td>--</td><td>--</td><td>--</td></tr>\n",
       "<tr><td>IC0004</td><td>G</td><td>00:13:26.94</td><td>+17:29:11.2</td><td>Peg</td><td>1.17</td><td>0.84</td><td>12</td><td>14.2</td><td>--</td><td>11.51</td><td>10.65</td><td>10.5</td><td>23.01</td><td>Sc</td><td>--</td><td>--</td><td>--</td><td>--</td><td>--</td><td>--</td><td>--</td><td>2MASX J00132695+1729111,IRAS 00108+1712,MCG +03-01-029,PGC 000897,UGC 00123</td><td>--</td><td>--</td><td>--</td></tr>\n",
       "<tr><td>IC0005</td><td>G</td><td>00:17:34.93</td><td>-09:32:36.1</td><td>Cet</td><td>0.99</td><td>0.66</td><td>9</td><td>14.57</td><td>--</td><td>11.5</td><td>10.85</td><td>10.5</td><td>23.4</td><td>E</td><td>--</td><td>--</td><td>--</td><td>--</td><td>--</td><td>--</td><td>--</td><td>2MASX J00173495-0932364,MCG -02-01-047,PGC 001145,SDSS J001734.93-093236.0,SDSS J001734.93-093236.1</td><td>--</td><td>--</td><td>B-Mag taken from LEDA.</td></tr>\n",
       "<tr><td>IC0006</td><td>G</td><td>00:18:55.04</td><td>-03:16:33.9</td><td>Psc</td><td>1.23</td><td>1.08</td><td>146</td><td>14.5</td><td>--</td><td>11.03</td><td>10.32</td><td>10.08</td><td>23.89</td><td>E</td><td>--</td><td>--</td><td>--</td><td>--</td><td>--</td><td>--</td><td>--</td><td>2MASX J00185505-0316339,MCG -01-01-075,PGC 001228</td><td>--</td><td>--</td><td>--</td></tr>\n",
       "<tr><td>IC0007</td><td>G</td><td>00:18:53.16</td><td>+10:35:40.9</td><td>Psc</td><td>0.9</td><td>0.63</td><td>174</td><td>14.7</td><td>--</td><td>11.33</td><td>10.57</td><td>10.26</td><td>23.22</td><td>S0</td><td>--</td><td>--</td><td>--</td><td>--</td><td>--</td><td>--</td><td>--</td><td>2MASX J00185316+1035410,PGC 001216</td><td>--</td><td>--</td><td>--</td></tr>\n",
       "<tr><td>IC0008</td><td>G</td><td>00:19:02.72</td><td>-03:13:19.5</td><td>Psc</td><td>0.82</td><td>0.34</td><td>129</td><td>15.16</td><td>--</td><td>12.7</td><td>12.08</td><td>12.08</td><td>23.4</td><td>E?</td><td>--</td><td>--</td><td>--</td><td>--</td><td>--</td><td>--</td><td>--</td><td>2MASX J00190272-0313196,MCG -01-01-076,PGC 001234</td><td>--</td><td>--</td><td>B-Mag taken from LEDA.</td></tr>\n",
       "<tr><td>IC0009</td><td>G</td><td>00:19:43.98</td><td>-14:07:18.8</td><td>Cet</td><td>0.59</td><td>0.46</td><td>122</td><td>15.41</td><td>--</td><td>12.38</td><td>11.71</td><td>11.28</td><td>22.88</td><td>Sa</td><td>--</td><td>--</td><td>--</td><td>--</td><td>--</td><td>--</td><td>--</td><td>2MASX J00194400-1407184,MCG -02-02-001,PGC 001271</td><td>--</td><td>--</td><td>B-Mag taken from LEDA.</td></tr>\n",
       "<tr><td>IC0010</td><td>G</td><td>00:20:17.34</td><td>+59:18:13.6</td><td>Cas</td><td>6.76</td><td>6.03</td><td>129</td><td>13.6</td><td>9.5</td><td>7.23</td><td>6.34</td><td>6.01</td><td>24.53</td><td>IB</td><td>--</td><td>--</td><td>--</td><td>--</td><td>--</td><td>--</td><td>--</td><td>2MASX J00201733+5918136,IRAS 00175+5902,IRAS 00177+5900,MCG +10-01-001,PGC 001305,UGC 00192</td><td>--</td><td>The 2MASX position refers to the center of the IR isophotes.</td><td>--</td></tr>\n",
       "<tr><td>IC0011</td><td>Dup</td><td>00:52:59.35</td><td>+56:37:18.8</td><td>Cas</td><td>--</td><td>--</td><td>--</td><td>--</td><td>--</td><td>--</td><td>--</td><td>--</td><td>--</td><td>--</td><td>--</td><td>--</td><td>--</td><td>--</td><td>0281</td><td>--</td><td>--</td><td>--</td><td>--</td><td>--</td><td>--</td></tr>\n",
       "<tr><td>...</td><td>...</td><td>...</td><td>...</td><td>...</td><td>...</td><td>...</td><td>...</td><td>...</td><td>...</td><td>...</td><td>...</td><td>...</td><td>...</td><td>...</td><td>...</td><td>...</td><td>...</td><td>...</td><td>...</td><td>...</td><td>...</td><td>...</td><td>...</td><td>...</td><td>...</td></tr>\n",
       "<tr><td>NGC7831</td><td>G</td><td>00:07:19.53</td><td>+32:36:33.3</td><td>And</td><td>1.8</td><td>0.39</td><td>40</td><td>13.4</td><td>--</td><td>10.95</td><td>10.16</td><td>9.88</td><td>22.59</td><td>Sb</td><td>--</td><td>--</td><td>--</td><td>--</td><td>--</td><td>1530</td><td>--</td><td>2MASX J00071951+3236334,IRAS 00047+3219,MCG +05-01-032,PGC 000569,UGC 00060</td><td>--</td><td>--</td><td>--</td></tr>\n",
       "<tr><td>NGC7832</td><td>G</td><td>00:06:28.46</td><td>-03:42:58.1</td><td>Psc</td><td>1.68</td><td>0.38</td><td>23</td><td>13.0</td><td>--</td><td>10.35</td><td>9.69</td><td>9.45</td><td>23.68</td><td>E</td><td>--</td><td>--</td><td>--</td><td>--</td><td>--</td><td>5386</td><td>--</td><td>2MASX J00062844-0342581,MCG -01-01-033,PGC 000485</td><td>--</td><td>--</td><td>--</td></tr>\n",
       "<tr><td>NGC7833</td><td>Other</td><td>00:06:31.46</td><td>+27:38:22.8</td><td>Peg</td><td>--</td><td>--</td><td>--</td><td>--</td><td>--</td><td>--</td><td>--</td><td>--</td><td>--</td><td>--</td><td>--</td><td>--</td><td>--</td><td>--</td><td>--</td><td>--</td><td>--</td><td>--</td><td>--</td><td>Five Galactic stars.</td><td>--</td></tr>\n",
       "<tr><td>NGC7834</td><td>G</td><td>00:06:37.82</td><td>+08:22:04.4</td><td>Psc</td><td>0.93</td><td>0.83</td><td>16</td><td>15.4</td><td>--</td><td>12.74</td><td>12.24</td><td>11.85</td><td>23.94</td><td>Sc</td><td>--</td><td>--</td><td>--</td><td>--</td><td>--</td><td>--</td><td>--</td><td>2MASX J00063780+0822045,MCG +01-01-030,PGC 000504,UGC 00049</td><td>--</td><td>--</td><td>--</td></tr>\n",
       "<tr><td>NGC7835</td><td>G</td><td>00:06:46.77</td><td>+08:25:33.4</td><td>Psc</td><td>0.56</td><td>0.24</td><td>150</td><td>15.5</td><td>--</td><td>12.28</td><td>11.5</td><td>11.21</td><td>--</td><td>Sb</td><td>--</td><td>--</td><td>--</td><td>--</td><td>--</td><td>--</td><td>--</td><td>2MASX J00064677+0825335,MCG +01-01-031,PGC 000505</td><td>--</td><td>--</td><td>--</td></tr>\n",
       "<tr><td>NGC7836</td><td>G</td><td>00:08:01.64</td><td>+33:04:14.8</td><td>And</td><td>0.9</td><td>0.39</td><td>133</td><td>13.8</td><td>--</td><td>11.32</td><td>10.64</td><td>10.28</td><td>22.8</td><td>E?</td><td>--</td><td>--</td><td>--</td><td>--</td><td>--</td><td>--</td><td>--</td><td>2MASX J00080163+3304148,IRAS 00054+3247,PGC 000608,UGC 00065</td><td>--</td><td>--</td><td>--</td></tr>\n",
       "<tr><td>NGC7837</td><td>G</td><td>00:06:51.39</td><td>+08:21:05.0</td><td>Psc</td><td>0.67</td><td>0.38</td><td>169</td><td>16.0</td><td>--</td><td>12.39</td><td>11.89</td><td>11.46</td><td>24.01</td><td>Sb</td><td>--</td><td>--</td><td>--</td><td>--</td><td>--</td><td>--</td><td>--</td><td>2MASX J00065141+0821045,MCG +01-01-035,PGC 000516</td><td>--</td><td>--</td><td>--</td></tr>\n",
       "<tr><td>NGC7838</td><td>G</td><td>00:06:53.95</td><td>+08:21:03.1</td><td>Psc</td><td>1.3</td><td>0.57</td><td>93</td><td>15.3</td><td>--</td><td>11.48</td><td>10.81</td><td>10.48</td><td>24.37</td><td>S0-a</td><td>--</td><td>--</td><td>--</td><td>--</td><td>--</td><td>--</td><td>--</td><td>2MASX J00065396+0821027,MCG +01-01-036,PGC 000525</td><td>--</td><td>--</td><td>--</td></tr>\n",
       "<tr><td>NGC7839</td><td>**</td><td>00:07:00.63</td><td>+27:38:06.8</td><td>Peg</td><td>--</td><td>--</td><td>--</td><td>--</td><td>--</td><td>--</td><td>--</td><td>--</td><td>--</td><td>--</td><td>--</td><td>--</td><td>--</td><td>--</td><td>--</td><td>--</td><td>--</td><td>--</td><td>--</td><td>--</td><td>--</td></tr>\n",
       "<tr><td>NGC7840</td><td>G</td><td>00:07:08.80</td><td>+08:23:00.6</td><td>Psc</td><td>0.68</td><td>0.46</td><td>127</td><td>16.47</td><td>--</td><td>--</td><td>--</td><td>--</td><td>24.36</td><td>--</td><td>--</td><td>--</td><td>--</td><td>--</td><td>--</td><td>--</td><td>--</td><td>2MASX J00070878+0822598,PGC 1345780</td><td>--</td><td>--</td><td>--</td></tr>\n",
       "</table>"
      ],
      "text/plain": [
       "<Table masked=True length=13953>\n",
       "  name   type ...       ongcnotes       \n",
       " str13   str6 ...         str97         \n",
       "------- ----- ... ----------------------\n",
       " IC0002     G ... B-Mag taken from LEDA.\n",
       " IC0003     G ...                     --\n",
       " IC0004     G ...                     --\n",
       " IC0005     G ... B-Mag taken from LEDA.\n",
       " IC0006     G ...                     --\n",
       " IC0007     G ...                     --\n",
       " IC0008     G ... B-Mag taken from LEDA.\n",
       " IC0009     G ... B-Mag taken from LEDA.\n",
       " IC0010     G ...                     --\n",
       " IC0011   Dup ...                     --\n",
       "    ...   ... ...                    ...\n",
       "NGC7831     G ...                     --\n",
       "NGC7832     G ...                     --\n",
       "NGC7833 Other ...                     --\n",
       "NGC7834     G ...                     --\n",
       "NGC7835     G ...                     --\n",
       "NGC7836     G ...                     --\n",
       "NGC7837     G ...                     --\n",
       "NGC7838     G ...                     --\n",
       "NGC7839    ** ...                     --\n",
       "NGC7840     G ...                     --"
      ]
     },
     "execution_count": 11,
     "metadata": {},
     "output_type": "execute_result"
    }
   ],
   "source": [
    "NGC = ascii.read(os.path.join(gallerydir, 'NGC.csv'), delimiter=';', names=names)\n",
    "NGC.write(os.path.join(gallerydir, 'NGC.fits'), overwrite=True)\n",
    "NGC"
   ]
  },
  {
   "cell_type": "markdown",
   "metadata": {},
   "source": [
    "#### Select the desired object types.\n",
    "\n",
    "Here we choose ..."
   ]
  },
  {
   "cell_type": "code",
   "execution_count": 12,
   "metadata": {},
   "outputs": [],
   "source": [
    "majax = ma.getdata(NGC['majax']) # arcmin\n",
    "objtype = np.char.strip(ma.getdata(NGC['type']))"
   ]
  },
  {
   "cell_type": "code",
   "execution_count": 13,
   "metadata": {},
   "outputs": [
    {
     "name": "stdout",
     "output_type": "stream",
     "text": [
      "Working on G\n",
      "Working on PN\n",
      "Working on OCl\n",
      "Working on GCl\n",
      "Working on Cl+N\n"
     ]
    }
   ],
   "source": [
    "keeptype = ('G', 'PN', 'OCl', 'GCl', 'Cl+N') # Cl gives us GCl, OCl, and Cl+N\n",
    "#keeptype = ('G', 'GPair', 'GTrpl', 'GGroup', 'PN', 'Cl') # Cl gives us GCl, OCl, and Cl+N\n",
    "keep = np.zeros(len(NGC), dtype=bool)\n",
    "for otype in keeptype:\n",
    "    print('Working on {}'.format(otype))\n",
    "    ww = [otype == tt for tt in objtype]\n",
    "    keep = np.logical_or(keep, ww)"
   ]
  },
  {
   "cell_type": "markdown",
   "metadata": {},
   "source": [
    "#### Require \"big\" objects, particularly the galaxies (to cut down the sample size)."
   ]
  },
  {
   "cell_type": "code",
   "execution_count": 14,
   "metadata": {},
   "outputs": [],
   "source": [
    "galtoss = (objtype == 'G') * (majax < 3)\n",
    "keep = np.logical_and(keep, (majax > 0.3) * (majax < 20))\n",
    "keep = np.logical_and(keep, ~galtoss)"
   ]
  },
  {
   "cell_type": "code",
   "execution_count": 15,
   "metadata": {},
   "outputs": [
    {
     "name": "stdout",
     "output_type": "stream",
     "text": [
      "Keeping 1676 / 13953 objects\n"
     ]
    },
    {
     "data": {
      "text/html": [
       "&lt;Table masked=True length=1676&gt;\n",
       "<table id=\"table47573722554264\" class=\"table-striped table-bordered table-condensed\">\n",
       "<thead><tr><th>name</th><th>type</th><th>ra_hms</th><th>dec_dms</th><th>const</th><th>majax</th><th>minax</th><th>pa</th><th>bmag</th><th>vmag</th><th>jmag</th><th>hmag</th><th>kmag</th><th>sbrightn</th><th>hubble</th><th>cstarumag</th><th>cstarbmag</th><th>cstarvmag</th><th>messier</th><th>ngc</th><th>ic</th><th>cstarnames</th><th>identifiers</th><th>commonnames</th><th>nednotes</th><th>ongcnotes</th></tr></thead>\n",
       "<thead><tr><th>str13</th><th>str6</th><th>str11</th><th>str11</th><th>str3</th><th>float64</th><th>float64</th><th>int64</th><th>float64</th><th>float64</th><th>float64</th><th>float64</th><th>float64</th><th>float64</th><th>str4</th><th>float64</th><th>float64</th><th>float64</th><th>int64</th><th>str10</th><th>str14</th><th>str51</th><th>str211</th><th>str56</th><th>str80</th><th>str97</th></tr></thead>\n",
       "<tr><td>IC0010</td><td>G</td><td>00:20:17.34</td><td>+59:18:13.6</td><td>Cas</td><td>6.76</td><td>6.03</td><td>129</td><td>13.6</td><td>9.5</td><td>7.23</td><td>6.34</td><td>6.01</td><td>24.53</td><td>IB</td><td>--</td><td>--</td><td>--</td><td>--</td><td>--</td><td>--</td><td>--</td><td>2MASX J00201733+5918136,IRAS 00175+5902,IRAS 00177+5900,MCG +10-01-001,PGC 001305,UGC 00192</td><td>--</td><td>The 2MASX position refers to the center of the IR isophotes.</td><td>--</td></tr>\n",
       "<tr><td>IC0166</td><td>OCl</td><td>01:52:23.82</td><td>+61:51:09.4</td><td>Cas</td><td>7.5</td><td>--</td><td>--</td><td>13.0</td><td>11.7</td><td>--</td><td>--</td><td>--</td><td>--</td><td>--</td><td>--</td><td>--</td><td>--</td><td>--</td><td>--</td><td>--</td><td>--</td><td>MWSC 0146</td><td>--</td><td>--</td><td>--</td></tr>\n",
       "<tr><td>IC0239</td><td>G</td><td>02:36:27.88</td><td>+38:58:11.7</td><td>And</td><td>4.25</td><td>4.01</td><td>75</td><td>12.1</td><td>--</td><td>9.54</td><td>9.09</td><td>8.78</td><td>23.72</td><td>SABc</td><td>--</td><td>--</td><td>--</td><td>--</td><td>--</td><td>--</td><td>--</td><td>2MASX J02362783+3858085,IRAS 02333+3845,MCG +06-06-065,PGC 009899,UGC 02080</td><td>--</td><td>--</td><td>--</td></tr>\n",
       "<tr><td>IC0284</td><td>G</td><td>03:06:09.91</td><td>+42:22:18.9</td><td>Per</td><td>4.29</td><td>2.15</td><td>14</td><td>13.8</td><td>--</td><td>10.03</td><td>9.81</td><td>9.28</td><td>23.82</td><td>Sd</td><td>--</td><td>--</td><td>--</td><td>--</td><td>--</td><td>--</td><td>--</td><td>2MASX J03060989+4222189,IRAS 03029+4211,MCG +07-07-023,PGC 011643,UGC 02531</td><td>--</td><td>--</td><td>--</td></tr>\n",
       "<tr><td>IC0289</td><td>PN</td><td>03:10:19.26</td><td>+61:19:00.4</td><td>Cas</td><td>0.58</td><td>--</td><td>--</td><td>16.8</td><td>--</td><td>15.59</td><td>15.62</td><td>15.14</td><td>--</td><td>--</td><td>--</td><td>15.1</td><td>15.9</td><td>--</td><td>--</td><td>--</td><td>--</td><td>IRAS 03062+6107,PK 138+02 1,PN G138.8+02.8</td><td>--</td><td>--</td><td>--</td></tr>\n",
       "<tr><td>IC0342</td><td>G</td><td>03:46:48.50</td><td>+68:05:46.9</td><td>Cam</td><td>19.77</td><td>18.79</td><td>0</td><td>10.5</td><td>--</td><td>5.66</td><td>5.01</td><td>4.56</td><td>24.85</td><td>SABc</td><td>--</td><td>--</td><td>--</td><td>--</td><td>--</td><td>--</td><td>--</td><td>2MASX J03464851+6805459,C5,IRAS 03419+6756,MCG +11-05-003,PGC 013826,UGC 02847</td><td>--</td><td>--</td><td>--</td></tr>\n",
       "<tr><td>IC0348</td><td>Cl+N</td><td>03:44:34.19</td><td>+32:09:46.2</td><td>Per</td><td>10.0</td><td>10.0</td><td>--</td><td>--</td><td>--</td><td>--</td><td>--</td><td>--</td><td>--</td><td>--</td><td>--</td><td>--</td><td>--</td><td>--</td><td>--</td><td>1985</td><td>--</td><td>BD +31 0643,HIP 017465,LBN 758,MWSC 0301</td><td>omi Per Cloud</td><td>--</td><td>--</td></tr>\n",
       "<tr><td>IC0356</td><td>G</td><td>04:07:46.91</td><td>+69:48:44.8</td><td>Cam</td><td>4.02</td><td>3.73</td><td>90</td><td>13.3</td><td>--</td><td>7.16</td><td>6.33</td><td>6.04</td><td>23.27</td><td>Sb</td><td>--</td><td>--</td><td>--</td><td>--</td><td>--</td><td>--</td><td>--</td><td>2MASX J04074690+6948447,IRAS 04025+6940,MCG +12-04-011,PGC 014508,UGC 02953</td><td>--</td><td>--</td><td>--</td></tr>\n",
       "<tr><td>IC0361</td><td>OCl</td><td>04:18:50.70</td><td>+58:14:58.2</td><td>Cam</td><td>7.2</td><td>--</td><td>--</td><td>12.92</td><td>11.7</td><td>--</td><td>--</td><td>--</td><td>--</td><td>--</td><td>--</td><td>--</td><td>--</td><td>--</td><td>--</td><td>--</td><td>--</td><td>MWSC 0362</td><td>--</td><td>--</td><td>--</td></tr>\n",
       "<tr><td>IC0446</td><td>Cl+N</td><td>06:31:06.18</td><td>+10:27:33.4</td><td>Mon</td><td>5.0</td><td>4.0</td><td>--</td><td>--</td><td>--</td><td>--</td><td>--</td><td>--</td><td>--</td><td>--</td><td>--</td><td>--</td><td>--</td><td>--</td><td>--</td><td>2167</td><td>--</td><td>LBN 898, MWSC 0890</td><td>--</td><td>--</td><td>--</td></tr>\n",
       "<tr><td>...</td><td>...</td><td>...</td><td>...</td><td>...</td><td>...</td><td>...</td><td>...</td><td>...</td><td>...</td><td>...</td><td>...</td><td>...</td><td>...</td><td>...</td><td>...</td><td>...</td><td>...</td><td>...</td><td>...</td><td>...</td><td>...</td><td>...</td><td>...</td><td>...</td><td>...</td></tr>\n",
       "<tr><td>NGC7755</td><td>G</td><td>23:47:51.76</td><td>-30:31:19.3</td><td>Scl</td><td>3.7</td><td>2.27</td><td>27</td><td>12.1</td><td>11.36</td><td>9.92</td><td>9.29</td><td>8.97</td><td>23.63</td><td>Sc</td><td>--</td><td>--</td><td>--</td><td>--</td><td>--</td><td>--</td><td>--</td><td>2MASX J23475176-3031195,ESO 471-020,ESO-LV 471-0200,IRAS 23452-3048,MCG -05-56-014,PGC 072444,UGCA 443</td><td>--</td><td>--</td><td>--</td></tr>\n",
       "<tr><td>NGC7762</td><td>OCl</td><td>23:50:01.75</td><td>+68:02:16.7</td><td>Cep</td><td>6.5</td><td>--</td><td>--</td><td>--</td><td>--</td><td>--</td><td>--</td><td>--</td><td>--</td><td>--</td><td>--</td><td>--</td><td>--</td><td>--</td><td>--</td><td>--</td><td>--</td><td>MWSC 3784</td><td>--</td><td>--</td><td>--</td></tr>\n",
       "<tr><td>NGC7788</td><td>OCl</td><td>23:56:45.58</td><td>+61:23:59.7</td><td>Cas</td><td>2.4</td><td>--</td><td>--</td><td>--</td><td>9.4</td><td>--</td><td>--</td><td>--</td><td>--</td><td>--</td><td>--</td><td>--</td><td>--</td><td>--</td><td>--</td><td>--</td><td>--</td><td>MWSC 3777</td><td>--</td><td>--</td><td>--</td></tr>\n",
       "<tr><td>NGC7789</td><td>OCl</td><td>23:57:24.06</td><td>+56:42:29.8</td><td>Cas</td><td>14.4</td><td>--</td><td>--</td><td>7.68</td><td>6.7</td><td>--</td><td>--</td><td>--</td><td>--</td><td>--</td><td>--</td><td>--</td><td>--</td><td>--</td><td>--</td><td>--</td><td>--</td><td>MWSC 3779</td><td>--</td><td>--</td><td>--</td></tr>\n",
       "<tr><td>NGC7790</td><td>OCl</td><td>23:58:24.26</td><td>+61:12:29.9</td><td>Cas</td><td>3.6</td><td>--</td><td>--</td><td>9.18</td><td>8.5</td><td>--</td><td>--</td><td>--</td><td>--</td><td>--</td><td>--</td><td>--</td><td>--</td><td>--</td><td>--</td><td>--</td><td>--</td><td>MWSC 3781</td><td>--</td><td>--</td><td>--</td></tr>\n",
       "<tr><td>NGC7793</td><td>G</td><td>23:57:49.83</td><td>-32:35:27.7</td><td>Scl</td><td>10.42</td><td>6.05</td><td>89</td><td>9.74</td><td>9.28</td><td>7.56</td><td>7.02</td><td>6.86</td><td>23.05</td><td>Scd</td><td>--</td><td>--</td><td>--</td><td>--</td><td>--</td><td>--</td><td>--</td><td>2MASX J23574982-3235277,ESO 349-012,ESO-LV 349-0120,IRAS 23552-3252,MCG -06-01-009,PGC 073049</td><td>--</td><td>Extended HIPASS source</td><td>--</td></tr>\n",
       "<tr><td>NGC7795</td><td>OCl</td><td>23:58:37.44</td><td>+60:02:05.9</td><td>Cas</td><td>2.22</td><td>--</td><td>--</td><td>--</td><td>--</td><td>--</td><td>--</td><td>--</td><td>--</td><td>--</td><td>--</td><td>--</td><td>--</td><td>--</td><td>--</td><td>--</td><td>--</td><td>MWSC 3782</td><td>--</td><td>--</td><td>--</td></tr>\n",
       "<tr><td>NGC7801</td><td>OCl</td><td>00:00:21.44</td><td>+50:44:42.0</td><td>Cas</td><td>4.2</td><td>--</td><td>--</td><td>--</td><td>--</td><td>--</td><td>--</td><td>--</td><td>--</td><td>--</td><td>--</td><td>--</td><td>--</td><td>--</td><td>--</td><td>--</td><td>--</td><td>MWSC 0002</td><td>--</td><td>--</td><td>--</td></tr>\n",
       "<tr><td>NGC7814</td><td>G</td><td>00:03:14.89</td><td>+16:08:43.5</td><td>Peg</td><td>4.37</td><td>1.88</td><td>135</td><td>12.0</td><td>--</td><td>8.09</td><td>7.36</td><td>7.08</td><td>23.03</td><td>Sab</td><td>--</td><td>--</td><td>--</td><td>--</td><td>--</td><td>--</td><td>--</td><td>2MASX J00031494+1608428,C43,MCG +03-01-020,PGC 000218,SDSS J000315.04+160844.7,SDSS J000315.04+160844.8,UGC 00008</td><td>--</td><td>Multiple SDSS entries describe this object.</td><td>--</td></tr>\n",
       "<tr><td>NGC7817</td><td>G</td><td>00:03:58.91</td><td>+20:45:08.4</td><td>Peg</td><td>3.29</td><td>0.73</td><td>46</td><td>12.86</td><td>11.94</td><td>9.49</td><td>8.73</td><td>8.42</td><td>23.0</td><td>Sbc</td><td>--</td><td>--</td><td>--</td><td>--</td><td>--</td><td>--</td><td>--</td><td>2MASX J00035889+2045084,IRAS 00014+2028,MCG +03-01-021,PGC 000279,UGC 00019</td><td>--</td><td>--</td><td>--</td></tr>\n",
       "</table>"
      ],
      "text/plain": [
       "<Table masked=True length=1676>\n",
       "  name  type ... ongcnotes\n",
       " str13  str6 ...   str97  \n",
       "------- ---- ... ---------\n",
       " IC0010    G ...        --\n",
       " IC0166  OCl ...        --\n",
       " IC0239    G ...        --\n",
       " IC0284    G ...        --\n",
       " IC0289   PN ...        --\n",
       " IC0342    G ...        --\n",
       " IC0348 Cl+N ...        --\n",
       " IC0356    G ...        --\n",
       " IC0361  OCl ...        --\n",
       " IC0446 Cl+N ...        --\n",
       "    ...  ... ...       ...\n",
       "NGC7755    G ...        --\n",
       "NGC7762  OCl ...        --\n",
       "NGC7788  OCl ...        --\n",
       "NGC7789  OCl ...        --\n",
       "NGC7790  OCl ...        --\n",
       "NGC7793    G ...        --\n",
       "NGC7795  OCl ...        --\n",
       "NGC7801  OCl ...        --\n",
       "NGC7814    G ...        --\n",
       "NGC7817    G ...        --"
      ]
     },
     "execution_count": 15,
     "metadata": {},
     "output_type": "execute_result"
    }
   ],
   "source": [
    "nobj = np.count_nonzero(keep)\n",
    "print('Keeping {} / {} objects'.format(nobj, len(NGC)))\n",
    "cat = NGC[keep]\n",
    "cat"
   ]
  },
  {
   "cell_type": "code",
   "execution_count": 16,
   "metadata": {},
   "outputs": [
    {
     "name": "stdout",
     "output_type": "stream",
     "text": [
      "['Cl+N' 'G' 'GCl' 'OCl' 'PN']\n",
      "['0' 'E' 'E-S0' 'I' 'IAB' 'IB' 'S0' 'S0-a' 'S?' 'SABa' 'SABb' 'SABc' 'SABd'\n",
      " 'SABm' 'SBa' 'SBab' 'SBb' 'SBbc' 'SBc' 'SBcd' 'SBd' 'SBm' 'Sa' 'Sab' 'Sb'\n",
      " 'Sbc' 'Sc' 'Scd' 'Sd' 'Sm']\n"
     ]
    }
   ],
   "source": [
    "print(np.unique(ma.getdata(cat['type'])))\n",
    "print(np.unique(ma.getdata(cat['hubble'])))"
   ]
  },
  {
   "cell_type": "code",
   "execution_count": 17,
   "metadata": {},
   "outputs": [
    {
     "data": {
      "image/png": "[encoded data removed]",
      "text/plain": [
       "<matplotlib.figure.Figure at 0x2b449d8dbbe0>"
      ]
     },
     "metadata": {},
     "output_type": "display_data"
    }
   ],
   "source": [
    "ww = (cat['type'] == 'G')\n",
    "_ = plt.hist(cat['majax'][ww], bins=100)"
   ]
  },
  {
   "cell_type": "markdown",
   "metadata": {},
   "source": [
    "#### Convert coordinates in decimal degrees."
   ]
  },
  {
   "cell_type": "code",
   "execution_count": 18,
   "metadata": {},
   "outputs": [],
   "source": [
    "coord = SkyCoord(ra=cat['ra_hms'], dec=cat['dec_dms'], unit=(u.hourangle, u.deg))\n",
    "cat.add_column(Column(name='ra', unit='deg', length=nobj))\n",
    "cat.add_column(Column(name='dec', unit='deg', length=nobj))\n",
    "cat['ra'] = coord.ra.value\n",
    "cat['dec'] = coord.dec.value"
   ]
  },
  {
   "cell_type": "markdown",
   "metadata": {},
   "source": [
    "### Generate (find) the sample of objects in the DR6 footprint."
   ]
  },
  {
   "cell_type": "code",
   "execution_count": 19,
   "metadata": {},
   "outputs": [],
   "source": [
    "survey = LegacySurveyData()\n",
    "survey.output_dir = gallerydir"
   ]
  },
  {
   "cell_type": "code",
   "execution_count": 20,
   "metadata": {},
   "outputs": [],
   "source": [
    "def get_name(cat, nice=False):\n",
    "    name = np.atleast_1d(ma.getdata(cat['name']))\n",
    "    mess = np.atleast_1d(ma.getdata(cat['messier']))\n",
    "    comm = np.atleast_1d(ma.getdata(cat['commonnames']))\n",
    "\n",
    "    outname = []\n",
    "    if nice:\n",
    "        hubble_type = np.empty_like(name)\n",
    "        for nn, mm, cc in zip(name, mess, comm):\n",
    "            oo = nn.strip().replace('NED01', '').upper()\n",
    "            if mm != 0:\n",
    "                oo = '{} = M{}'.format(oo, mm)\n",
    "            if cc != 0:\n",
    "                oo = '{} = {}'.format(oo, str(cc).replace(',', ' = '))\n",
    "            outname.append(oo)\n",
    "    else:\n",
    "        for nn in name:\n",
    "            outname.append(nn.strip().replace(' ', '_').lower())\n",
    "            \n",
    "    if len(outname) == 1:\n",
    "        outname = outname[0]\n",
    "    return outname"
   ]
  },
  {
   "cell_type": "code",
   "execution_count": 21,
   "metadata": {},
   "outputs": [],
   "source": [
    "def simple_wcs(obj, diam):\n",
    "    \"\"\"Build a simple WCS object for a single object.\"\"\"\n",
    "    size = np.rint(diam / PIXSCALE).astype('int') # [pixels]\n",
    "    wcs = Tan(obj['ra'], obj['dec'], size/2+0.5, size/2+0.5,\n",
    "                 -PIXSCALE/3600.0, 0.0, 0.0, PIXSCALE/3600.0, \n",
    "                 float(size), float(size))\n",
    "    return wcs"
   ]
  },
  {
   "cell_type": "code",
   "execution_count": 22,
   "metadata": {},
   "outputs": [],
   "source": [
    "def _build_sample_one(args):\n",
    "    \"\"\"Wrapper function for the multiprocessing.\"\"\"\n",
    "    return build_sample_one(*args)"
   ]
  },
  {
   "cell_type": "code",
   "execution_count": 23,
   "metadata": {},
   "outputs": [],
   "source": [
    "def build_sample_one(obj, factor=0.5, verbose=False):\n",
    "    \"\"\"Wrapper function to find overlapping grz CCDs for a given object.\n",
    "    \n",
    "    \"\"\"\n",
    "    name = get_name(obj)\n",
    "    print('Working on {}...'.format(name))\n",
    "    diam = factor * ma.getdata(obj['majax']) * 60.0 # diameter [arcsec]\n",
    "    wcs = simple_wcs(obj, diam)\n",
    "    try:\n",
    "        ccds = survey.ccds_touching_wcs(wcs) # , ccdrad=2*diam/3600)\n",
    "    except:\n",
    "        return None\n",
    "    \n",
    "    if ccds:\n",
    "        # Is there 3-band coverage?\n",
    "        if 'g' in ccds.filter and 'r' in ccds.filter and 'z' in ccds.filter:\n",
    "            if verbose:\n",
    "                print('For {} (type={}) found {} CCDs, RA = {:.5f}, Dec = {:.5f}, Diameter={:.4f} arcmin'.format(\n",
    "                        obj['name'], obj['type'], len(ccds), obj['ra'], obj['dec'], obj['majax']))\n",
    "            return obj\n",
    "    return None"
   ]
  },
  {
   "cell_type": "code",
   "execution_count": 24,
   "metadata": {},
   "outputs": [],
   "source": [
    "def build_sample(cat, factor=1.0):\n",
    "    \"\"\"Build the full sample with grz coverage in DR6.\"\"\"\n",
    "\n",
    "    sampleargs = list()\n",
    "    for cc in cat:\n",
    "        sampleargs.append( (cc, factor, True) ) # the False refers to verbose=False\n",
    "\n",
    "    if nproc > 1:\n",
    "        p = multiprocessing.Pool(nproc)\n",
    "        result = p.map(_build_sample_one, sampleargs)\n",
    "        p.close()\n",
    "    else:\n",
    "        result = list()\n",
    "        for args in sampleargs:\n",
    "            result.append(_build_sample_one(args))\n",
    "\n",
    "    # Remove non-matching objects and write out the sample\n",
    "    outcat = vstack(list(filter(None, result)))\n",
    "    print('Found {}/{} objects in the DR6 footprint.'.format(len(outcat), len(cat)))\n",
    "    \n",
    "    return outcat"
   ]
  },
  {
   "cell_type": "code",
   "execution_count": 25,
   "metadata": {},
   "outputs": [
    {
     "name": "stdout",
     "output_type": "stream",
     "text": [
      "Building the sample.\n",
      "Logging to /global/cscratch1/sd/ioannis/dr6/gallery/build-sample.log\n",
      "Found 120/1676 objects in the DR6 footprint.\n",
      "Total time = 4.715 seconds.\n"
     ]
    }
   ],
   "source": [
    "samplelogfile = os.path.join(gallerydir, 'build-sample.log')\n",
    "print('Building the sample.')\n",
    "print('Logging to {}'.format(samplelogfile))\n",
    "t0 = time.time()\n",
    "with open(samplelogfile, 'w') as log:\n",
    "    with redirect_stdout(log):\n",
    "        sample = build_sample(cat)\n",
    "print('Found {}/{} objects in the DR6 footprint.'.format(len(sample), len(cat)))\n",
    "print('Total time = {:.3f} seconds.'.format(time.time() - t0))"
   ]
  },
  {
   "cell_type": "code",
   "execution_count": 26,
   "metadata": {},
   "outputs": [
    {
     "name": "stdout",
     "output_type": "stream",
     "text": [
      "Writing /global/cscratch1/sd/ioannis/dr6/gallery/gallery-dr6.fits\n"
     ]
    }
   ],
   "source": [
    "print('Writing {}'.format(galleryfile))\n",
    "sample.write(galleryfile, overwrite=True)"
   ]
  },
  {
   "cell_type": "code",
   "execution_count": 27,
   "metadata": {},
   "outputs": [
    {
     "data": {
      "text/html": [
       "&lt;Table masked=True length=120&gt;\n",
       "<table id=\"table47573700422064\" class=\"table-striped table-bordered table-condensed\">\n",
       "<thead><tr><th>name</th><th>type</th><th>ra_hms</th><th>dec_dms</th><th>const</th><th>majax</th><th>minax</th><th>pa</th><th>bmag</th><th>vmag</th><th>jmag</th><th>hmag</th><th>kmag</th><th>sbrightn</th><th>hubble</th><th>cstarumag</th><th>cstarbmag</th><th>cstarvmag</th><th>messier</th><th>ngc</th><th>ic</th><th>cstarnames</th><th>identifiers</th><th>commonnames</th><th>nednotes</th><th>ongcnotes</th><th>ra</th><th>dec</th></tr></thead>\n",
       "<thead><tr><th>str52</th><th>str24</th><th>str44</th><th>str44</th><th>str12</th><th>float64</th><th>float64</th><th>int64</th><th>float64</th><th>float64</th><th>float64</th><th>float64</th><th>float64</th><th>float64</th><th>str16</th><th>float64</th><th>float64</th><th>float64</th><th>int64</th><th>str40</th><th>str56</th><th>str204</th><th>str844</th><th>str224</th><th>str320</th><th>str388</th><th>float64</th><th>float64</th></tr></thead>\n",
       "<tr><td>IC0712</td><td>G</td><td>11:34:49.31</td><td>+49:04:39.7</td><td>UMa</td><td>3.02</td><td>0.89</td><td>91</td><td>14.8</td><td>--</td><td>10.84</td><td>10.17</td><td>9.89</td><td>25.42</td><td>E</td><td>--</td><td>--</td><td>--</td><td>--</td><td>--</td><td>--</td><td>--</td><td>2MASX J11344932+4904388,MCG +08-21-063,PGC 035785,SDSS J113449.29+490439.4,SDSS J113449.29+490439.5,SDSS J113449.29+490439.7,SDSS J113449.30+490439.5</td><td>--</td><td>--</td><td>--</td><td>173.705458333</td><td>49.0776944444</td></tr>\n",
       "<tr><td>IC3687</td><td>G</td><td>12:42:15.10</td><td>+38:30:12.0</td><td>CVn</td><td>3.34</td><td>3.08</td><td>0</td><td>15.5</td><td>--</td><td>--</td><td>--</td><td>--</td><td>25.04</td><td>IAB</td><td>--</td><td>--</td><td>--</td><td>--</td><td>--</td><td>--</td><td>--</td><td>MCG +07-26-039,PGC 042656,UGC 07866</td><td>--</td><td>--</td><td>--</td><td>190.562916667</td><td>38.5033333333</td></tr>\n",
       "<tr><td>IC4182</td><td>G</td><td>13:05:49.54</td><td>+37:36:17.6</td><td>CVn</td><td>6.01</td><td>5.52</td><td>0</td><td>11.86</td><td>--</td><td>--</td><td>--</td><td>--</td><td>25.09</td><td>Sm</td><td>--</td><td>--</td><td>--</td><td>--</td><td>--</td><td>--</td><td>--</td><td>MCG +06-29-031,PGC 045314,SDSS J130548.70+373613.0,UGC 08188</td><td>--</td><td>--</td><td>--</td><td>196.456416667</td><td>37.6048888889</td></tr>\n",
       "<tr><td>NGC2146</td><td>G</td><td>06:18:37.71</td><td>+78:21:25.3</td><td>Cam</td><td>5.31</td><td>4.32</td><td>123</td><td>11.38</td><td>10.59</td><td>8.23</td><td>7.42</td><td>7.06</td><td>22.76</td><td>SBab</td><td>--</td><td>--</td><td>--</td><td>--</td><td>--</td><td>--</td><td>--</td><td>2MASX J06183771+7821252,IRAS 06106+7822,MCG +13-05-022,PGC 018797,UGC 03429</td><td>--</td><td>--</td><td>--</td><td>94.657125</td><td>78.3570277778</td></tr>\n",
       "<tr><td>NGC2281</td><td>OCl</td><td>06:48:17.84</td><td>+41:04:43.9</td><td>Aur</td><td>10.8</td><td>--</td><td>--</td><td>6.05</td><td>5.4</td><td>--</td><td>--</td><td>--</td><td>--</td><td>--</td><td>--</td><td>--</td><td>--</td><td>--</td><td>--</td><td>--</td><td>--</td><td>MWSC 0989</td><td>--</td><td>--</td><td>--</td><td>102.074333333</td><td>41.0788611111</td></tr>\n",
       "<tr><td>NGC2340</td><td>G</td><td>07:11:10.83</td><td>+50:10:29.1</td><td>Lyn</td><td>3.16</td><td>1.64</td><td>71</td><td>13.9</td><td>--</td><td>9.95</td><td>9.26</td><td>8.88</td><td>24.06</td><td>E</td><td>--</td><td>--</td><td>--</td><td>--</td><td>--</td><td>--</td><td>--</td><td>2MASX J07111080+5010288,MCG +08-13-096,PGC 020338,UGC 03720</td><td>--</td><td>--</td><td>--</td><td>107.795125</td><td>50.17475</td></tr>\n",
       "<tr><td>NGC2419</td><td>GCl</td><td>07:38:07.95</td><td>+38:52:47.9</td><td>Lyn</td><td>4.5</td><td>--</td><td>--</td><td>--</td><td>10.05</td><td>--</td><td>--</td><td>--</td><td>--</td><td>--</td><td>--</td><td>--</td><td>--</td><td>--</td><td>--</td><td>--</td><td>--</td><td>2MASX J07380795+3852479,C25,MWSC 1290</td><td>--</td><td>--</td><td>--</td><td>114.533125</td><td>38.8799722222</td></tr>\n",
       "<tr><td>NGC2424</td><td>G</td><td>07:40:39.29</td><td>+39:13:59.9</td><td>Lyn</td><td>3.37</td><td>0.52</td><td>82</td><td>13.9</td><td>--</td><td>10.38</td><td>9.62</td><td>9.32</td><td>23.77</td><td>Sb</td><td>--</td><td>--</td><td>--</td><td>--</td><td>--</td><td>--</td><td>--</td><td>2MASX J07403931+3914003,IRAS 07372+3920,MCG +07-16-009,PGC 021558,SDSS J074039.28+391359.8,SDSS J074039.28+391359.9,SDSS J074039.29+391359.9,UGC 03959</td><td>--</td><td>--</td><td>--</td><td>115.163708333</td><td>39.2333055556</td></tr>\n",
       "<tr><td>NGC2541</td><td>G</td><td>08:14:40.12</td><td>+49:03:42.2</td><td>Lyn</td><td>3.02</td><td>1.6</td><td>170</td><td>12.26</td><td>11.8</td><td>10.87</td><td>10.2</td><td>10.09</td><td>22.85</td><td>SABc</td><td>--</td><td>--</td><td>--</td><td>--</td><td>--</td><td>--</td><td>--</td><td>2MASX J08144007+4903411,IRAS 08110+4912,MCG +08-15-054,PGC 023110,SDSS J081440.11+490342.1,UGC 04284</td><td>--</td><td>--</td><td>--</td><td>123.667166667</td><td>49.0617222222</td></tr>\n",
       "<tr><td>NGC2681</td><td>G</td><td>08:53:32.74</td><td>+51:18:49.2</td><td>UMa</td><td>3.97</td><td>3.97</td><td>70</td><td>11.09</td><td>10.29</td><td>8.41</td><td>7.71</td><td>7.45</td><td>22.88</td><td>S0-a</td><td>--</td><td>--</td><td>--</td><td>--</td><td>--</td><td>--</td><td>--</td><td>2MASX J08533273+5118493,IRAS 08500+5130,MCG +09-15-041,PGC 024961,UGC 04645</td><td>--</td><td>--</td><td>--</td><td>133.386416667</td><td>51.3136666667</td></tr>\n",
       "<tr><td>...</td><td>...</td><td>...</td><td>...</td><td>...</td><td>...</td><td>...</td><td>...</td><td>...</td><td>...</td><td>...</td><td>...</td><td>...</td><td>...</td><td>...</td><td>...</td><td>...</td><td>...</td><td>...</td><td>...</td><td>...</td><td>...</td><td>...</td><td>...</td><td>...</td><td>...</td><td>...</td><td>...</td></tr>\n",
       "<tr><td>NGC6015</td><td>G</td><td>15:51:25.23</td><td>+62:18:36.1</td><td>Dra</td><td>5.81</td><td>2.57</td><td>28</td><td>11.69</td><td>11.14</td><td>9.31</td><td>8.71</td><td>8.47</td><td>23.48</td><td>Sc</td><td>--</td><td>--</td><td>--</td><td>--</td><td>--</td><td>--</td><td>--</td><td>2MASX J15512523+6218361,IRAS 15506+6227,MCG +10-23-003,PGC 056219,UGC 10075</td><td>--</td><td>--</td><td>--</td><td>237.855125</td><td>62.3100277778</td></tr>\n",
       "<tr><td>NGC6058</td><td>PN</td><td>16:04:26.54</td><td>+40:40:59.0</td><td>Her</td><td>0.38</td><td>--</td><td>--</td><td>13.3</td><td>--</td><td>--</td><td>--</td><td>--</td><td>--</td><td>--</td><td>12.37</td><td>13.55</td><td>13.91</td><td>--</td><td>--</td><td>--</td><td>UCAC2 45993562</td><td>IRAS 16027+4049,PN G064.6+48.2,SDSS J160426.54+404058.9</td><td>--</td><td>--</td><td>--</td><td>241.110583333</td><td>40.6830555556</td></tr>\n",
       "<tr><td>NGC6205</td><td>GCl</td><td>16:41:41.63</td><td>+36:27:40.7</td><td>Her</td><td>16.5</td><td>--</td><td>--</td><td>--</td><td>5.8</td><td>4.45</td><td>3.94</td><td>3.85</td><td>--</td><td>--</td><td>--</td><td>--</td><td>--</td><td>13</td><td>--</td><td>--</td><td>--</td><td>2MASX J16414163+3627407,MWSC 2445</td><td>Hercules Globular Cluster</td><td>--</td><td>--</td><td>250.423458333</td><td>36.4613055556</td></tr>\n",
       "<tr><td>NGC6207</td><td>G</td><td>16:43:03.75</td><td>+36:49:56.7</td><td>Her</td><td>3.46</td><td>1.61</td><td>17</td><td>12.19</td><td>11.65</td><td>10.08</td><td>9.42</td><td>9.12</td><td>22.66</td><td>Sc</td><td>--</td><td>--</td><td>--</td><td>--</td><td>--</td><td>--</td><td>--</td><td>2MASX J16430375+3649567,IRAS 16412+3655,MCG +06-37-007,PGC 058827,SDSS J164303.66+364955.7,UGC 10521</td><td>--</td><td>--</td><td>--</td><td>250.765625</td><td>36.8324166667</td></tr>\n",
       "<tr><td>NGC6223</td><td>G</td><td>16:43:04.31</td><td>+61:34:44.1</td><td>Dra</td><td>3.16</td><td>2.33</td><td>90</td><td>13.1</td><td>--</td><td>10.09</td><td>9.34</td><td>9.11</td><td>24.18</td><td>E-S0</td><td>--</td><td>--</td><td>--</td><td>--</td><td>--</td><td>--</td><td>--</td><td>2MASX J16430433+6134441,MCG +10-24-040,PGC 058828,UGC 10527</td><td>--</td><td>--</td><td>--</td><td>250.767958333</td><td>61.5789166667</td></tr>\n",
       "<tr><td>NGC6229</td><td>GCl</td><td>16:46:58.86</td><td>+47:31:40.1</td><td>Her</td><td>4.8</td><td>--</td><td>--</td><td>9.38</td><td>9.86</td><td>7.98</td><td>7.43</td><td>7.33</td><td>--</td><td>--</td><td>--</td><td>--</td><td>--</td><td>--</td><td>--</td><td>--</td><td>--</td><td>MWSC 2460</td><td>--</td><td>--</td><td>--</td><td>251.74525</td><td>47.5278055556</td></tr>\n",
       "<tr><td>NGC6255</td><td>G</td><td>16:54:47.95</td><td>+36:30:04.0</td><td>Her</td><td>3.1</td><td>1.37</td><td>95</td><td>13.4</td><td>--</td><td>13.23</td><td>12.64</td><td>12.85</td><td>24.17</td><td>SBc</td><td>--</td><td>--</td><td>--</td><td>--</td><td>--</td><td>--</td><td>--</td><td>2MASX J16544796+3630031,MCG +06-37-014,PGC 059244,UGC 10606</td><td>--</td><td>--</td><td>--</td><td>253.699791667</td><td>36.5011111111</td></tr>\n",
       "<tr><td>NGC6341</td><td>GCl</td><td>17:17:07.27</td><td>+43:08:11.5</td><td>Her</td><td>14.4</td><td>--</td><td>--</td><td>--</td><td>6.52</td><td>--</td><td>--</td><td>--</td><td>--</td><td>--</td><td>--</td><td>--</td><td>--</td><td>92</td><td>--</td><td>--</td><td>--</td><td>MWSC 2557</td><td>--</td><td>--</td><td>--</td><td>259.280291667</td><td>43.1365277778</td></tr>\n",
       "<tr><td>NGC6742</td><td>PN</td><td>18:59:19.90</td><td>+48:27:55.0</td><td>Dra</td><td>0.45</td><td>--</td><td>--</td><td>15.0</td><td>--</td><td>--</td><td>--</td><td>--</td><td>--</td><td>--</td><td>--</td><td>--</td><td>--</td><td>--</td><td>--</td><td>--</td><td>--</td><td>PN G078.5+18.7</td><td>--</td><td>--</td><td>--</td><td>284.832916667</td><td>48.4652777778</td></tr>\n",
       "<tr><td>NGC6832</td><td>OCl</td><td>19:48:15.26</td><td>+59:25:16.2</td><td>Cyg</td><td>3.3</td><td>--</td><td>--</td><td>--</td><td>--</td><td>--</td><td>--</td><td>--</td><td>--</td><td>--</td><td>--</td><td>--</td><td>--</td><td>--</td><td>--</td><td>--</td><td>--</td><td>MWSC 3183</td><td>--</td><td>--</td><td>--</td><td>297.063583333</td><td>59.4211666667</td></tr>\n",
       "</table>"
      ],
      "text/plain": [
       "<Table masked=True length=120>\n",
       "  name   type    ra_hms     dec_dms   ... ongcnotes       ra           dec     \n",
       " str52  str24    str44       str44    ...   str388     float64       float64   \n",
       "------- ----- ----------- ----------- ... --------- ------------- -------------\n",
       " IC0712     G 11:34:49.31 +49:04:39.7 ...        -- 173.705458333 49.0776944444\n",
       " IC3687     G 12:42:15.10 +38:30:12.0 ...        -- 190.562916667 38.5033333333\n",
       " IC4182     G 13:05:49.54 +37:36:17.6 ...        -- 196.456416667 37.6048888889\n",
       "NGC2146     G 06:18:37.71 +78:21:25.3 ...        --     94.657125 78.3570277778\n",
       "NGC2281   OCl 06:48:17.84 +41:04:43.9 ...        -- 102.074333333 41.0788611111\n",
       "NGC2340     G 07:11:10.83 +50:10:29.1 ...        --    107.795125      50.17475\n",
       "NGC2419   GCl 07:38:07.95 +38:52:47.9 ...        --    114.533125 38.8799722222\n",
       "NGC2424     G 07:40:39.29 +39:13:59.9 ...        -- 115.163708333 39.2333055556\n",
       "NGC2541     G 08:14:40.12 +49:03:42.2 ...        -- 123.667166667 49.0617222222\n",
       "NGC2681     G 08:53:32.74 +51:18:49.2 ...        -- 133.386416667 51.3136666667\n",
       "    ...   ...         ...         ... ...       ...           ...           ...\n",
       "NGC6015     G 15:51:25.23 +62:18:36.1 ...        --    237.855125 62.3100277778\n",
       "NGC6058    PN 16:04:26.54 +40:40:59.0 ...        -- 241.110583333 40.6830555556\n",
       "NGC6205   GCl 16:41:41.63 +36:27:40.7 ...        -- 250.423458333 36.4613055556\n",
       "NGC6207     G 16:43:03.75 +36:49:56.7 ...        --    250.765625 36.8324166667\n",
       "NGC6223     G 16:43:04.31 +61:34:44.1 ...        -- 250.767958333 61.5789166667\n",
       "NGC6229   GCl 16:46:58.86 +47:31:40.1 ...        --     251.74525 47.5278055556\n",
       "NGC6255     G 16:54:47.95 +36:30:04.0 ...        -- 253.699791667 36.5011111111\n",
       "NGC6341   GCl 17:17:07.27 +43:08:11.5 ...        -- 259.280291667 43.1365277778\n",
       "NGC6742    PN 18:59:19.90 +48:27:55.0 ...        -- 284.832916667 48.4652777778\n",
       "NGC6832   OCl 19:48:15.26 +59:25:16.2 ...        -- 297.063583333 59.4211666667"
      ]
     },
     "execution_count": 27,
     "metadata": {},
     "output_type": "execute_result"
    }
   ],
   "source": [
    "sample"
   ]
  },
  {
   "cell_type": "code",
   "execution_count": 28,
   "metadata": {},
   "outputs": [
    {
     "name": "stdout",
     "output_type": "stream",
     "text": [
      "['G' 'GCl' 'OCl' 'PN']\n"
     ]
    }
   ],
   "source": [
    "print(np.unique(sample['type']).data)"
   ]
  },
  {
   "cell_type": "code",
   "execution_count": 29,
   "metadata": {},
   "outputs": [],
   "source": [
    "def qa_sample():\n",
    "    fig, ax = plt.subplots()\n",
    "    ax.scatter(cat['ra'], cat['dec'], alpha=0.5, s=10, label='Trimmed NGC Catalog')\n",
    "    ax.scatter(sample['ra'], sample['dec'], s=20, label='Objects in DR6 Footprint')\n",
    "    ax.set_xlabel('RA')\n",
    "    ax.set_ylabel('Dec')\n",
    "    ax.legend(loc='lower right')"
   ]
  },
  {
   "cell_type": "code",
   "execution_count": 30,
   "metadata": {},
   "outputs": [
    {
     "data": {
      "image/png": "[encoded data removed]",
      "text/plain": [
       "<matplotlib.figure.Figure at 0x2b449e7100f0>"
      ]
     },
     "metadata": {},
     "output_type": "display_data"
    }
   ],
   "source": [
    "qa_sample()"
   ]
  },
  {
   "cell_type": "markdown",
   "metadata": {},
   "source": [
    "### Generate the color mosaics for each object."
   ]
  },
  {
   "cell_type": "code",
   "execution_count": 31,
   "metadata": {},
   "outputs": [],
   "source": [
    "def custom_brickname(obj, prefix='custom-'): \n",
    "    brickname = 'custom-{:06d}{}{:05d}'.format(\n",
    "        int(1000*obj['ra']), 'm' if obj['dec'] < 0 else 'p', \n",
    "        int(1000*np.abs(obj['dec'])))\n",
    "    return brickname"
   ]
  },
  {
   "cell_type": "code",
   "execution_count": 32,
   "metadata": {},
   "outputs": [],
   "source": [
    "def get_factor(objtype):\n",
    "    \"\"\"Scale factors for the mosaics.\"\"\"\n",
    "    ref = dict(\n",
    "        G = 2,\n",
    "        GCl = 2,\n",
    "        OCl = 2,\n",
    "        PN = 4,\n",
    "    )\n",
    "    return ref[objtype]"
   ]
  },
  {
   "cell_type": "code",
   "execution_count": 33,
   "metadata": {},
   "outputs": [],
   "source": [
    "def make_coadds_one(obj, scale=PIXSCALE, clobber=False):\n",
    "    name = get_name(obj)\n",
    "    jpgfile = os.path.join(jpgdir, '{}.jpg'.format(name))\n",
    "    if os.path.isfile(jpgfile) and not clobber:\n",
    "        print('File {} exists...skipping.'.format(jpgfile))\n",
    "    else:\n",
    "        factor = get_factor(obj['type'])\n",
    "        diam = factor * ma.getdata(obj['majax']) * 60.0 # diameter [arcsec]\n",
    "        \n",
    "        size = np.rint(diam / scale).astype('int') # [pixels]\n",
    "        print('Generating mosaic for {} (type={}) with width={} pixels.'.format(name, obj['type'], size))\n",
    "        \n",
    "        with warnings.catch_warnings():\n",
    "            warnings.simplefilter(\"ignore\")\n",
    "            run_brick(None, survey, radec=(obj['ra'], obj['dec']), pixscale=scale, \n",
    "                      width=size, height=size, stages=['image_coadds'], splinesky=True,\n",
    "                      early_coadds=True, pixPsf=True, hybridPsf=True, normalizePsf=True,\n",
    "                      write_pickles=False, depth_cut=False, apodize=True, threads=nproc,\n",
    "                      do_calibs=False, ceres=False)\n",
    "            \n",
    "        sys.stdout.flush()    \n",
    "        brickname = custom_brickname(obj, prefix='custom-')\n",
    "        _jpgfile = os.path.join(survey.output_dir, 'coadd', 'cus', brickname, \n",
    "                               'legacysurvey-{}-image.jpg'.format(brickname))\n",
    "        shutil.copy(_jpgfile, jpgfile)\n",
    "        shutil.rmtree(os.path.join(survey.output_dir, 'coadd'))"
   ]
  },
  {
   "cell_type": "code",
   "execution_count": 34,
   "metadata": {},
   "outputs": [],
   "source": [
    "def make_coadds(sample, clobber=False):\n",
    "    for obj in sample:\n",
    "        make_coadds_one(obj, clobber=clobber)"
   ]
  },
  {
   "cell_type": "code",
   "execution_count": 35,
   "metadata": {},
   "outputs": [],
   "source": [
    "#make_coadds_one(sample[111], clobber=True)"
   ]
  },
  {
   "cell_type": "code",
   "execution_count": 36,
   "metadata": {},
   "outputs": [
    {
     "name": "stdout",
     "output_type": "stream",
     "text": [
      "Generating the coadds.\n",
      "Logging to /global/cscratch1/sd/ioannis/dr6/gallery/make-coadds.log\n",
      "Total time = 5.100 minutes.\n"
     ]
    }
   ],
   "source": [
    "coaddslogfile = os.path.join(gallerydir, 'make-coadds.log')\n",
    "print('Generating the coadds.')\n",
    "print('Logging to {}'.format(coaddslogfile))\n",
    "t0 = time.time()\n",
    "with open(coaddslogfile, 'w') as log:\n",
    "    with redirect_stdout(log):\n",
    "        make_coadds(sample, clobber=False)\n",
    "print('Total time = {:.3f} minutes.'.format((time.time() - t0) / 60))"
   ]
  },
  {
   "cell_type": "markdown",
   "metadata": {},
   "source": [
    "### Add labels and a scale bar."
   ]
  },
  {
   "cell_type": "code",
   "execution_count": 37,
   "metadata": {},
   "outputs": [],
   "source": [
    "barlen = np.round(60.0 / PIXSCALE).astype('int')\n",
    "fonttype = os.path.join(gallerydir, 'Georgia.ttf')"
   ]
  },
  {
   "cell_type": "code",
   "execution_count": 38,
   "metadata": {},
   "outputs": [],
   "source": [
    "def _add_labels_one(args):\n",
    "    \"\"\"Wrapper function for the multiprocessing.\"\"\"\n",
    "    return add_labels_one(*args)"
   ]
  },
  {
   "cell_type": "code",
   "execution_count": 39,
   "metadata": {},
   "outputs": [],
   "source": [
    "def add_labels_one(obj, verbose=False):\n",
    "    name = get_name(obj)\n",
    "    nicename = get_name(obj, nice=True)\n",
    "    \n",
    "    jpgfile = os.path.join(jpgdir, '{}.jpg'.format(name))\n",
    "    pngfile = os.path.join(pngdir, '{}.png'.format(name))\n",
    "    thumbfile = os.path.join(pngdir, 'thumb-{}.png'.format(name))\n",
    "        \n",
    "    im = Image.open(jpgfile)\n",
    "    sz = im.size\n",
    "    fntsize = np.round(sz[0]/28).astype('int')\n",
    "    width = np.round(sz[0]/175).astype('int')\n",
    "    font = ImageFont.truetype(fonttype, size=fntsize)\n",
    "    draw = ImageDraw.Draw(im)\n",
    "    # Label the object name--\n",
    "    draw.text((0+fntsize*2, 0+fntsize*2), nicename, font=font)\n",
    "    # Add a scale bar--\n",
    "    x0, x1, yy = sz[1]-fntsize*2-barlen, sz[1]-fntsize*2, sz[0]-fntsize*2\n",
    "    draw.line((x0, yy, x1, yy), fill='white', width=width)\n",
    "    im.save(pngfile)    \n",
    "        \n",
    "    # Generate a thumbnail\n",
    "    cmd = '/usr/bin/convert -thumbnail 300x300 {} {}'.format(pngfile, thumbfile)\n",
    "    os.system(cmd)"
   ]
  },
  {
   "cell_type": "code",
   "execution_count": 40,
   "metadata": {},
   "outputs": [],
   "source": [
    "def add_labels(sample):\n",
    "    labelargs = list()\n",
    "    for obj in sample:\n",
    "        labelargs.append((obj, False))\n",
    "\n",
    "    if nproc > 1:\n",
    "        p = multiprocessing.Pool(nproc)\n",
    "        res = p.map(_add_labels_one, labelargs)\n",
    "        p.close()\n",
    "    else:\n",
    "        for args in labelargs:\n",
    "            res = _add_labels_one(args)"
   ]
  },
  {
   "cell_type": "code",
   "execution_count": 41,
   "metadata": {},
   "outputs": [
    {
     "name": "stdout",
     "output_type": "stream",
     "text": [
      "CPU times: user 319 ms, sys: 1.08 s, total: 1.4 s\n",
      "Wall time: 32.6 s\n"
     ]
    }
   ],
   "source": [
    "%time add_labels(sample)"
   ]
  },
  {
   "cell_type": "markdown",
   "metadata": {
    "collapsed": true
   },
   "source": [
    "### Finally, assemble the webpage of good and rejected gallery images.\n",
    "\n",
    "To test the webpage before release, do\n",
    "  * rsync -auvP /global/cscratch1/sd/ioannis/dr6/gallery/png /global/project/projectdirs/cosmo/www/temp/ioannis/dr6/gallery/\n",
    "  * rsync -auvP /global/cscratch1/sd/ioannis/dr6/gallery/*.html /global/project/projectdirs/cosmo/www/temp/ioannis/dr6/gallery/"
   ]
  },
  {
   "cell_type": "code",
   "execution_count": 42,
   "metadata": {},
   "outputs": [],
   "source": [
    "def get_type(hubble):\n",
    "    \"\"\"Convert Hubble type to numerical type, for sorting purposes.\"\"\"\n",
    "    numtype = {\n",
    "        'E': 0,\n",
    "        'E-S0': 1,\n",
    "        \n",
    "        'S0': 2,\n",
    "        'S0-a': 3,\n",
    "        \n",
    "        'Sa': 4,\n",
    "        'SBa': 4,\n",
    "        'SABa': 4,\n",
    "\n",
    "        'Sab': 5,\n",
    "        'SBab': 5,\n",
    "        \n",
    "        'Sb': 6,\n",
    "        'SABb': 6,\n",
    "        'SBb': 6,\n",
    "\n",
    "        'Sbc': 7,\n",
    "        \n",
    "        'Sc': 8,\n",
    "        'SABc': 8,\n",
    "        'SBc': 8,\n",
    "        \n",
    "        'Scd': 9,\n",
    "        'SBcd': 9,\n",
    "        \n",
    "        'Sd': 10,\n",
    "        \n",
    "        'Sm': 11,\n",
    "        'SBm': 11,\n",
    "        \n",
    "        'I': 12,\n",
    "        'IAB': 12,\n",
    "        'IB': 12,\n",
    "        \n",
    "        '0': -1\n",
    "    }\n",
    "    return np.array([numtype[hh] for hh in hubble])"
   ]
  },
  {
   "cell_type": "code",
   "execution_count": 43,
   "metadata": {},
   "outputs": [
    {
     "name": "stdout",
     "output_type": "stream",
     "text": [
      "Rejecting 34 objects.\n"
     ]
    }
   ],
   "source": [
    "reject = ['ngc3587', 'ngc6832', 'ngc5982', 'ngc2832', 'ngc2340', 'ngc5195',\n",
    "          'ngc5308', 'ngc4346', 'ngc4036', 'ngc2681', 'ngc3718', 'ngc5377',\n",
    "          'ngc2146', 'ngc3126', 'ngc2841', 'ngc2683', 'ngc4217', 'ngc4357',\n",
    "          'ngc5055', 'ngc4100', 'ngc5879', 'ngc5297', 'ngc4605', 'ngc6015',\n",
    "          'ngc4144', 'ngc3733', 'ngc3079', 'ngc3198', 'ngc3430', 'ngc3877',\n",
    "          'ngc4062', 'ngc4631', 'ngc4656_ned01', 'ngc4395']\n",
    "toss = np.zeros(len(sample), dtype=bool)\n",
    "name = get_name(sample)\n",
    "for ii, nn in enumerate(name):\n",
    "    for rej in np.atleast_1d(reject):\n",
    "        toss[ii] = rej in nn.lower()\n",
    "        if toss[ii]:\n",
    "            break\n",
    "print('Rejecting {} objects.'.format(np.sum(toss)))\n",
    "pngkeep = sample[~toss]\n",
    "if np.sum(toss) > 0:\n",
    "    pngrej = sample[toss]\n",
    "else:\n",
    "    pngrej = []"
   ]
  },
  {
   "cell_type": "code",
   "execution_count": 44,
   "metadata": {},
   "outputs": [],
   "source": [
    "htmlfile = os.path.join(gallerydir, 'index.html')\n",
    "htmlfile_reject = os.path.join(gallerydir, 'index-reject.html')\n",
    "baseurl = 'http://legacysurvey.org/viewer-dev'"
   ]
  },
  {
   "cell_type": "code",
   "execution_count": 59,
   "metadata": {},
   "outputs": [],
   "source": [
    "def html_rows(pngkeep, nperrow=4):\n",
    "    nrow = np.ceil(len(pngkeep) / nperrow).astype('int')\n",
    "    pngsplit = list()\n",
    "    for ii in range(nrow):\n",
    "        i1 = nperrow*ii\n",
    "        i2 = nperrow*(ii+1)\n",
    "        if i2 > len(pngkeep):\n",
    "            i2 = len(pngkeep)\n",
    "        pngsplit.append(pngkeep[i1:i2])\n",
    "    #pngsplit = np.array_split(pngkeep, nrow)\n",
    "    print('Splitting the sample into {} rows with {} mosaics per row.'.format(nrow, nperrow))\n",
    "\n",
    "    html.write('<table class=\"ls-gallery\">\\n')\n",
    "    html.write('<tbody>\\n')\n",
    "    for pngrow in pngsplit:\n",
    "        html.write('<tr>\\n')\n",
    "        for obj in pngrow:\n",
    "            name = get_name(obj)\n",
    "            nicename = get_name(obj, nice=True)\n",
    "            pngfile = os.path.join('png', '{}.png'.format(name))\n",
    "            thumbfile = os.path.join('png', 'thumb-{}.png'.format(name))\n",
    "            img = 'src=\"{}\" alt=\"{}\"'.format(thumbfile, nicename)\n",
    "            #img = 'class=\"ls-gallery\" src=\"{}\" alt=\"{}\"'.format(thumbfile, nicename)\n",
    "            html.write('<td><a href=\"{}\"><img {}></a></td>\\n'.format(pngfile, img))\n",
    "        html.write('</tr>\\n')\n",
    "        html.write('<tr>\\n')\n",
    "        for obj in pngrow:\n",
    "            nicename = get_name(obj, nice=True)\n",
    "            href = '{}/?layer=decals-{}&ra={:.8f}&dec={:.8f}&zoom=12'.format(baseurl, dr, obj['ra'], obj['dec'])\n",
    "            html.write('<td><a href=\"{}\" target=\"_blank\">{}</a></td>\\n'.format(href, nicename))\n",
    "        html.write('</tr>\\n')\n",
    "    html.write('</tbody>\\n')            \n",
    "    html.write('</table>\\n')"
   ]
  },
  {
   "cell_type": "code",
   "execution_count": 60,
   "metadata": {},
   "outputs": [],
   "source": [
    "objtype = ma.getdata(pngkeep['type'])\n",
    "hubbletype = get_type(ma.getdata(pngkeep['hubble']))"
   ]
  },
  {
   "cell_type": "code",
   "execution_count": 63,
   "metadata": {},
   "outputs": [
    {
     "name": "stdout",
     "output_type": "stream",
     "text": [
      "Splitting the sample into 2 rows with 4 mosaics per row.\n",
      "Splitting the sample into 3 rows with 4 mosaics per row.\n",
      "Splitting the sample into 7 rows with 4 mosaics per row.\n",
      "Splitting the sample into 9 rows with 4 mosaics per row.\n",
      "Splitting the sample into 3 rows with 4 mosaics per row.\n"
     ]
    }
   ],
   "source": [
    "with open(htmlfile, 'w') as html:\n",
    "    html.write('<html><head>\\n')\n",
    "    html.write('<style type=\"text/css\">\\n')\n",
    "    html.write('table.ls-gallery {width: 90%;}\\n')\n",
    "    #html.write('img.ls-gallery {display: block;}\\n')\n",
    "    #html.write('td.ls-gallery {width: 100%; height: auto}\\n')\n",
    "    #html.write('td.ls-gallery {width: 100%; word-wrap: break-word;}\\n')\n",
    "    html.write('p.ls-gallery {width: 80%;}\\n')\n",
    "    html.write('</style>\\n')\n",
    "    html.write('</head><body>\\n')\n",
    "    html.write('<h1>DR6 Image Gallery</h1>\\n')\n",
    "    html.write(\"\"\"<p class=\"ls-gallery\">This gallery highlights the exquisite image quality and diversity \n",
    "    of objects observed by the Legacy Survey, including planetary nebulae, globular clusters, and \n",
    "    large, nearby galaxies.  Each thumbnail links to a larger image while the object name below each \n",
    "    thumbnail links to the \n",
    "    <a href=\"http://legacysurvey.org/viewer\">Sky Viewer</a>.  For reference, the horizontal white bar in \n",
    "    the lower-right corner of each image represents one arcminute.</p>\\n\"\"\")\n",
    "    html.write(\"\"\"<p>We gratefully acknowledge the <a href=\"https://github.com/mattiaverga/OpenNGC\" target=\"_blank\">\n",
    "    OpenNGC</a> catalog created by Mattia Verga, which was used to generate this sample.</p>\\n\"\"\")\n",
    "    html.write(\"\"\"<p>For more eye candy, please visit the gallery of galaxy groups highlighted in the \n",
    "    <a href=\"http://portal.nersc.gov/project/cosmo/data/legacysurvey/dr5/gallery/\">DR5 Gallery.</a></p>\\n\"\"\")\n",
    "    \n",
    "    # Split by object type\n",
    "    \n",
    "    html.write('<h2>Planetary Nebulae, Open Clusters, and Globular Clusters</h2>\\n')\n",
    "    these = np.logical_or( np.logical_or(objtype == 'PN', objtype == 'OCl'), objtype == 'GCl' )\n",
    "    srt = np.argsort(objtype[these])[::-1]\n",
    "    html_rows(pngkeep[these][srt])\n",
    "    html.write('<br />\\n')\n",
    "    \n",
    "    html.write('<h2>Spheroidal & Elliptical Galaxies</h2>\\n')\n",
    "    these = (objtype == 'G') * (hubbletype <= 2)\n",
    "    srt = np.argsort(hubbletype[these])\n",
    "    html_rows(pngkeep[these][srt])\n",
    "\n",
    "    html.write('<h2>Early-Type Disk Galaxies</h2>\\n')\n",
    "    these = (objtype == 'G') * (hubbletype >= 3) * (hubbletype <= 6)\n",
    "    srt = np.argsort(hubbletype[these])\n",
    "    html_rows(pngkeep[these][srt])\n",
    "\n",
    "    html.write('<h2>Late-Type Disk Galaxies</h2>\\n')\n",
    "    these = (objtype == 'G') * (hubbletype >= 7) * (hubbletype <= 10)\n",
    "    srt = np.argsort(hubbletype[these])\n",
    "    html_rows(pngkeep[these][srt])\n",
    "    \n",
    "    html.write('<h2>Irregular Galaxies</h2>\\n')\n",
    "    these = (objtype == 'G') * (hubbletype >= 11)\n",
    "    srt = np.argsort(hubbletype[these])\n",
    "    html_rows(pngkeep[these][srt])\n",
    "    \n",
    "    html.write('</body></html>\\n')"
   ]
  },
  {
   "cell_type": "code",
   "execution_count": 48,
   "metadata": {},
   "outputs": [
    {
     "name": "stdout",
     "output_type": "stream",
     "text": [
      "Splitting the sample into 7 rows with 5 mosaics per row.\n"
     ]
    }
   ],
   "source": [
    "if len(pngrej) > 0:\n",
    "    with open(htmlfile_reject, 'w') as html:\n",
    "        html.write('<html><head>\\n')\n",
    "        html.write('<style type=\"text/css\">\\n')\n",
    "        html.write('img.ls-gallery {display: block;}\\n')\n",
    "        html.write('td.ls-gallery {width: 20%; word-wrap: break-word;}\\n')\n",
    "        html.write('</style>\\n')\n",
    "        html.write('</head><body>\\n')\n",
    "        html.write('<h1>DR6 Image Gallery - Rejected</h1>\\n')\n",
    "        html_rows(pngrej)\n",
    "        html.write('</body></html>\\n')"
   ]
  }
 ],
 "metadata": {
  "anaconda-cloud": {},
  "kernelspec": {
   "display_name": "legacypipe master",
   "language": "python",
   "name": "legacypipe-master"
  },
  "language_info": {
   "codemirror_mode": {
    "name": "ipython",
    "version": 3
   },
   "file_extension": ".py",
   "mimetype": "text/x-python",
   "name": "python",
   "nbconvert_exporter": "python",
   "pygments_lexer": "ipython3",
   "version": "3.5.4"
  }
 },
 "nbformat": 4,
 "nbformat_minor": 2
}
