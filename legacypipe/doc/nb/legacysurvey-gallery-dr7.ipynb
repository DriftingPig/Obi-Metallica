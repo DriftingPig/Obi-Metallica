{
 "cells": [
  {
   "cell_type": "markdown",
   "metadata": {},
   "source": [
    "# Gallery for DR7\n",
    "\n",
    "The purpose of this notebook is to build a nice gallery of object images for DR7.  The theme is the Arp atlas of interacting galaxies.\n",
    "\n",
    "For future reference: The notebook must be run from https://jupyter-dev.nersc.gov with the following (approximate) activation script:\n",
    "\n",
    "```bash\n",
    "#!/bin/bash                                                                                                           \n",
    "version=$1                                                                                                            \n",
    "connection_file=$2                                                                                                    \n",
    "\n",
    "desiconda_version=20180512-1.2.5-img\n",
    "module use /global/common/software/desi/$NERSC_HOST/desiconda/$desiconda_version/modulefiles\n",
    "module load desiconda\n",
    "\n",
    "export LEGACYPIPE_DIR=$SCRATCH/repos/legacypipe                                                                       \n",
    "\n",
    "export PATH=$LEGACYPIPE_DIR/bin:${PATH}                                                                               \n",
    "export PYTHONPATH=$LEGACYPIPE_DIR/py:${PYTHONPATH}                                                                    \n",
    "\n",
    "export PATH=$SCRATCH/repos/build/$NERSC_HOST/bin:$PATH\n",
    "export PYTHONPATH=$CSCRATCH/repos/build/$NERSC_HOST/lib/python3.6/site-packages:$PYTHONPATH\n",
    "\n",
    "\n",
    "export DUST_DIR=/global/project/projectdirs/desi/software/${NERSC_HOST}/dust/v0_0\n",
    "\n",
    "export UNWISE_COADDS_DIR=/global/projecta/projectdirs/cosmo/work/wise/outputs/merge/neo4/fulldepth:/global/project/projectdirs/cosmo/data/unwise/allwise/unwise-coadds/fulldepth\n",
    "export UNWISE_COADDS_TIMERESOLVED_DIR=/global/projecta/projectdirs/cosmo/work/wise/outputs/merge/neo4\n",
    "\n",
    "export GAIA_CAT_DIR=/global/project/projectdirs/cosmo/work/gaia/chunks-gaia-dr2-astrom/\n",
    "export GAIA_CAT_VER=2\n",
    "\n",
    "export TYCHO2_KD_DIR=/global/project/projectdirs/cosmo/staging/tycho2\n",
    "\n",
    "export PS1CAT_DIR=/global/project/projectdirs/cosmo/work/ps1/cats/chunks-qz-star-v3 # calibration only\n",
    "\n",
    "exec python -m ipykernel -f $connection_file\n",
    "```"
   ]
  },
  {
   "cell_type": "markdown",
   "metadata": {},
   "source": [
    "### Imports and paths"
   ]
  },
  {
   "cell_type": "code",
   "execution_count": 1,
   "metadata": {},
   "outputs": [],
   "source": [
    "import os, sys\n",
    "import shutil, time, warnings\n",
    "from contextlib import redirect_stdout\n",
    "import numpy as np\n",
    "import numpy.ma as ma\n",
    "import matplotlib.pyplot as plt"
   ]
  },
  {
   "cell_type": "code",
   "execution_count": 2,
   "metadata": {},
   "outputs": [],
   "source": [
    "from astropy.io import ascii\n",
    "import astropy.units as u\n",
    "from astropy.coordinates import SkyCoord\n",
    "from astropy.table import Table, vstack, Column\n",
    "from PIL import Image, ImageDraw, ImageFont"
   ]
  },
  {
   "cell_type": "code",
   "execution_count": 3,
   "metadata": {},
   "outputs": [],
   "source": [
    "from legacypipe.survey import LegacySurveyData\n",
    "from legacypipe.runbrick import run_brick\n",
    "from astrometry.util.util import Tan\n",
    "from astrometry.util.fits import merge_tables"
   ]
  },
  {
   "cell_type": "code",
   "execution_count": 4,
   "metadata": {},
   "outputs": [],
   "source": [
    "import multiprocessing\n",
    "nproc = multiprocessing.cpu_count() // 2"
   ]
  },
  {
   "cell_type": "code",
   "execution_count": 5,
   "metadata": {},
   "outputs": [],
   "source": [
    "%matplotlib inline"
   ]
  },
  {
   "cell_type": "markdown",
   "metadata": {},
   "source": [
    "### Preliminaries\n",
    "\n",
    "Define the data release and the various output directories."
   ]
  },
  {
   "cell_type": "code",
   "execution_count": 6,
   "metadata": {},
   "outputs": [],
   "source": [
    "PIXSCALE = 0.262\n",
    "#PIXSCALE = 2.62"
   ]
  },
  {
   "cell_type": "code",
   "execution_count": 7,
   "metadata": {},
   "outputs": [],
   "source": [
    "dr = 'dr7'\n",
    "gallerydir = os.path.join( os.getenv('SCRATCH'), dr)\n",
    "samplefile = os.path.join(gallerydir, 'sample-{}.fits'.format(dr))"
   ]
  },
  {
   "cell_type": "code",
   "execution_count": 8,
   "metadata": {},
   "outputs": [],
   "source": [
    "jpgdir = os.path.join(gallerydir, 'jpg')\n",
    "if not os.path.isdir(jpgdir):\n",
    "    os.mkdir(jpgdir)"
   ]
  },
  {
   "cell_type": "code",
   "execution_count": 9,
   "metadata": {},
   "outputs": [],
   "source": [
    "pngdir = os.path.join(gallerydir, 'png')\n",
    "if not os.path.isdir(pngdir):\n",
    "    os.mkdir(pngdir)"
   ]
  },
  {
   "cell_type": "markdown",
   "metadata": {},
   "source": [
    "### Build the sample.\n",
    "\n",
    "Use the sample of Arp galaxies from NED:\n",
    "https://ned.ipac.caltech.edu/classic/forms/byrefcode.html\n",
    "with refcode 1966ApJS...14....1A"
   ]
  },
  {
   "cell_type": "code",
   "execution_count": 10,
   "metadata": {},
   "outputs": [
    {
     "name": "stdout",
     "output_type": "stream",
     "text": [
      "['G' 'GGroup' 'GPair' 'GTrpl']\n"
     ]
    },
    {
     "data": {
      "text/html": [
       "&lt;Table masked=True length=89&gt;\n",
       "<table id=\"table47764541697384\" class=\"table-striped table-bordered table-condensed\">\n",
       "<thead><tr><th>name</th><th>ra</th><th>dec</th><th>type</th><th>redshift</th><th>mag</th><th>diam</th></tr></thead>\n",
       "<thead><tr><th>str24</th><th>float64</th><th>float64</th><th>str6</th><th>float64</th><th>float32</th><th>float32</th></tr></thead>\n",
       "<tr><td>UGC 12891</td><td>0.08167</td><td>22.99194</td><td>GPair</td><td>--</td><td>15.1</td><td>1.5</td></tr>\n",
       "<tr><td>ARP 051</td><td>1.56983</td><td>-13.44808</td><td>G</td><td>--</td><td>15.0</td><td>3.0</td></tr>\n",
       "<tr><td>NGC 7829</td><td>1.62075</td><td>-13.42061</td><td>G</td><td>0.01907</td><td>15.4</td><td>3.0</td></tr>\n",
       "<tr><td>ARP 246</td><td>1.71958</td><td>8.35111</td><td>GPair</td><td>--</td><td>15.3</td><td>3.0</td></tr>\n",
       "<tr><td>UGC 00212</td><td>5.59596</td><td>-1.30339</td><td>G</td><td>0.016238</td><td>15.0</td><td>3.0</td></tr>\n",
       "<tr><td>UGC 00224</td><td>5.90708</td><td>-0.50639</td><td>GPair</td><td>--</td><td>15.4</td><td>3.0</td></tr>\n",
       "<tr><td>IC 0018</td><td>7.14567</td><td>-11.58669</td><td>G</td><td>0.020251</td><td>15.46</td><td>3.0</td></tr>\n",
       "<tr><td>IC 0019</td><td>7.16452</td><td>-11.64078</td><td>G</td><td>0.020671</td><td>15.0</td><td>3.0</td></tr>\n",
       "<tr><td>ARP 251</td><td>13.45158</td><td>-13.85692</td><td>GTrpl</td><td>--</td><td>15.5</td><td>1.5</td></tr>\n",
       "<tr><td>NGC 0386</td><td>16.88039</td><td>32.36199</td><td>G</td><td>0.018533</td><td>15.33</td><td>3.0</td></tr>\n",
       "<tr><td>...</td><td>...</td><td>...</td><td>...</td><td>...</td><td>...</td><td>...</td></tr>\n",
       "<tr><td>KUG 1603+179A</td><td>241.37763</td><td>17.76866</td><td>G</td><td>0.037322</td><td>15.9</td><td>3.0</td></tr>\n",
       "<tr><td>ARP 172</td><td>241.38958</td><td>17.59722</td><td>GPair</td><td>--</td><td>15.0</td><td>3.0</td></tr>\n",
       "<tr><td>IC 1181</td><td>241.39105</td><td>17.5937</td><td>G</td><td>0.033066</td><td>15.5</td><td>3.0</td></tr>\n",
       "<tr><td>UGC 10491</td><td>249.55671</td><td>41.936</td><td>GPair</td><td>0.027079</td><td>15.0</td><td>3.0</td></tr>\n",
       "<tr><td>ARP 208</td><td>252.75917</td><td>47.22222</td><td>GPair</td><td>--</td><td>15.2</td><td>3.0</td></tr>\n",
       "<tr><td>NGC 6285</td><td>254.60004</td><td>58.95597</td><td>G</td><td>0.018983</td><td>15.3</td><td>3.0</td></tr>\n",
       "<tr><td>IC 1260</td><td>261.88215</td><td>58.47586</td><td>G</td><td>0.026129</td><td>15.7</td><td>3.0</td></tr>\n",
       "<tr><td>NGC 6621S</td><td>273.24917</td><td>68.35389</td><td>G</td><td>0.021568</td><td>16.0</td><td>3.0</td></tr>\n",
       "<tr><td>UGC 12665</td><td>353.41108</td><td>30.03897</td><td>G</td><td>0.017929</td><td>15.1</td><td>3.0</td></tr>\n",
       "<tr><td>NGC 3746 Group</td><td>174.4588</td><td>21.998</td><td>GGroup</td><td>0.030094</td><td>15.0</td><td>7.0</td></tr>\n",
       "</table>"
      ],
      "text/plain": [
       "<Table masked=True length=89>\n",
       "     name          ra       dec     type  redshift   mag     diam \n",
       "    str24       float64   float64   str6  float64  float32 float32\n",
       "-------------- --------- --------- ------ -------- ------- -------\n",
       "     UGC 12891   0.08167  22.99194  GPair       --    15.1     1.5\n",
       "       ARP 051   1.56983 -13.44808      G       --    15.0     3.0\n",
       "      NGC 7829   1.62075 -13.42061      G  0.01907    15.4     3.0\n",
       "       ARP 246   1.71958   8.35111  GPair       --    15.3     3.0\n",
       "     UGC 00212   5.59596  -1.30339      G 0.016238    15.0     3.0\n",
       "     UGC 00224   5.90708  -0.50639  GPair       --    15.4     3.0\n",
       "       IC 0018   7.14567 -11.58669      G 0.020251   15.46     3.0\n",
       "       IC 0019   7.16452 -11.64078      G 0.020671    15.0     3.0\n",
       "       ARP 251  13.45158 -13.85692  GTrpl       --    15.5     1.5\n",
       "      NGC 0386  16.88039  32.36199      G 0.018533   15.33     3.0\n",
       "           ...       ...       ...    ...      ...     ...     ...\n",
       " KUG 1603+179A 241.37763  17.76866      G 0.037322    15.9     3.0\n",
       "       ARP 172 241.38958  17.59722  GPair       --    15.0     3.0\n",
       "       IC 1181 241.39105   17.5937      G 0.033066    15.5     3.0\n",
       "     UGC 10491 249.55671    41.936  GPair 0.027079    15.0     3.0\n",
       "       ARP 208 252.75917  47.22222  GPair       --    15.2     3.0\n",
       "      NGC 6285 254.60004  58.95597      G 0.018983    15.3     3.0\n",
       "       IC 1260 261.88215  58.47586      G 0.026129    15.7     3.0\n",
       "     NGC 6621S 273.24917  68.35389      G 0.021568    16.0     3.0\n",
       "     UGC 12665 353.41108  30.03897      G 0.017929    15.1     3.0\n",
       "NGC 3746 Group  174.4588    21.998 GGroup 0.030094    15.0     7.0"
      ]
     },
     "execution_count": 10,
     "metadata": {},
     "output_type": "execute_result"
    }
   ],
   "source": [
    "names = ('number', 'name', 'ra', 'dec', 'type', 'velocity', 'redshift', 'zflag', \n",
    "         'mag', 'separation', 'refs', 'notes', 'nphot', 'pos', 'zref', 'diampoints', 'assoc')\n",
    "cat = ascii.read(os.path.join(gallerydir, 'arp.txt'), names=names, delimiter='|', \n",
    "                 format='basic')\n",
    "cat = cat[ ['name', 'ra', 'dec', 'type', 'redshift', 'mag'] ]\n",
    "\n",
    "for gal in ('NGC 3746', 'NGC 3745', 'NGC 3748', 'NGC 3754', \n",
    "            'NGC 3753', 'NGC 3750', 'ARP 320', 'NGC 3751',\n",
    "            'ARP 064', 'NGC 7837', 'NGC 7838', 'NGC 7752',\n",
    "            'ARP 132E'):\n",
    "    ww = np.where( cat['name'] == gal )[0]\n",
    "    if len(ww) > 0:\n",
    "        cat.remove_rows(ww)\n",
    "\n",
    "# Replace the NGC3746 galaxies with the center of the group.\n",
    "cat.add_row( ['NGC 3746 Group', 174.4588, 21.9980, 'GGroup', 0.030094, 15] )\n",
    "\n",
    "nobj = len(cat)\n",
    "\n",
    "goodname1 = np.array(['NED' not in nn for nn in ma.getdata(cat['name'])])\n",
    "goodname2 = np.array(['NOTES' not in nn for nn in ma.getdata(cat['name'])])\n",
    "goodname = goodname1 * goodname2\n",
    "\n",
    "tt = ma.getdata(cat['type'])\n",
    "keep = np.logical_and( (tt != 'HII'), (tt != 'PofG') )\n",
    "keep = np.logical_and( keep, (tt != 'QSO') )\n",
    "#keep = np.logical_and( keep, (tt != 'G') )\n",
    "keep = np.logical_and( keep, goodname)\n",
    "\n",
    "mag = ma.getdata(cat['mag'])\n",
    "for filt in ('g', 'V', 'B', '+', 'b', ':', 'E', 'A', 'r', 'R', 'P', 'K'):\n",
    "    mag = [mm.replace(filt, ' ') for mm in mag]\n",
    "mag = np.array(mag).astype('f4')\n",
    "cat['mag'] = mag\n",
    "#plt.hist(mag)\n",
    "magkeep = (mag >= 15) * (mag <= 16)\n",
    "keep = np.logical_and( keep, magkeep)\n",
    "\n",
    "# Toss out some boring ones\n",
    "keep = np.logical_and( keep, cat['name'] != 'ARK 045' )\n",
    "keep = np.logical_and( keep, cat['name'] != 'UGC 08610' )\n",
    "\n",
    "cat = cat[keep]\n",
    "nobj = len(cat)\n",
    "\n",
    "print(np.unique(ma.getdata(cat['type'])))\n",
    "\n",
    "# Add diameters\n",
    "cat['diam'] = np.repeat(3.0, nobj).astype('f4')\n",
    "#cat['diam'][cat['type'] == 'GPair'] = 3\n",
    "cat['diam'][np.where(cat['name'] == 'UGC 12891')[0]] = 1.5\n",
    "cat['diam'][np.where(cat['name'] == 'IC 3481A')[0]] = 5.0\n",
    "cat['diam'][np.where(cat['name'] == 'IC 0803')[0]] = 2\n",
    "cat['diam'][np.where(cat['name'] == 'UGC 09561')[0]] = 4\n",
    "cat['diam'][np.where(cat['name'] == 'ARP 251')[0]] = 1.5\n",
    "cat['diam'][np.where(cat['name'] == 'ARP 088')[0]] = 1.1\n",
    "cat['diam'][np.where(cat['name'] == 'MRK 0983')[0]] = 1.1\n",
    "cat['diam'][np.where(cat['name'] == 'NGC 3068')[0]] = 5\n",
    "cat['diam'][np.where(cat['name'] == 'UGC 07085A')[0]] = 4\n",
    "cat['diam'][np.where(cat['name'] == 'ARP 139')[0]] = 2\n",
    "cat['diam'][np.where(cat['name'] == 'ARP 218')[0]] = 2\n",
    "cat['diam'][np.where(cat['name'] == 'NGC 3746 Group')[0]] = 7\n",
    "\n",
    "# Adjust the center of NGC5613 to pull in NGC 5614\n",
    "ww = np.where(cat['name'] == 'NGC 5613')[0]\n",
    "cat['name'][ww] = 'NGC 5614 Group'\n",
    "cat['ra'][ww] = 216.0285\n",
    "cat['dec'][ww] = 34.8731\n",
    "cat['diam'][ww] = 4\n",
    "cat['type'][ww] = 'GGroup'\n",
    "\n",
    "# Adjust the center of IC4526 to pull in NGC 5829\n",
    "ww = np.where(cat['name'] == 'IC 4526')[0]\n",
    "cat['name'][ww] = 'NGC 5829 Group'\n",
    "cat['ra'][ww] = 225.6650\n",
    "cat['dec'][ww] = 23.3434\n",
    "cat['diam'][ww] = 3.5\n",
    "cat['type'][ww] = 'GGroup'\n",
    "\n",
    "# Adjust the center of NGC5994 to pull in NGC 5996\n",
    "ww = np.where(cat['name'] == 'NGC 5994')[0]\n",
    "cat['name'][ww] = 'NGC 5996 Group'\n",
    "cat['ra'][ww] = 236.7329\n",
    "cat['dec'][ww] = 17.8811\n",
    "cat['diam'][ww] = 3.5\n",
    "cat['type'][ww] = 'GGroup'\n",
    "\n",
    "#print(cat[np.where(cat['name'] == 'NGC 5994')])\n",
    "cat"
   ]
  },
  {
   "cell_type": "markdown",
   "metadata": {},
   "source": [
    "### Restrict to objects that are in the DR7 footprint."
   ]
  },
  {
   "cell_type": "code",
   "execution_count": 11,
   "metadata": {},
   "outputs": [],
   "source": [
    "survey = LegacySurveyData()\n",
    "survey.output_dir = gallerydir"
   ]
  },
  {
   "cell_type": "code",
   "execution_count": 12,
   "metadata": {},
   "outputs": [],
   "source": [
    "def get_name(cat, nice=False):\n",
    "    #import pdb ; pdb.set_trace()\n",
    "    name = np.atleast_1d(cat['name'])\n",
    "    if nice:\n",
    "        outname = name\n",
    "    else:\n",
    "        outname = np.array([nn.replace(' ', '_').lower() for nn in name])\n",
    "        \n",
    "    if len(outname) == 1:\n",
    "        outname = outname[0]\n",
    "    return outname"
   ]
  },
  {
   "cell_type": "code",
   "execution_count": 13,
   "metadata": {},
   "outputs": [],
   "source": [
    "def simple_wcs(obj, diam):\n",
    "    \"\"\"Build a simple WCS object for a single object.\"\"\"\n",
    "    size = np.rint(diam / PIXSCALE).astype('int') # [pixels]\n",
    "    wcs = Tan(obj['ra'], obj['dec'], size/2+0.5, size/2+0.5,\n",
    "                 -PIXSCALE/3600.0, 0.0, 0.0, PIXSCALE/3600.0, \n",
    "                 float(size), float(size))\n",
    "    return wcs"
   ]
  },
  {
   "cell_type": "code",
   "execution_count": 14,
   "metadata": {},
   "outputs": [],
   "source": [
    "def _build_sample_one(args):\n",
    "    \"\"\"Wrapper function for the multiprocessing.\"\"\"\n",
    "    return build_sample_one(*args)"
   ]
  },
  {
   "cell_type": "code",
   "execution_count": 15,
   "metadata": {},
   "outputs": [],
   "source": [
    "def build_sample_one(obj, factor=2, verbose=False):\n",
    "    \"\"\"Wrapper function to find overlapping grz CCDs for a given object.\n",
    "    \n",
    "    \"\"\"\n",
    "    #print('Working on {}...'.format(obj['arp']))\n",
    "    diam = factor * obj['diam'] * 60.0 # diameter [arcsec]\n",
    "    wcs = simple_wcs(obj, diam)\n",
    "    try:\n",
    "        ccds = survey.ccds_touching_wcs(wcs) # , ccdrad=2*diam/3600)\n",
    "    except:\n",
    "        return None\n",
    "    \n",
    "    if ccds:\n",
    "        # Is there 3-band coverage?\n",
    "        if 'g' in ccds.filter and 'r' in ccds.filter and 'z' in ccds.filter:\n",
    "            if verbose:\n",
    "                print('For {} found {} CCDs, RA = {:.5f}, Dec = {:.5f}, Diameter={:.4f} arcmin'.format(\n",
    "                        obj['name'], len(ccds), obj['ra'], obj['dec'], obj['diam']))\n",
    "            return obj\n",
    "    return None"
   ]
  },
  {
   "cell_type": "code",
   "execution_count": 16,
   "metadata": {},
   "outputs": [],
   "source": [
    "def build_sample(cat, factor=2, use_nproc=nproc):\n",
    "    \"\"\"Build the full sample with grz coverage in DR7.\"\"\"\n",
    "\n",
    "    sampleargs = list()\n",
    "    for cc in cat:\n",
    "        sampleargs.append( (cc, factor, True) ) # the False refers to verbose=False\n",
    "\n",
    "    if use_nproc > 1:\n",
    "        p = multiprocessing.Pool(nproc)\n",
    "        result = p.map(_build_sample_one, sampleargs)\n",
    "        p.close()\n",
    "    else:\n",
    "        result = list()\n",
    "        for args in sampleargs:\n",
    "            result.append(_build_sample_one(args))\n",
    "\n",
    "    # Remove non-matching objects and write out the sample\n",
    "    outcat = vstack(list(filter(None, result)))\n",
    "    print('Found {}/{} objects in the DR7 footprint.'.format(len(outcat), len(cat)))\n",
    "    \n",
    "    return outcat"
   ]
  },
  {
   "cell_type": "code",
   "execution_count": 17,
   "metadata": {},
   "outputs": [
    {
     "name": "stdout",
     "output_type": "stream",
     "text": [
      "Building the sample.\n",
      "Logging to /global/cscratch1/sd/ioannis/dr7/build-sample.log\n",
      "Found 38/89 objects in the DR7 footprint.\n",
      "Total time = 0.475 seconds.\n"
     ]
    }
   ],
   "source": [
    "samplelogfile = os.path.join(gallerydir, 'build-sample.log')\n",
    "print('Building the sample.')\n",
    "print('Logging to {}'.format(samplelogfile))\n",
    "t0 = time.time()\n",
    "with open(samplelogfile, 'w') as log:\n",
    "    with redirect_stdout(log):\n",
    "        sample = build_sample(cat)\n",
    "print('Found {}/{} objects in the DR7 footprint.'.format(len(sample), len(cat)))\n",
    "print('Total time = {:.3f} seconds.'.format(time.time() - t0))"
   ]
  },
  {
   "cell_type": "code",
   "execution_count": 18,
   "metadata": {},
   "outputs": [
    {
     "name": "stdout",
     "output_type": "stream",
     "text": [
      "Writing /global/cscratch1/sd/ioannis/dr7/sample-dr7.fits\n"
     ]
    }
   ],
   "source": [
    "print('Writing {}'.format(samplefile))\n",
    "sample.write(samplefile, overwrite=True)"
   ]
  },
  {
   "cell_type": "code",
   "execution_count": 19,
   "metadata": {},
   "outputs": [
    {
     "data": {
      "text/html": [
       "&lt;Table masked=True length=38&gt;\n",
       "<table id=\"table47764497939312\" class=\"table-striped table-bordered table-condensed\">\n",
       "<thead><tr><th>name</th><th>ra</th><th>dec</th><th>type</th><th>redshift</th><th>mag</th><th>diam</th></tr></thead>\n",
       "<thead><tr><th>str24</th><th>float64</th><th>float64</th><th>str6</th><th>float64</th><th>float32</th><th>float32</th></tr></thead>\n",
       "<tr><td>UGC 12891</td><td>0.08167</td><td>22.99194</td><td>GPair</td><td>--</td><td>15.1</td><td>1.5</td></tr>\n",
       "<tr><td>ARP 246</td><td>1.71958</td><td>8.35111</td><td>GPair</td><td>--</td><td>15.3</td><td>3.0</td></tr>\n",
       "<tr><td>UGC 00212</td><td>5.59596</td><td>-1.30339</td><td>G</td><td>0.016238</td><td>15.0</td><td>3.0</td></tr>\n",
       "<tr><td>UGC 00224</td><td>5.90708</td><td>-0.50639</td><td>GPair</td><td>--</td><td>15.4</td><td>3.0</td></tr>\n",
       "<tr><td>ARP 251</td><td>13.45158</td><td>-13.85692</td><td>GTrpl</td><td>--</td><td>15.5</td><td>1.5</td></tr>\n",
       "<tr><td>IC 1623B</td><td>16.94817</td><td>-17.50697</td><td>G</td><td>0.020304</td><td>15.5</td><td>3.0</td></tr>\n",
       "<tr><td>UGC 00827</td><td>19.36958</td><td>14.70333</td><td>GPair</td><td>0.037866</td><td>15.4</td><td>3.0</td></tr>\n",
       "<tr><td>ARP 088</td><td>19.77167</td><td>12.47333</td><td>GPair</td><td>--</td><td>16.0</td><td>1.1</td></tr>\n",
       "<tr><td>MRK 0983</td><td>19.84406</td><td>12.40362</td><td>G</td><td>0.0479</td><td>16.0</td><td>1.1</td></tr>\n",
       "<tr><td>ARP 054</td><td>36.011</td><td>-4.69297</td><td>G</td><td>0.043337</td><td>15.02</td><td>3.0</td></tr>\n",
       "<tr><td>...</td><td>...</td><td>...</td><td>...</td><td>...</td><td>...</td><td>...</td></tr>\n",
       "<tr><td>IC 4462</td><td>218.75793</td><td>26.54392</td><td>G</td><td>0.030705</td><td>15.2</td><td>3.0</td></tr>\n",
       "<tr><td>UGC 09425</td><td>219.46196</td><td>30.48122</td><td>GPair</td><td>0.034717</td><td>15.0</td><td>3.0</td></tr>\n",
       "<tr><td>UGC 09503</td><td>221.35976</td><td>19.46572</td><td>G</td><td>0.031342</td><td>15.1</td><td>3.0</td></tr>\n",
       "<tr><td>ARP 047</td><td>221.80667</td><td>18.85861</td><td>GPair</td><td>0.042049</td><td>15.4</td><td>3.0</td></tr>\n",
       "<tr><td>UGC 09532</td><td>221.98021</td><td>19.05747</td><td>GGroup</td><td>0.0421</td><td>15.1</td><td>3.0</td></tr>\n",
       "<tr><td>UGC 09561</td><td>222.86642</td><td>9.32194</td><td>G</td><td>0.02959</td><td>15.6</td><td>4.0</td></tr>\n",
       "<tr><td>NGC 5829 Group</td><td>225.665</td><td>23.3434</td><td>GGroup</td><td>0.045648</td><td>15.7</td><td>3.5</td></tr>\n",
       "<tr><td>NGC 5996 Group</td><td>236.7329</td><td>17.8811</td><td>GGroup</td><td>0.010974</td><td>15.6</td><td>3.5</td></tr>\n",
       "<tr><td>ARP 218</td><td>238.3975</td><td>18.60722</td><td>GPair</td><td>--</td><td>15.6</td><td>2.0</td></tr>\n",
       "<tr><td>NGC 3746 Group</td><td>174.4588</td><td>21.998</td><td>GGroup</td><td>0.030094</td><td>15.0</td><td>7.0</td></tr>\n",
       "</table>"
      ],
      "text/plain": [
       "<Table masked=True length=38>\n",
       "     name          ra       dec     type  redshift   mag     diam \n",
       "    str24       float64   float64   str6  float64  float32 float32\n",
       "-------------- --------- --------- ------ -------- ------- -------\n",
       "     UGC 12891   0.08167  22.99194  GPair       --    15.1     1.5\n",
       "       ARP 246   1.71958   8.35111  GPair       --    15.3     3.0\n",
       "     UGC 00212   5.59596  -1.30339      G 0.016238    15.0     3.0\n",
       "     UGC 00224   5.90708  -0.50639  GPair       --    15.4     3.0\n",
       "       ARP 251  13.45158 -13.85692  GTrpl       --    15.5     1.5\n",
       "      IC 1623B  16.94817 -17.50697      G 0.020304    15.5     3.0\n",
       "     UGC 00827  19.36958  14.70333  GPair 0.037866    15.4     3.0\n",
       "       ARP 088  19.77167  12.47333  GPair       --    16.0     1.1\n",
       "      MRK 0983  19.84406  12.40362      G   0.0479    16.0     1.1\n",
       "       ARP 054    36.011  -4.69297      G 0.043337   15.02     3.0\n",
       "           ...       ...       ...    ...      ...     ...     ...\n",
       "       IC 4462 218.75793  26.54392      G 0.030705    15.2     3.0\n",
       "     UGC 09425 219.46196  30.48122  GPair 0.034717    15.0     3.0\n",
       "     UGC 09503 221.35976  19.46572      G 0.031342    15.1     3.0\n",
       "       ARP 047 221.80667  18.85861  GPair 0.042049    15.4     3.0\n",
       "     UGC 09532 221.98021  19.05747 GGroup   0.0421    15.1     3.0\n",
       "     UGC 09561 222.86642   9.32194      G  0.02959    15.6     4.0\n",
       "NGC 5829 Group   225.665   23.3434 GGroup 0.045648    15.7     3.5\n",
       "NGC 5996 Group  236.7329   17.8811 GGroup 0.010974    15.6     3.5\n",
       "       ARP 218  238.3975  18.60722  GPair       --    15.6     2.0\n",
       "NGC 3746 Group  174.4588    21.998 GGroup 0.030094    15.0     7.0"
      ]
     },
     "execution_count": 19,
     "metadata": {},
     "output_type": "execute_result"
    }
   ],
   "source": [
    "sample"
   ]
  },
  {
   "cell_type": "code",
   "execution_count": 20,
   "metadata": {},
   "outputs": [],
   "source": [
    "def qa_sample():\n",
    "    fig, ax = plt.subplots()\n",
    "    ax.scatter(cat['ra'], cat['dec'], alpha=0.5, s=10, label='Arp Catalog')\n",
    "    ax.scatter(sample['ra'], sample['dec'], s=20, label='Objects in DR7 Footprint')\n",
    "    ax.set_xlabel('RA')\n",
    "    ax.set_ylabel('Dec')\n",
    "    ax.legend(loc='lower right')"
   ]
  },
  {
   "cell_type": "code",
   "execution_count": 21,
   "metadata": {},
   "outputs": [
    {
     "data": {
      "image/png": "[encoded data removed]",
      "text/plain": [
       "<Figure size 432x288 with 1 Axes>"
      ]
     },
     "metadata": {},
     "output_type": "display_data"
    }
   ],
   "source": [
    "qa_sample()"
   ]
  },
  {
   "cell_type": "markdown",
   "metadata": {},
   "source": [
    "### Generate the color mosaics for each object."
   ]
  },
  {
   "cell_type": "code",
   "execution_count": 22,
   "metadata": {},
   "outputs": [],
   "source": [
    "def custom_brickname(obj, prefix='custom-'): \n",
    "    brickname = 'custom-{:06d}{}{:05d}'.format(\n",
    "        int(1000*obj['ra']), 'm' if obj['dec'] < 0 else 'p', \n",
    "        int(1000*np.abs(obj['dec'])))\n",
    "    return brickname"
   ]
  },
  {
   "cell_type": "code",
   "execution_count": 50,
   "metadata": {},
   "outputs": [],
   "source": [
    "def custom_coadds_one(obj, scale=PIXSCALE, clobber=False, log=None):\n",
    "    import subprocess\n",
    "    #from legacypipe.runbrick import run_brick\n",
    "    #from astrometry.util.multiproc import multiproc\n",
    "    #from legacypipe.runbrick import stage_tims, run_brick\n",
    "    #from legacypipe.coadds import make_coadds\n",
    "\n",
    "    name = get_name(obj)\n",
    "    jpgfile = os.path.join(jpgdir, '{}.jpg'.format(name))\n",
    "    if os.path.isfile(jpgfile) and not clobber:\n",
    "        print('File {} exists...skipping.'.format(jpgfile))\n",
    "    else:\n",
    "        size = np.rint(obj['diam'] * 60 / scale).astype('int') # [pixels]\n",
    "        #print('Generating mosaic for {} with width={} pixels.'.format(name, size))\n",
    "        \n",
    "        bands = ('g', 'r', 'z')\n",
    "        rgb_kwargs = dict({'Q': 20, 'm': 0.03})\n",
    "            \n",
    "        brickname = custom_brickname(obj, prefix='custom-')\n",
    "        \n",
    "        cmd = 'python {legacypipe_dir}/py/legacypipe/runbrick.py '\n",
    "        cmd += '--radec {ra} {dec} --width {width} --height {width} --pixscale {pixscale} '\n",
    "        cmd += '--threads {threads} --outdir {outdir} --no-write '\n",
    "        cmd += '--stage image_coadds --force-all --skip-calibs '#' --apodize '\n",
    "    \n",
    "        cmd = cmd.format(legacypipe_dir=os.getenv('LEGACYPIPE_DIR'), \n",
    "                         ra=obj['ra'], dec=obj['dec'], width=size,\n",
    "                         pixscale=scale, threads=nproc, outdir=gallerydir)\n",
    "    \n",
    "        print(cmd, flush=True, file=log)\n",
    "        err = subprocess.call(cmd.split(), stdout=log, stderr=log)\n",
    "        if err != 0:\n",
    "            print('Something we wrong; please check the logfile for {}.'.format(name))\n",
    "            return 0\n",
    "        else:\n",
    "            #with warnings.catch_warnings():\n",
    "            #    warnings.simplefilter(\"ignore\")\n",
    "            #    run_brick(None, survey, radec=(obj['ra'], obj['dec']), pixscale=scale, \n",
    "            #              width=size, height=size, rgb_kwargs=rgb_kwargs, threads=nproc, \n",
    "            #              stages=['image_coadds'], splinesky=True, early_coadds=True, pixPsf=True, \n",
    "            #              hybridPsf=True, normalizePsf=True, write_pickles=False, depth_cut=False, \n",
    "            #              apodize=True, do_calibs=False, ceres=False)\n",
    "            #sys.stdout.flush()    \n",
    "            \n",
    "            _jpgfile = os.path.join(survey.output_dir, 'coadd', 'cus', brickname, \n",
    "                                   'legacysurvey-{}-image.jpg'.format(brickname))\n",
    "            shutil.copy(_jpgfile, jpgfile)\n",
    "            shutil.rmtree(os.path.join(survey.output_dir, 'coadd'))"
   ]
  },
  {
   "cell_type": "code",
   "execution_count": 24,
   "metadata": {},
   "outputs": [],
   "source": [
    "#custom_coadds_one(sample[0], clobber=True)"
   ]
  },
  {
   "cell_type": "code",
   "execution_count": 25,
   "metadata": {},
   "outputs": [],
   "source": [
    "def custom_coadds(sample, clobber=False, log=None):\n",
    "    for obj in sample:\n",
    "        custom_coadds_one(obj, clobber=clobber, log=log)"
   ]
  },
  {
   "cell_type": "code",
   "execution_count": 51,
   "metadata": {},
   "outputs": [
    {
     "name": "stdout",
     "output_type": "stream",
     "text": [
      "Generating the coadds.\n",
      "Logging to /global/cscratch1/sd/ioannis/dr7/make-coadds.log\n",
      "Total time = 5.649 minutes.\n"
     ]
    }
   ],
   "source": [
    "coaddslogfile = os.path.join(gallerydir, 'make-coadds.log')\n",
    "print('Generating the coadds.')\n",
    "print('Logging to {}'.format(coaddslogfile))\n",
    "t0 = time.time()\n",
    "with open(coaddslogfile, 'w') as log:\n",
    "    #with redirect_stdout(log):\n",
    "    custom_coadds(sample, clobber=True, log=log)\n",
    "print('Total time = {:.3f} minutes.'.format((time.time() - t0) / 60))"
   ]
  },
  {
   "cell_type": "markdown",
   "metadata": {},
   "source": [
    "### Add labels and a scale bar."
   ]
  },
  {
   "cell_type": "code",
   "execution_count": 45,
   "metadata": {},
   "outputs": [],
   "source": [
    "barlen = np.round(60.0 / PIXSCALE).astype('int')\n",
    "fonttype = os.path.join(gallerydir, 'Georgia.ttf')"
   ]
  },
  {
   "cell_type": "code",
   "execution_count": 46,
   "metadata": {},
   "outputs": [],
   "source": [
    "def _add_labels_one(args):\n",
    "    \"\"\"Wrapper function for the multiprocessing.\"\"\"\n",
    "    return add_labels_one(*args)"
   ]
  },
  {
   "cell_type": "code",
   "execution_count": 47,
   "metadata": {},
   "outputs": [],
   "source": [
    "def add_labels_one(obj, verbose=False):\n",
    "    name = get_name(obj)\n",
    "    nicename = get_name(obj, nice=True)\n",
    "    \n",
    "    jpgfile = os.path.join(jpgdir, '{}.jpg'.format(name))\n",
    "    pngfile = os.path.join(pngdir, '{}.png'.format(name))\n",
    "    thumbfile = os.path.join(pngdir, 'thumb-{}.png'.format(name))\n",
    "        \n",
    "    im = Image.open(jpgfile)\n",
    "    sz = im.size\n",
    "    fntsize = np.round(sz[0]/28).astype('int')\n",
    "    width = np.round(sz[0]/175).astype('int')\n",
    "    font = ImageFont.truetype(fonttype, size=fntsize)\n",
    "    draw = ImageDraw.Draw(im)\n",
    "    # Label the object name--\n",
    "    draw.text((0+fntsize*2, 0+fntsize*2), nicename, font=font)\n",
    "    # Add a scale bar--\n",
    "    x0, x1, yy = sz[1]-fntsize*2-barlen, sz[1]-fntsize*2, sz[0]-fntsize*2\n",
    "    draw.line((x0, yy, x1, yy), fill='white', width=width)\n",
    "    im.save(pngfile)    \n",
    "        \n",
    "    # Generate a thumbnail\n",
    "    if True:\n",
    "        cmd = '/usr/bin/convert -thumbnail 300x300 {} {}'.format(pngfile, thumbfile)\n",
    "        os.system(cmd)"
   ]
  },
  {
   "cell_type": "code",
   "execution_count": 48,
   "metadata": {},
   "outputs": [],
   "source": [
    "def add_labels(sample):\n",
    "    labelargs = list()\n",
    "    for obj in sample:\n",
    "        labelargs.append((obj, False))\n",
    "\n",
    "    #if False:\n",
    "    if nproc > 1:\n",
    "        p = multiprocessing.Pool(nproc)\n",
    "        res = p.map(_add_labels_one, labelargs)\n",
    "        p.close()\n",
    "    else:\n",
    "        for args in labelargs:\n",
    "            res = _add_labels_one(args)"
   ]
  },
  {
   "cell_type": "code",
   "execution_count": 52,
   "metadata": {},
   "outputs": [
    {
     "name": "stdout",
     "output_type": "stream",
     "text": [
      "CPU times: user 32.1 ms, sys: 135 ms, total: 167 ms\n",
      "Wall time: 2.73 s\n"
     ]
    }
   ],
   "source": [
    "%time add_labels(sample)"
   ]
  },
  {
   "cell_type": "markdown",
   "metadata": {
    "collapsed": true
   },
   "source": [
    "### Finally, assemble the webpage of good and rejected gallery images.\n",
    "\n",
    "To test the webpage before release, do\n",
    "\n",
    "    rsync -auvP /global/cscratch1/sd/ioannis/dr7/png /global/project/projectdirs/cosmo/www/temp/ioannis/dr7/gallery/\n",
    "    rsync -auvP /global/cscratch1/sd/ioannis/dr7/*.html /global/project/projectdirs/cosmo/www/temp/ioannis/dr7/gallery/\n",
    "\n"
   ]
  },
  {
   "cell_type": "code",
   "execution_count": 32,
   "metadata": {},
   "outputs": [
    {
     "name": "stdout",
     "output_type": "stream",
     "text": [
      "Rejecting 4 objects.\n"
     ]
    }
   ],
   "source": [
    "reject = ['arp_246', 'ic_0298', 'ugc_09532', 'ugca_173', 'ugca_174']\n",
    "toss = np.zeros(len(sample), dtype=bool)\n",
    "name = get_name(sample)\n",
    "for ii, nn in enumerate(name):\n",
    "    for rej in np.atleast_1d(reject):\n",
    "        toss[ii] = rej in nn.lower()\n",
    "        if toss[ii]:\n",
    "            break\n",
    "print('Rejecting {} objects.'.format(np.sum(toss)))\n",
    "pngkeep = sample[~toss]\n",
    "if np.sum(toss) > 0:\n",
    "    pngrej = sample[toss]\n",
    "else:\n",
    "    pngrej = []"
   ]
  },
  {
   "cell_type": "code",
   "execution_count": 39,
   "metadata": {},
   "outputs": [],
   "source": [
    "htmlfile = os.path.join(gallerydir, 'index.html')\n",
    "htmlfile_reject = os.path.join(gallerydir, 'index-reject.html')\n",
    "baseurl = 'http://legacysurvey.org/viewer'"
   ]
  },
  {
   "cell_type": "code",
   "execution_count": 53,
   "metadata": {},
   "outputs": [],
   "source": [
    "def html_rows(pngkeep, nperrow=4):\n",
    "    nrow = np.ceil(len(pngkeep) / nperrow).astype('int')\n",
    "    pngsplit = list()\n",
    "    for ii in range(nrow):\n",
    "        i1 = nperrow*ii\n",
    "        i2 = nperrow*(ii+1)\n",
    "        if i2 > len(pngkeep):\n",
    "            i2 = len(pngkeep)\n",
    "        pngsplit.append(pngkeep[i1:i2])\n",
    "    #pngsplit = np.array_split(pngkeep, nrow)\n",
    "    print('Splitting the sample into {} rows with {} mosaics per row.'.format(nrow, nperrow))\n",
    "\n",
    "    html.write('<table class=\"ls-gallery\">\\n')\n",
    "    html.write('<tbody>\\n')\n",
    "    for pngrow in pngsplit:\n",
    "        html.write('<tr>\\n')\n",
    "        for obj in pngrow:\n",
    "            name = get_name(obj)\n",
    "            nicename = get_name(obj, nice=True)\n",
    "            pngfile = os.path.join('png', '{}.png'.format(name))\n",
    "            thumbfile = os.path.join('png', 'thumb-{}.png'.format(name))\n",
    "            img = 'src=\"{}\" alt=\"{}\"'.format(thumbfile, nicename)\n",
    "            #img = 'class=\"ls-gallery\" src=\"{}\" alt=\"{}\"'.format(thumbfile, nicename)\n",
    "            html.write('<td><a href=\"{}\"><img {}></a></td>\\n'.format(pngfile, img))\n",
    "        html.write('</tr>\\n')\n",
    "        html.write('<tr>\\n')\n",
    "        for obj in pngrow:\n",
    "            nicename = get_name(obj, nice=True)\n",
    "            href = '{}/?layer=decals-{}&ra={:.8f}&dec={:.8f}&zoom=12'.format(baseurl, dr, obj['ra'], obj['dec'])\n",
    "            html.write('<td><a href=\"{}\" target=\"_blank\">{}</a></td>\\n'.format(href, nicename))\n",
    "        html.write('</tr>\\n')\n",
    "    html.write('</tbody>\\n')            \n",
    "    html.write('</table>\\n')"
   ]
  },
  {
   "cell_type": "code",
   "execution_count": 54,
   "metadata": {},
   "outputs": [
    {
     "name": "stdout",
     "output_type": "stream",
     "text": [
      "Splitting the sample into 9 rows with 4 mosaics per row.\n"
     ]
    }
   ],
   "source": [
    "with open(htmlfile, 'w') as html:\n",
    "    html.write('<html><head>\\n')\n",
    "    html.write('<style type=\"text/css\">\\n')\n",
    "    html.write('table.ls-gallery {width: 90%;}\\n')\n",
    "    #html.write('img.ls-gallery {display: block;}\\n')\n",
    "    #html.write('td.ls-gallery {width: 100%; height: auto}\\n')\n",
    "    #html.write('td.ls-gallery {width: 100%; word-wrap: break-word;}\\n')\n",
    "    html.write('p.ls-gallery {width: 80%;}\\n')\n",
    "    html.write('</style>\\n')\n",
    "    html.write('</head><body>\\n')\n",
    "    html.write('<h1>DR7 Image Gallery</h1>\\n')\n",
    "    \n",
    "    #1966ApJS...14....1A\n",
    "    \n",
    "    html.write(\"\"\"<p class=\"ls-gallery\">This data release's gallery highlights the wide range\n",
    "    of galaxies in Halton Arp's <i>Atlas of Peculiar Galaxies</i>.</p>\\n <p>Each thumbnail links \n",
    "    to a larger image while the object name below each thumbnail links to the \n",
    "    <a href=\"http://legacysurvey.org/viewer\">Sky Viewer</a>.  For reference, the horizontal white bar in \n",
    "    the lower-right corner of each image represents one arcminute.</p>\\n\"\"\")\n",
    "    html.write(\"\"\"<p>For more eye candy, please visit the gallery of objects highlighted in the \n",
    "    <a href=\"http://portal.nersc.gov/project/cosmo/data/legacysurvey/dr6/gallery/\">DR6 Gallery.</a></p>\\n\"\"\")\n",
    "    \n",
    "    html_rows(pngkeep)\n",
    "    html.write('<br />\\n')\n",
    "\n",
    "    html.write('</body></html>\\n')"
   ]
  },
  {
   "cell_type": "code",
   "execution_count": 55,
   "metadata": {},
   "outputs": [
    {
     "name": "stdout",
     "output_type": "stream",
     "text": [
      "Splitting the sample into 1 rows with 4 mosaics per row.\n"
     ]
    }
   ],
   "source": [
    "if len(pngrej) > 0:\n",
    "    with open(htmlfile_reject, 'w') as html:\n",
    "        html.write('<html><head>\\n')\n",
    "        html.write('<style type=\"text/css\">\\n')\n",
    "        html.write('img.ls-gallery {display: block;}\\n')\n",
    "        html.write('td.ls-gallery {width: 20%; word-wrap: break-word;}\\n')\n",
    "        html.write('</style>\\n')\n",
    "        html.write('</head><body>\\n')\n",
    "        html.write('<h1>DR6 Image Gallery - Rejected</h1>\\n')\n",
    "        html_rows(pngrej)\n",
    "        html.write('</body></html>\\n')"
   ]
  },
  {
   "cell_type": "code",
   "execution_count": null,
   "metadata": {},
   "outputs": [],
   "source": []
  }
 ],
 "metadata": {
  "anaconda-cloud": {},
  "kernelspec": {
   "display_name": "legacypipe master",
   "language": "python",
   "name": "legacypipe-master"
  },
  "language_info": {
   "codemirror_mode": {
    "name": "ipython",
    "version": 3
   },
   "file_extension": ".py",
   "mimetype": "text/x-python",
   "name": "python",
   "nbconvert_exporter": "python",
   "pygments_lexer": "ipython3",
   "version": "3.6.5"
  }
 },
 "nbformat": 4,
 "nbformat_minor": 2
}
